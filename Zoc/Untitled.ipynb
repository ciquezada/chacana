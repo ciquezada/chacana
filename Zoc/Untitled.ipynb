{
 "cells": [
  {
   "cell_type": "code",
   "execution_count": null,
   "metadata": {},
   "outputs": [],
   "source": [
    "import pandas as pd\n",
    "import numpy as np\n",
    "import astropy.units as u\n",
    "from astropy.time import Time\n",
    "from astropy.coordinates import SkyCoord, EarthLocation, AltAz\n",
    "from pixel_table import PixelTable\n",
    "from tools import ProgressBarCounter\n",
    "from pixel_table_image_handler import ImageHandler\n",
    "from multiprocessing import Pool"
   ]
  },
  {
   "cell_type": "code",
   "execution_count": null,
   "metadata": {},
   "outputs": [],
   "source": [
    "EL_SAUCE = EarthLocation(lat=-30.4726064*u.deg, lon=-70.7653747*u.deg, height=789*u.m)\n",
    "utcoffset = -4*u.hour  # Chile\n",
    "# time = Time('2018-6-13 07:26:12') #- utcoffset\n"
   ]
  },
  {
   "cell_type": "code",
   "execution_count": null,
   "metadata": {},
   "outputs": [],
   "source": [
    "def load_catalog(path, time):\n",
    "    alt_az_frame = AltAz(obstime=time,location=EL_SAUCE)\n",
    "    raw_data = []\n",
    "    header = [\"star_name\", \"Vmag\", \"ra\", \"dec\", \"alt\", \"az\", \"astropy_coords\", \"astropy_altaz\"]\n",
    "    with open(path, \"r\", encoding=\"utf-8\") as file:\n",
    "        for line in file:\n",
    "            if line.replace(\"\\n\",\"\")[75:77] != \"  \":\n",
    "                star_name = line.replace(\"\\n\",\"\")[4:14]\n",
    "                RAh = line.replace(\"\\n\",\"\")[75:77]\n",
    "                RAm = line.replace(\"\\n\",\"\")[77:79]\n",
    "                RAs = line.replace(\"\\n\",\"\")[79:83]\n",
    "                DE_sign = line.replace(\"\\n\",\"\")[83]\n",
    "                DE_deg = line.replace(\"\\n\",\"\")[84:86]\n",
    "                DE_arcmin = line.replace(\"\\n\",\"\")[86:88]\n",
    "                DE_arcseg = line.replace(\"\\n\",\"\")[88:90]\n",
    "                Vmag = float(line.replace(\"\\n\",\"\")[102:107])\n",
    "                \n",
    "                ra = '{}h{}m{}s'.format(RAh,RAm, RAs)\n",
    "                dec = \"{}{}d{}m{}s\".format(DE_sign, DE_deg, DE_arcmin, DE_arcseg)\n",
    "                c = SkyCoord(ra, dec, frame='icrs')\n",
    "                c_altaz = c.transform_to(alt_az_frame)\n",
    "                raw_data.append([star_name, Vmag, c.ra, c.dec, c_altaz.alt.value, c_altaz.az.value, c, c_altaz])\n",
    "    data = pd.DataFrame(raw_data, columns = header)\n",
    "    return data"
   ]
  },
  {
   "cell_type": "code",
   "execution_count": null,
   "metadata": {},
   "outputs": [],
   "source": [
    "def data_to_ra_dec(data):\n",
    "    ra = '{}h{}m{}s'.format(data.RAh,data.RAm, data.RAs)\n",
    "    dec = \"{}{}d{}m{}s\".format(data.DE_sign, data.DE_deg, data.DE_arcmin, data.DE_arcseg)\n",
    "    c = SkyCoord(ra, dec, frame='icrs')\n",
    "    return c"
   ]
  },
  {
   "cell_type": "code",
   "execution_count": null,
   "metadata": {},
   "outputs": [],
   "source": [
    "def data_by_date(time):\n",
    "    data = load_like_dataframe(\"bsc5.dat\")\n",
    "    alt_az_frame = AltAz(obstime=time,location=EL_SAUCE)\n",
    "    data_processed = data.apply(lambda x: pd.Series(\n",
    "                                            [x.star_name, x.Vmag, x.ra, x.dec, x.coords.transform_to(alt_az_frame).alt.value,\n",
    "                                                                                    x.coords.transform_to(alt_az_frame).az.value,\n",
    "                                                                                    x.coords, x.coords.transform_to(alt_az_frame)]\n",
    "                                                    , index=[\"star_name\", \"Vmag\", \"ra\", \"dec\", \"alt\", \"az\", \"astropy_coords\", \"astropy_altaz\"]\n",
    "                                                    ), axis=1)\n",
    "    return data_processed"
   ]
  },
  {
   "cell_type": "code",
   "execution_count": null,
   "metadata": {},
   "outputs": [],
   "source": [
    "df = load_catalog(\"bsc5.dat\", Time(\"2019-9-07 04:00:56\"))"
   ]
  },
  {
   "cell_type": "code",
   "execution_count": null,
   "metadata": {},
   "outputs": [],
   "source": [
    "df_best =  df.query(\"alt > 20 and Vmag < 4\").sort_values(\"Vmag\")\n",
    "df_best"
   ]
  },
  {
   "cell_type": "code",
   "execution_count": null,
   "metadata": {},
   "outputs": [],
   "source": [
    "pixel_map = PixelTable(\"09-10-2019_05h10m24s_Interpolated_Data.pixtab\")"
   ]
  },
  {
   "cell_type": "code",
   "execution_count": null,
   "metadata": {},
   "outputs": [],
   "source": [
    "pixel_map.df.dropna().query(\"(49.7 <= az <= 50.1) and (54.8 <= alt <= 55.2)\").sort_values(\"alt\")"
   ]
  },
  {
   "cell_type": "code",
   "execution_count": null,
   "metadata": {},
   "outputs": [],
   "source": [
    "best_alt_az = ((pixel_map.df.dropna().alt - df_best.iloc[0].alt).abs() + (pixel_map.df.dropna().az - df_best.iloc[0].az).abs())"
   ]
  },
  {
   "cell_type": "code",
   "execution_count": null,
   "metadata": {},
   "outputs": [],
   "source": [
    "pixel_map.df.iloc[best_alt_az.idxmin()]"
   ]
  },
  {
   "cell_type": "code",
   "execution_count": null,
   "metadata": {},
   "outputs": [],
   "source": [
    "def find_nearest_pixel(data, df_pixtab):\n",
    "    best_alt_az = ((df_pixtab.dropna().alt - data.alt).abs()\n",
    "                       + (df_pixtab.dropna().az - data.az).abs())\n",
    "    return pixel_map.df.iloc[best_alt_az.idxmin()]"
   ]
  },
  {
   "cell_type": "code",
   "execution_count": null,
   "metadata": {},
   "outputs": [],
   "source": [
    "find_nearest_pixel(df_best.iloc[0], pixel_map.df)"
   ]
  },
  {
   "cell_type": "code",
   "execution_count": null,
   "metadata": {},
   "outputs": [],
   "source": [
    "df_best.iloc[0]"
   ]
  },
  {
   "cell_type": "code",
   "execution_count": null,
   "metadata": {},
   "outputs": [],
   "source": [
    "def catalogue_on_pixtab(catalogue_df, df_pixtab):\n",
    "    pb = ProgressBarCounter(catalogue_df.shape[0])\n",
    "    pixtab_out = pd.DataFrame()\n",
    "    for indx in catalogue_df.index:\n",
    "        nearest_pixel = find_nearest_pixel(catalogue_df.loc[indx], df_pixtab)\n",
    "        pixtab_out = pd.concat([pixtab_out, nearest_pixel], axis=0, ignore_index = True)\n",
    "        pb.notify()\n",
    "    return pixtab_out"
   ]
  },
  {
   "cell_type": "code",
   "execution_count": null,
   "metadata": {},
   "outputs": [],
   "source": [
    "new_pix = catalogue_on_pixtab(df_best, pixel_map.df)"
   ]
  },
  {
   "cell_type": "code",
   "execution_count": null,
   "metadata": {},
   "outputs": [],
   "source": [
    "preview = ImageHandler(new_pix)"
   ]
  },
  {
   "cell_type": "code",
   "execution_count": null,
   "metadata": {},
   "outputs": [],
   "source": [
    "# def gen_worker_args(catalogue_df, df_pixtab, *args, **kwargs):\n",
    "#     pbar = ProgressBarCounter(catalogue_df.shape[0])\n",
    "#     for indx in catalogue_df.index:\n",
    "#         yield (catalogue_df.loc[indx], df_pixtab, pbar)"
   ]
  },
  {
   "cell_type": "code",
   "execution_count": null,
   "metadata": {},
   "outputs": [],
   "source": [
    "# def worker(args):\n",
    "#     data, df_pixtab, pbar = args\n",
    "#     nearest_pixel = find_nearest_pixel(data, df_pixtab)\n",
    "#     pb.notify()\n",
    "#     return nearest_pixel"
   ]
  },
  {
   "cell_type": "code",
   "execution_count": null,
   "metadata": {},
   "outputs": [],
   "source": [
    "# p = Pool(10)\n",
    "# pixel_list = p.map(worker, gen_worker_args(df_best, pixel_map.df))\n",
    "# p.close()\n",
    "# p.join()\n",
    "# pixel_list = pd.concat(pixel_list, axis=1, ignore_index=True).transpose"
   ]
  },
  {
   "cell_type": "code",
   "execution_count": null,
   "metadata": {},
   "outputs": [],
   "source": [
    "nearest_pixel1 = find_nearest_pixel(df_best.iloc[0], pixel_map.df).transpose()\n",
    "nearest_pixel2 = find_nearest_pixel(df_best.iloc[1], pixel_map.df).transpose()"
   ]
  },
  {
   "cell_type": "code",
   "execution_count": null,
   "metadata": {},
   "outputs": [],
   "source": [
    "pd.concat([nearest_pixel1, nearest_pixel2, nearest_pixel], axis=1, ignore_index=True).transpose()"
   ]
  },
  {
   "cell_type": "code",
   "execution_count": null,
   "metadata": {},
   "outputs": [],
   "source": [
    "nearest_pixel"
   ]
  },
  {
   "cell_type": "markdown",
   "metadata": {},
   "source": [
    "# Probando codigo"
   ]
  },
  {
   "cell_type": "code",
   "execution_count": 1,
   "metadata": {},
   "outputs": [],
   "source": [
    "from catalog_handler import Catalog, CatalogPreview\n",
    "from astropy.time import Time\n",
    "from pixel_table import PixelTable"
   ]
  },
  {
   "cell_type": "code",
   "execution_count": null,
   "metadata": {},
   "outputs": [],
   "source": [
    "catalog = Catalog(\"bsc5.dat\", Time(\"2019-9-07 08:30:10\"))"
   ]
  },
  {
   "cell_type": "code",
   "execution_count": 2,
   "metadata": {},
   "outputs": [],
   "source": [
    "pixtab = PixelTable(\"09-10-2019_05h24m41s_Interpolated_Data_handcraft.pixtab\")"
   ]
  },
  {
   "cell_type": "code",
   "execution_count": null,
   "metadata": {},
   "outputs": [
    {
     "name": "stdout",
     "output_type": "stream",
     "text": [
      "\n",
      "Creando vista previa de pixeles\n",
      "Progress: |█-------------------------------------------------| 2.0% CompleteProgress: |███████████████████████████████████████████-------| 86.0% Complete\r"
     ]
    }
   ],
   "source": [
    "pixtab.preview.az"
   ]
  },
  {
   "cell_type": "code",
   "execution_count": null,
   "metadata": {},
   "outputs": [],
   "source": [
    "catalog.df"
   ]
  },
  {
   "cell_type": "code",
   "execution_count": null,
   "metadata": {},
   "outputs": [],
   "source": [
    "catalog_pixtab = catalog.find_on_pixtab(pixtab.df)"
   ]
  },
  {
   "cell_type": "code",
   "execution_count": null,
   "metadata": {},
   "outputs": [],
   "source": [
    "catalog_pixtab"
   ]
  },
  {
   "cell_type": "code",
   "execution_count": null,
   "metadata": {
    "scrolled": true
   },
   "outputs": [],
   "source": [
    "catalog_pixtab.to_csv(\"Brightest Stars 2019-9-07 08h30m10s Vmag-4 Alt-20.csv\", index=False)"
   ]
  },
  {
   "cell_type": "code",
   "execution_count": null,
   "metadata": {},
   "outputs": [],
   "source": [
    "preview = CatalogPreview(catalog_pixtab)"
   ]
  },
  {
   "cell_type": "code",
   "execution_count": null,
   "metadata": {
    "scrolled": true
   },
   "outputs": [],
   "source": [
    "preview.preview"
   ]
  },
  {
   "cell_type": "code",
   "execution_count": null,
   "metadata": {},
   "outputs": [],
   "source": [
    "preview.save()"
   ]
  },
  {
   "cell_type": "code",
   "execution_count": null,
   "metadata": {
    "scrolled": true
   },
   "outputs": [],
   "source": [
    "pixtab.preview.save()"
   ]
  },
  {
   "cell_type": "code",
   "execution_count": 1,
   "metadata": {},
   "outputs": [],
   "source": [
    "import numpy as np\n",
    "from PIL import Image\n",
    "from astropy.io import fits"
   ]
  },
  {
   "cell_type": "code",
   "execution_count": 2,
   "metadata": {},
   "outputs": [],
   "source": [
    "import matplotlib.pyplot as plt\n",
    "from astropy.visualization import astropy_mpl_style\n",
    "plt.style.use(astropy_mpl_style)"
   ]
  },
  {
   "cell_type": "code",
   "execution_count": 5,
   "metadata": {},
   "outputs": [
    {
     "name": "stdout",
     "output_type": "stream",
     "text": [
      "Image size: 1548 x 1040\n"
     ]
    },
    {
     "data": {
      "text/plain": [
       "<matplotlib.image.AxesImage at 0xa403d0>"
      ]
     },
     "execution_count": 5,
     "metadata": {},
     "output_type": "execute_result"
    },
    {
     "data": {
      "image/png": "[encoded data removed]",
      "text/plain": [
       "<Figure size 432x288 with 1 Axes>"
      ]
     },
     "metadata": {
      "needs_background": "light"
     },
     "output_type": "display_data"
    }
   ],
   "source": [
    "image = Image.open('results\\\\12-09-2019\\\\Brightest Stars 2019-9-07 08h30m10s Vmag-4 Alt-20.png')\n",
    "xsize, ysize = image.size\n",
    "print(\"Image size: {} x {}\".format(xsize, ysize))\n",
    "plt.imshow(image)"
   ]
  },
  {
   "cell_type": "code",
   "execution_count": null,
   "metadata": {},
   "outputs": [],
   "source": [
    "r, g, b, s = image.split()\n",
    "r_data = np.array(r.getdata()) # data is now an array of length ysize*xsize\n",
    "g_data = np.array(g.getdata())\n",
    "b_data = np.array(b.getdata())\n",
    "print(r_data.shape)"
   ]
  },
  {
   "cell_type": "code",
   "execution_count": null,
   "metadata": {},
   "outputs": [],
   "source": [
    "r_data = r_data.reshape(ysize, xsize)\n",
    "g_data = g_data.reshape(ysize, xsize)\n",
    "b_data = b_data.reshape(ysize, xsize)"
   ]
  },
  {
   "cell_type": "code",
   "execution_count": null,
   "metadata": {},
   "outputs": [],
   "source": [
    "red = fits.PrimaryHDU(data=r_data)\n",
    "red.header['LATOBS'] = \"-30.4726064\" # add spurious header info\n",
    "red.header['LONGOBS'] = \"-70.7653747\"\n",
    "red.header['TIME'] = \"2019-9-07 08:30:10\"\n",
    "red.writeto('red.fits')\n",
    "\n",
    "green = fits.PrimaryHDU(data=g_data)\n",
    "green.header['LATOBS'] = \"-30.4726064\" # add spurious header info\n",
    "green.header['LONGOBS'] = \"-70.7653747\"\n",
    "green.header['TIME'] = \"2019-9-07 08:30:10\"\n",
    "green.writeto('green.fits')\n",
    "\n",
    "blue = fits.PrimaryHDU(data=b_data)\n",
    "blue.header['LATOBS'] = \"-30.4726064\" # add spurious header info\n",
    "blue.header['LONGOBS'] = \"-70.7653747\"\n",
    "blue.header['TIME'] = \"2019-9-07 08:30:10\"\n",
    "blue.writeto('blue.fits')"
   ]
  },
  {
   "cell_type": "code",
   "execution_count": null,
   "metadata": {},
   "outputs": [],
   "source": []
  }
 ],
 "metadata": {
  "kernelspec": {
   "display_name": "Python 3",
   "language": "python",
   "name": "python3"
  },
  "language_info": {
   "codemirror_mode": {
    "name": "ipython",
    "version": 3
   },
   "file_extension": ".py",
   "mimetype": "text/x-python",
   "name": "python",
   "nbconvert_exporter": "python",
   "pygments_lexer": "ipython3",
   "version": "3.7.0"
  }
 },
 "nbformat": 4,
 "nbformat_minor": 2
}
