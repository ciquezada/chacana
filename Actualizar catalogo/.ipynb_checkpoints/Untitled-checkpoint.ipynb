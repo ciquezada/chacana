{
 "cells": [
  {
   "cell_type": "markdown",
   "metadata": {},
   "source": [
    "# Actualizador manual del catálogo"
   ]
  },
  {
   "cell_type": "code",
   "execution_count": 15,
   "metadata": {},
   "outputs": [],
   "source": [
    "from catalog_handler_interactivo import Catalog, CatalogImageHandler\n",
    "from pixel_table import PixelTable\n",
    "from astropy.time import Time\n",
    "import astropy.units as u\n",
    "from astropy.coordinates import SkyCoord, EarthLocation, AltAz\n",
    "import pandas as pd\n",
    "import matplotlib.pyplot as plt\n",
    "import numpy as np"
   ]
  },
  {
   "cell_type": "code",
   "execution_count": 2,
   "metadata": {},
   "outputs": [],
   "source": [
    "CATALOG_PATH = \"bsc5.dat\"\n",
    "EL_SAUCE = EarthLocation(lat=-30.4726064*u.deg, lon=-70.7653747*u.deg, height=789*u.m)\n",
    "BEST_QUERY = \"alt > 40 and Vmag < 4\"\n",
    "PIXTAB_PATH = \"Interpolated_Data.pixtab\"\n",
    "OBS_TIME = \"2019-9-7 08:30:10\""
   ]
  },
  {
   "cell_type": "code",
   "execution_count": 3,
   "metadata": {
    "scrolled": true
   },
   "outputs": [
    {
     "name": "stdout",
     "output_type": "stream",
     "text": [
      "Cargando catalogo\n"
     ]
    },
    {
     "data": {
      "application/vnd.jupyter.widget-view+json": {
       "model_id": "4015f99a58ef4ca9a2a556539eeafaf3",
       "version_major": 2,
       "version_minor": 0
      },
      "text/plain": [
       "VBox()"
      ]
     },
     "metadata": {},
     "output_type": "display_data"
    },
    {
     "name": "stdout",
     "output_type": "stream",
     "text": [
      "Exito...\n",
      "Ubicando objetos en el pixtab...\n"
     ]
    },
    {
     "data": {
      "application/vnd.jupyter.widget-view+json": {
       "model_id": "c7c6d1ec97e44a05847ede8f65d6ba94",
       "version_major": 2,
       "version_minor": 0
      },
      "text/plain": [
       "VBox()"
      ]
     },
     "metadata": {},
     "output_type": "display_data"
    },
    {
     "name": "stdout",
     "output_type": "stream",
     "text": [
      "Exito!\n"
     ]
    }
   ],
   "source": [
    "catalog = Catalog(CATALOG_PATH, Time(OBS_TIME))\n",
    "pixtab = PixelTable(PIXTAB_PATH)\n",
    "catalog_pixtab = catalog.find_on_pixtab(pixtab.df)"
   ]
  },
  {
   "cell_type": "code",
   "execution_count": 4,
   "metadata": {},
   "outputs": [],
   "source": [
    "catalog_pixtab.to_csv(\"catalog_0.pixtab\", sep=' ', index=False)\n",
    "# catalog_pixtab = pd.read_csv(\"catalog_0.pixtab\", sep=\" \")"
   ]
  },
  {
   "cell_type": "code",
   "execution_count": 5,
   "metadata": {},
   "outputs": [
    {
     "name": "stdout",
     "output_type": "stream",
     "text": [
      "\n",
      "Creando vista previa de pixeles\n"
     ]
    },
    {
     "data": {
      "application/vnd.jupyter.widget-view+json": {
       "model_id": "89e32a160f9244f0be70d11653b6fea6",
       "version_major": 2,
       "version_minor": 0
      },
      "text/plain": [
       "VBox()"
      ]
     },
     "metadata": {},
     "output_type": "display_data"
    },
    {
     "name": "stdout",
     "output_type": "stream",
     "text": [
      "Exito!\n"
     ]
    },
    {
     "data": {
      "image/png": "[encoded data removed]",
      "text/plain": [
       "<Figure size 432x288 with 1 Axes>"
      ]
     },
     "metadata": {
      "needs_background": "light"
     },
     "output_type": "display_data"
    }
   ],
   "source": [
    "catalog_image = CatalogImageHandler(catalog_pixtab)\n",
    "catalog_image.preview"
   ]
  },
  {
   "cell_type": "code",
   "execution_count": 17,
   "metadata": {},
   "outputs": [],
   "source": [
    "%matplotlib qt\n",
    "\n",
    "\n",
    "for indx in catalog_pixtab.index:\n",
    "    x = catalog_pixtab.at[indx, \"x\"]\n",
    "    y = catalog_pixtab.at[indx, \"y\"]\n",
    "    highlighted_pixel = catalog_image.highlight_pixel(x,y)\n",
    "    plt.imshow(highlighted_pixel)\n",
    "    plt.axis(\"off\")\n",
    "    plt.show()"
   ]
  },
  {
   "cell_type": "code",
   "execution_count": 18,
   "metadata": {},
   "outputs": [],
   "source": [
    "catalog_image.preview"
   ]
  },
  {
   "cell_type": "code",
   "execution_count": 17,
   "metadata": {},
   "outputs": [],
   "source": [
    "df = pd.read_csv(\"temp_pixtab.dat\", sep=\" \")\n",
    "\n",
    "# print('%s click: button=%d, x=%d, y=%d, xdata=%f, ydata=%f' %\n",
    "#       ('double' if event.dblclick else 'single', event.button,\n",
    "#        event.x, event.y, event.xdata, event.ydata))\n",
    "new_row = pd.DataFrame({\"new_x\":[1], \"new_y\":[2]})\n",
    "df.append(new_row, ignore_index = True)\n",
    "df.to_csv(\"temp_pixtab2.dat\", sep=' ', index=False)"
   ]
  },
  {
   "cell_type": "code",
   "execution_count": 9,
   "metadata": {},
   "outputs": [],
   "source": [
    "df = pd.read_csv(\"temp_pixtab.dat\", sep=\" \")\n",
    "out_df = catalog_pixtab.copy()\n",
    "out_df[\"xcentroid\"] = df[\"new_x\"]\n",
    "out_df[\"ycentroid\"] = df[\"new_y\"]\n",
    "out_df = out_df[[\"xcentroid\", \"ycentroid\", \"alt\", \"az\"]]"
   ]
  },
  {
   "cell_type": "code",
   "execution_count": 64,
   "metadata": {},
   "outputs": [
    {
     "data": {
      "text/plain": [
       "array([[  0,   0,   0, ...,   0,   0,   0],\n",
       "       [  9,   9,   9, ...,   9,   9,   9],\n",
       "       [ 18,  18,  18, ...,  18,  18,  18],\n",
       "       ...,\n",
       "       [873, 873, 873, ..., 873, 873, 873],\n",
       "       [882, 882, 882, ..., 882, 882, 882],\n",
       "       [891, 891, 891, ..., 891, 891, 891]], dtype=int64)"
      ]
     },
     "execution_count": 64,
     "metadata": {},
     "output_type": "execute_result"
    }
   ],
   "source": [
    "pixtab.df.query(\"x>=300 and x < 1200 and y<900\").y.values.reshape(900, 900)[::9,::9]"
   ]
  },
  {
   "cell_type": "code",
   "execution_count": 39,
   "metadata": {},
   "outputs": [
    {
     "data": {
      "text/plain": [
       "49.567900968935795"
      ]
     },
     "execution_count": 39,
     "metadata": {},
     "output_type": "execute_result"
    }
   ],
   "source": [
    "out_df.query(\"xcentroid==557\").alt.iloc[0]"
   ]
  },
  {
   "cell_type": "code",
   "execution_count": 53,
   "metadata": {},
   "outputs": [
    {
     "data": {
      "text/plain": [
       "array([[  0,   9,  18,  27,  36],\n",
       "       [ 45,  54,  63,  72,  81],\n",
       "       [ 90,  99, 108, 117, 126],\n",
       "       [135, 144, 153, 162, 171],\n",
       "       [180, 189, 198, 207, 216],\n",
       "       [225, 234, 243, 252, 261],\n",
       "       [270, 279, 288, 297, 306],\n",
       "       [315, 324, 333, 342, 351],\n",
       "       [360, 369, 378, 387, 396],\n",
       "       [405, 414, 423, 432, 441],\n",
       "       [450, 459, 468, 477, 486],\n",
       "       [495, 504, 513, 522, 531],\n",
       "       [540, 549, 558, 567, 576],\n",
       "       [585, 594, 603, 612, 621],\n",
       "       [630, 639, 648, 657, 666],\n",
       "       [675, 684, 693, 702, 711],\n",
       "       [720, 729, 738, 747, 756],\n",
       "       [765, 774, 783, 792, 801],\n",
       "       [810, 819, 828, 837, 846],\n",
       "       [855, 864, 873, 882, 891]])"
      ]
     },
     "execution_count": 53,
     "metadata": {},
     "output_type": "execute_result"
    }
   ],
   "source": [
    "np.arange(0, 900, 9).reshape(20,5)"
   ]
  },
  {
   "cell_type": "code",
   "execution_count": null,
   "metadata": {},
   "outputs": [],
   "source": []
  }
 ],
 "metadata": {
  "kernelspec": {
   "display_name": "Python 3",
   "language": "python",
   "name": "python3"
  },
  "language_info": {
   "codemirror_mode": {
    "name": "ipython",
    "version": 3
   },
   "file_extension": ".py",
   "mimetype": "text/x-python",
   "name": "python",
   "nbconvert_exporter": "python",
   "pygments_lexer": "ipython3",
   "version": "3.7.0"
  }
 },
 "nbformat": 4,
 "nbformat_minor": 2
}
