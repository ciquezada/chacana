{
 "cells": [
  {
   "cell_type": "code",
   "execution_count": 5,
   "metadata": {},
   "outputs": [],
   "source": [
    "from scipy import optimize\n",
    "import matplotlib.pyplot as plt\n",
    "import pandas as pd\n",
    "import numpy as np\n",
    "from tqdm import tqdm"
   ]
  },
  {
   "cell_type": "code",
   "execution_count": 2,
   "metadata": {},
   "outputs": [],
   "source": [
    "data = pd.read_csv(\"Brightest Stars 2019-9-07 08h30m10s Vmag-4 Alt-20.csv\")"
   ]
  },
  {
   "cell_type": "code",
   "execution_count": 3,
   "metadata": {},
   "outputs": [
    {
     "data": {
      "text/html": [
       "<div>\n",
       "<style scoped>\n",
       "    .dataframe tbody tr th:only-of-type {\n",
       "        vertical-align: middle;\n",
       "    }\n",
       "\n",
       "    .dataframe tbody tr th {\n",
       "        vertical-align: top;\n",
       "    }\n",
       "\n",
       "    .dataframe thead th {\n",
       "        text-align: right;\n",
       "    }\n",
       "</style>\n",
       "<table border=\"1\" class=\"dataframe\">\n",
       "  <thead>\n",
       "    <tr style=\"text-align: right;\">\n",
       "      <th></th>\n",
       "      <th>x</th>\n",
       "      <th>y</th>\n",
       "      <th>alt</th>\n",
       "      <th>az</th>\n",
       "      <th>alt_err</th>\n",
       "      <th>az_err</th>\n",
       "      <th>sample_size</th>\n",
       "      <th>star_name</th>\n",
       "      <th>ra</th>\n",
       "      <th>dec</th>\n",
       "    </tr>\n",
       "  </thead>\n",
       "  <tbody>\n",
       "    <tr>\n",
       "      <td>0</td>\n",
       "      <td>442.0</td>\n",
       "      <td>476.0</td>\n",
       "      <td>35.300056</td>\n",
       "      <td>89.672226</td>\n",
       "      <td>0.049080</td>\n",
       "      <td>0.075814</td>\n",
       "      <td>2.0</td>\n",
       "      <td>9Alp CMa</td>\n",
       "      <td>06h45m08.9s</td>\n",
       "      <td>-16d42m58s</td>\n",
       "    </tr>\n",
       "    <tr>\n",
       "      <td>1</td>\n",
       "      <td>568.0</td>\n",
       "      <td>642.0</td>\n",
       "      <td>45.850794</td>\n",
       "      <td>136.001391</td>\n",
       "      <td>0.000000</td>\n",
       "      <td>0.125174</td>\n",
       "      <td>2.0</td>\n",
       "      <td>Alp Car</td>\n",
       "      <td>06h23m57.1s</td>\n",
       "      <td>-52d41m45s</td>\n",
       "    </tr>\n",
       "    <tr>\n",
       "      <td>2</td>\n",
       "      <td>539.0</td>\n",
       "      <td>386.0</td>\n",
       "      <td>49.749357</td>\n",
       "      <td>64.048453</td>\n",
       "      <td>0.079946</td>\n",
       "      <td>0.096327</td>\n",
       "      <td>3.0</td>\n",
       "      <td>19Bet Ori</td>\n",
       "      <td>05h14m32.3s</td>\n",
       "      <td>-08d12m06s</td>\n",
       "    </tr>\n",
       "    <tr>\n",
       "      <td>3</td>\n",
       "      <td>780.0</td>\n",
       "      <td>620.0</td>\n",
       "      <td>60.498814</td>\n",
       "      <td>200.249893</td>\n",
       "      <td>0.052536</td>\n",
       "      <td>0.051563</td>\n",
       "      <td>2.0</td>\n",
       "      <td>Alp Eri</td>\n",
       "      <td>01h37m42.9s</td>\n",
       "      <td>-57d14m12s</td>\n",
       "    </tr>\n",
       "    <tr>\n",
       "      <td>4</td>\n",
       "      <td>471.0</td>\n",
       "      <td>314.0</td>\n",
       "      <td>31.800362</td>\n",
       "      <td>57.309314</td>\n",
       "      <td>0.050901</td>\n",
       "      <td>0.006475</td>\n",
       "      <td>2.0</td>\n",
       "      <td>58Alp Ori</td>\n",
       "      <td>05h55m10.3s</td>\n",
       "      <td>+07d24m25s</td>\n",
       "    </tr>\n",
       "    <tr>\n",
       "      <td>...</td>\n",
       "      <td>...</td>\n",
       "      <td>...</td>\n",
       "      <td>...</td>\n",
       "      <td>...</td>\n",
       "      <td>...</td>\n",
       "      <td>...</td>\n",
       "      <td>...</td>\n",
       "      <td>...</td>\n",
       "      <td>...</td>\n",
       "      <td>...</td>\n",
       "    </tr>\n",
       "    <tr>\n",
       "      <td>160</td>\n",
       "      <td>954.0</td>\n",
       "      <td>626.0</td>\n",
       "      <td>37.601460</td>\n",
       "      <td>236.480414</td>\n",
       "      <td>0.051452</td>\n",
       "      <td>0.013435</td>\n",
       "      <td>2.0</td>\n",
       "      <td>Del1Gru</td>\n",
       "      <td>22h29m16.2s</td>\n",
       "      <td>-43d29m44s</td>\n",
       "    </tr>\n",
       "    <tr>\n",
       "      <td>161</td>\n",
       "      <td>974.0</td>\n",
       "      <td>476.0</td>\n",
       "      <td>42.403260</td>\n",
       "      <td>269.927522</td>\n",
       "      <td>0.048287</td>\n",
       "      <td>0.014563</td>\n",
       "      <td>2.0</td>\n",
       "      <td>98    Aqr</td>\n",
       "      <td>23h22m58.2s</td>\n",
       "      <td>-20d06m02s</td>\n",
       "    </tr>\n",
       "    <tr>\n",
       "      <td>162</td>\n",
       "      <td>459.0</td>\n",
       "      <td>401.0</td>\n",
       "      <td>36.549784</td>\n",
       "      <td>73.923677</td>\n",
       "      <td>0.082329</td>\n",
       "      <td>0.090985</td>\n",
       "      <td>3.0</td>\n",
       "      <td>5Gam Mon</td>\n",
       "      <td>06h14m51.3s</td>\n",
       "      <td>-06d16m29s</td>\n",
       "    </tr>\n",
       "    <tr>\n",
       "      <td>163</td>\n",
       "      <td>609.0</td>\n",
       "      <td>727.0</td>\n",
       "      <td>36.885030</td>\n",
       "      <td>154.520311</td>\n",
       "      <td>0.186724</td>\n",
       "      <td>0.095457</td>\n",
       "      <td>3.0</td>\n",
       "      <td>Del Vol</td>\n",
       "      <td>07h16m49.8s</td>\n",
       "      <td>-67d57m26s</td>\n",
       "    </tr>\n",
       "    <tr>\n",
       "      <td>164</td>\n",
       "      <td>867.0</td>\n",
       "      <td>666.0</td>\n",
       "      <td>44.651480</td>\n",
       "      <td>216.364865</td>\n",
       "      <td>0.000000</td>\n",
       "      <td>0.121622</td>\n",
       "      <td>2.0</td>\n",
       "      <td>Gam Tuc</td>\n",
       "      <td>23h17m25.8s</td>\n",
       "      <td>-58d14m09s</td>\n",
       "    </tr>\n",
       "  </tbody>\n",
       "</table>\n",
       "<p>165 rows × 10 columns</p>\n",
       "</div>"
      ],
      "text/plain": [
       "         x      y        alt          az   alt_err    az_err  sample_size  \\\n",
       "0    442.0  476.0  35.300056   89.672226  0.049080  0.075814          2.0   \n",
       "1    568.0  642.0  45.850794  136.001391  0.000000  0.125174          2.0   \n",
       "2    539.0  386.0  49.749357   64.048453  0.079946  0.096327          3.0   \n",
       "3    780.0  620.0  60.498814  200.249893  0.052536  0.051563          2.0   \n",
       "4    471.0  314.0  31.800362   57.309314  0.050901  0.006475          2.0   \n",
       "..     ...    ...        ...         ...       ...       ...          ...   \n",
       "160  954.0  626.0  37.601460  236.480414  0.051452  0.013435          2.0   \n",
       "161  974.0  476.0  42.403260  269.927522  0.048287  0.014563          2.0   \n",
       "162  459.0  401.0  36.549784   73.923677  0.082329  0.090985          3.0   \n",
       "163  609.0  727.0  36.885030  154.520311  0.186724  0.095457          3.0   \n",
       "164  867.0  666.0  44.651480  216.364865  0.000000  0.121622          2.0   \n",
       "\n",
       "      star_name           ra         dec  \n",
       "0      9Alp CMa  06h45m08.9s  -16d42m58s  \n",
       "1       Alp Car  06h23m57.1s  -52d41m45s  \n",
       "2     19Bet Ori  05h14m32.3s  -08d12m06s  \n",
       "3       Alp Eri  01h37m42.9s  -57d14m12s  \n",
       "4     58Alp Ori  05h55m10.3s  +07d24m25s  \n",
       "..          ...          ...         ...  \n",
       "160     Del1Gru  22h29m16.2s  -43d29m44s  \n",
       "161   98    Aqr  23h22m58.2s  -20d06m02s  \n",
       "162    5Gam Mon  06h14m51.3s  -06d16m29s  \n",
       "163     Del Vol  07h16m49.8s  -67d57m26s  \n",
       "164     Gam Tuc  23h17m25.8s  -58d14m09s  \n",
       "\n",
       "[165 rows x 10 columns]"
      ]
     },
     "execution_count": 3,
     "metadata": {},
     "output_type": "execute_result"
    }
   ],
   "source": [
    "data"
   ]
  },
  {
   "cell_type": "code",
   "execution_count": 4,
   "metadata": {},
   "outputs": [
    {
     "data": {
      "text/html": [
       "<div>\n",
       "<style scoped>\n",
       "    .dataframe tbody tr th:only-of-type {\n",
       "        vertical-align: middle;\n",
       "    }\n",
       "\n",
       "    .dataframe tbody tr th {\n",
       "        vertical-align: top;\n",
       "    }\n",
       "\n",
       "    .dataframe thead th {\n",
       "        text-align: right;\n",
       "    }\n",
       "</style>\n",
       "<table border=\"1\" class=\"dataframe\">\n",
       "  <thead>\n",
       "    <tr style=\"text-align: right;\">\n",
       "      <th></th>\n",
       "      <th>x</th>\n",
       "      <th>y</th>\n",
       "      <th>alt</th>\n",
       "      <th>az</th>\n",
       "      <th>alt_err</th>\n",
       "      <th>az_err</th>\n",
       "      <th>sample_size</th>\n",
       "      <th>star_name</th>\n",
       "      <th>ra</th>\n",
       "      <th>dec</th>\n",
       "    </tr>\n",
       "  </thead>\n",
       "  <tbody>\n",
       "    <tr>\n",
       "      <td>3</td>\n",
       "      <td>780.0</td>\n",
       "      <td>620.0</td>\n",
       "      <td>60.498814</td>\n",
       "      <td>200.249893</td>\n",
       "      <td>0.052536</td>\n",
       "      <td>0.051563</td>\n",
       "      <td>2.0</td>\n",
       "      <td>Alp Eri</td>\n",
       "      <td>01h37m42.9s</td>\n",
       "      <td>-57d14m12s</td>\n",
       "    </tr>\n",
       "    <tr>\n",
       "      <td>49</td>\n",
       "      <td>780.0</td>\n",
       "      <td>136.0</td>\n",
       "      <td>23.802649</td>\n",
       "      <td>350.837787</td>\n",
       "      <td>0.049968</td>\n",
       "      <td>0.020612</td>\n",
       "      <td>2.0</td>\n",
       "      <td>4Bet Tri</td>\n",
       "      <td>02h09m32.6s</td>\n",
       "      <td>+34d59m14s</td>\n",
       "    </tr>\n",
       "  </tbody>\n",
       "</table>\n",
       "</div>"
      ],
      "text/plain": [
       "        x      y        alt          az   alt_err    az_err  sample_size  \\\n",
       "3   780.0  620.0  60.498814  200.249893  0.052536  0.051563          2.0   \n",
       "49  780.0  136.0  23.802649  350.837787  0.049968  0.020612          2.0   \n",
       "\n",
       "     star_name           ra         dec  \n",
       "3      Alp Eri  01h37m42.9s  -57d14m12s  \n",
       "49    4Bet Tri  02h09m32.6s  +34d59m14s  "
      ]
     },
     "execution_count": 4,
     "metadata": {},
     "output_type": "execute_result"
    }
   ],
   "source": [
    "## x, y = 836, 592\n",
    "data.query(\"x==780\") "
   ]
  },
  {
   "cell_type": "code",
   "execution_count": 5,
   "metadata": {},
   "outputs": [],
   "source": [
    "X0, Y0, a0 = float(757), float(472), float(0)"
   ]
  },
  {
   "cell_type": "code",
   "execution_count": 6,
   "metadata": {},
   "outputs": [],
   "source": [
    "def construct_radio(C, A, F):\n",
    "    def r(x, y):\n",
    "        return C * ( np.sqrt( (x-X0)**2 + (y-Y0)**2 ) + A*(y-X0)*np.cos(F-a0) - A*(x-X0)*np.sin(F-a0) )\n",
    "    return r"
   ]
  },
  {
   "cell_type": "code",
   "execution_count": 7,
   "metadata": {},
   "outputs": [],
   "source": [
    "def construct_u(C, A, F, V, S, D, P, Q):\n",
    "    def u(x, y):\n",
    "        r = construct_radio(C, A, F)\n",
    "        return V*r(x, y) + S*(np.e**(D*r(x,y)) - 1) + P*(np.e**(Q*r(x,y)**2) - 1) \n",
    "    return u"
   ]
  },
  {
   "cell_type": "code",
   "execution_count": 8,
   "metadata": {},
   "outputs": [],
   "source": [
    "def construct_b(E):\n",
    "    def b(x, y):\n",
    "        return a0 - E + np.arctan2((y - Y0),(x - X0))\n",
    "    return b"
   ]
  },
  {
   "cell_type": "code",
   "execution_count": 9,
   "metadata": {},
   "outputs": [],
   "source": [
    "def construct_altura(C, A, F, V, S, D, P, Q, E, ep):\n",
    "    def z(x, y):\n",
    "        u = construct_u(C, A, F, V, S, D, P, Q)\n",
    "        b = construct_b(E)\n",
    "        return np.arccos( np.cos(u(x,y))*np.cos(ep) - np.sin(u(x,y))*np.sin(ep)*np.cos(b(x,y)) )\n",
    "    return z\n",
    "\n",
    "def construct_altura_deg(C, A, F, V, S, D, P, Q, E, ep):\n",
    "    def z(x, y):\n",
    "        u = construct_u(C, A, F, V, S, D, P, Q)\n",
    "        b = construct_b(E)\n",
    "        return 90 - np.rad2deg( np.arccos( np.cos(u(x,y))*np.cos(ep) - np.sin(u(x,y))*np.sin(ep)*np.cos(b(x,y)) ) )\n",
    "    return z"
   ]
  },
  {
   "cell_type": "code",
   "execution_count": 10,
   "metadata": {},
   "outputs": [],
   "source": [
    "def construct_azimuth(C, A, F, V, S, D, P, Q, E, ep):\n",
    "    def az(x, y):\n",
    "        u = construct_u(C, A, F, V, S, D, P, Q)\n",
    "        b = construct_b(E)\n",
    "        z = construct_altura(C, A, F, V, S, D, P, Q, E, ep)\n",
    "        return np.arcsin( np.sin(b(x,y))*np.sin(u(x,y))/np.sin(z(x,y)) ) + E\n",
    "    return az\n",
    "\n",
    "def construct_azimuth_deg(C, A, F, V, S, D, P, Q, E, ep):\n",
    "    def az(x, y):\n",
    "        u = construct_u(C, A, F, V, S, D, P, Q)\n",
    "        b = construct_b(E)\n",
    "        z = construct_altura(C, A, F, V, S, D, P, Q, E, ep)\n",
    "        return np.rad2deg( np.arcsin( np.sin(b(x,y))*np.sin(u(x,y))/np.sin(z(x,y)) ) + E ) + 90\n",
    "    return az"
   ]
  },
  {
   "cell_type": "code",
   "execution_count": 11,
   "metadata": {},
   "outputs": [],
   "source": [
    "def plot_plano(plano):\n",
    "    x = np.linspace(0, 1200, 100)\n",
    "    y = np.linspace(0, 900, 100)\n",
    "    X, Y = np.meshgrid(x, y)\n",
    "    Z = plano(X, Y)\n",
    "    fig,ax=plt.subplots(1,1)\n",
    "    cp = ax.contourf(X, Y, Z, 10)\n",
    "    fig.colorbar(cp) # Add a colorbar to a plot\n",
    "    ax.set_title('Toda una linea que minimiza y=mx+n')\n",
    "    plt.gca().invert_yaxis()\n",
    "    ax.set_xlabel('x')\n",
    "    ax.set_ylabel('y')\n",
    "    plt.show()\n",
    "    "
   ]
  },
  {
   "cell_type": "code",
   "execution_count": 12,
   "metadata": {},
   "outputs": [],
   "source": [
    "def plot_altura(vector):\n",
    "    plano = construct_altura_deg(*vector)\n",
    "    plot_plano(plano)\n",
    "    \n",
    "def plot_azimuth(vector):\n",
    "    plano = construct_azimuth_deg(*vector)\n",
    "    plot_plano(plano)"
   ]
  },
  {
   "cell_type": "code",
   "execution_count": 13,
   "metadata": {},
   "outputs": [],
   "source": [
    "C, A, F = 0.07, 0.01, 1\n",
    "V, S, D, P, Q = 0.03, 0.007, 0.09, 2.2*10**-6, 0.006\n",
    "E, ep = 0, 0\n",
    "parametros_inciales = [C, A, F, V, S, D, P, Q, E, ep]\n",
    "result1 = np.array([ 4.05411155*10**-2, -5.13000215*10**-2,  1.18306086,  8.18813843*10**-2,\n",
    "       -3.63276373*10**-3, -1.22830557,  1.09298238*10**-5,  1.29796815*10**-2,\n",
    "        2.09851909*10**-3,  5.53361549*10**-2])\n",
    "result2 = np.array([ 2.90396335*10**-2, -1.36275018*10**-2, -2.42156457*10**-1,  1.14623453*10**-1,\n",
    "       -6.22511285*10**-3, -4.72148386,  4.53040216*10**-5,  1.57578545*10**-2,\n",
    "       -3.35189511*10**-2,  1.03652889*10**-1])\n",
    "result3 = np.array([ 2.87039016*10**-2, -5.47881381*10**-3, -2.49778009*10**-1,  1.14866070*10**-1,\n",
    "       -2.19097809*10**-2, -4.58387917*10**-1,  2.62567843*10**-4,  2.39744298*10**-2,\n",
    "       -1.06146519*10**-1,  1.02486171*10**-1])\n",
    "result4 = np.array([ 0.02863326, -0.00550686, -0.30656714,  0.11274438, -0.03916933,\n",
    "       -0.29909259,  0.00547779,  0.01104806, -0.10624677,  0.1027069 ])\n",
    "result5 = np.array([ 0.02896625, -0.00554929, -0.3355378 ,  0.11107163, -0.04046421,\n",
    "       -0.29994853,  0.00962758,  0.00862338, -0.10597777,  0.10286461])\n",
    "result6 = np.array([ 4.88504077*10**-2,  2.02995372*10**-2,  3.51610379*10**-1,  6.82171007*10**-2,\n",
    "         3.10608468*10**-3, -5.75141386*10**-5,  4.26865327*10**-6, -4.15889519*10**-3,\n",
    "         2.21040767*10**-3,  1.47892726*10**-3])\n",
    "result7 = np.array([ 6.68386793*10**-2,  2.11643138*10**-2,  3.95994947*10**-1,  4.97793056*10**-2,\n",
    "        -1.98285373*10**-4,  3.95323036*10**-2,  1.77167244*10**-6,  8.38067924*10**-3,\n",
    "         4.35828992*10**-4,  2.52528618*10**-3])"
   ]
  },
  {
   "cell_type": "code",
   "execution_count": 14,
   "metadata": {},
   "outputs": [],
   "source": [
    "import astropy.units as u\n",
    "from astropy.time import Time\n",
    "from astropy.coordinates import SkyCoord, EarthLocation, AltAz\n",
    "from datetime import datetime\n",
    "\n",
    "# from astropy.utils.iers import conf\n",
    "# conf.auto_max_age = None"
   ]
  },
  {
   "cell_type": "code",
   "execution_count": 15,
   "metadata": {},
   "outputs": [
    {
     "data": {
      "text/plain": [
       "59.526749222713995"
      ]
     },
     "execution_count": 15,
     "metadata": {},
     "output_type": "execute_result"
    }
   ],
   "source": [
    "EL_SAUCE = EarthLocation(lat=-30.4726064*u.deg, lon=-70.7653747*u.deg, height=789*u.m)\n",
    "obs_time = \"2019-9-10 08:30:10\"\n",
    "alt_az_frame = AltAz(obstime=Time(obs_time), location=EL_SAUCE)\n",
    "c = SkyCoord(\"01h37m42.9s\", \"-57d14m12s\", frame='icrs')\n",
    "c_altaz = c.transform_to(alt_az_frame)\n",
    "c_altaz.alt.value"
   ]
  },
  {
   "cell_type": "code",
   "execution_count": 25,
   "metadata": {},
   "outputs": [
    {
     "data": {
      "text/plain": [
       "(72.31984706934044,\n",
       " 59.29059983755271,\n",
       " 58.40263480001899,\n",
       " 58.54830917428019,\n",
       " 58.53510142137111,\n",
       " 58.532329618461205,\n",
       " 63.227633292137845,\n",
       " 63.27396661677527)"
      ]
     },
     "execution_count": 25,
     "metadata": {},
     "output_type": "execute_result"
    }
   ],
   "source": [
    "plano0 = construct_altura_deg(*parametros_inciales)\n",
    "plano1 = construct_altura_deg(*result1)\n",
    "plano2 = construct_altura_deg(*result2)\n",
    "plano3 = construct_altura_deg(*result3)\n",
    "plano4 = construct_altura_deg(*result4)\n",
    "plano5 = construct_altura_deg(*result5)\n",
    "plano6 = construct_altura_deg(*result6)\n",
    "plano7 = construct_altura_deg(*result7)\n",
    "plano0(836, 592), plano1(836, 592), plano2(836, 592), plano3(836, 592), plano4(836, 592), plano5(836, 592), plano6(836, 592), plano7(836, 592)\n"
   ]
  },
  {
   "cell_type": "code",
   "execution_count": 44,
   "metadata": {},
   "outputs": [
    {
     "data": {
      "text/html": [
       "<div>\n",
       "<style scoped>\n",
       "    .dataframe tbody tr th:only-of-type {\n",
       "        vertical-align: middle;\n",
       "    }\n",
       "\n",
       "    .dataframe tbody tr th {\n",
       "        vertical-align: top;\n",
       "    }\n",
       "\n",
       "    .dataframe thead th {\n",
       "        text-align: right;\n",
       "    }\n",
       "</style>\n",
       "<table border=\"1\" class=\"dataframe\">\n",
       "  <thead>\n",
       "    <tr style=\"text-align: right;\">\n",
       "      <th></th>\n",
       "      <th>x</th>\n",
       "      <th>y</th>\n",
       "      <th>alt</th>\n",
       "      <th>az</th>\n",
       "      <th>alt_err</th>\n",
       "      <th>az_err</th>\n",
       "      <th>sample_size</th>\n",
       "      <th>star_name</th>\n",
       "      <th>ra</th>\n",
       "      <th>dec</th>\n",
       "    </tr>\n",
       "  </thead>\n",
       "  <tbody>\n",
       "    <tr>\n",
       "      <td>76</td>\n",
       "      <td>804.0</td>\n",
       "      <td>550.0</td>\n",
       "      <td>69.352215</td>\n",
       "      <td>226.341282</td>\n",
       "      <td>0.0</td>\n",
       "      <td>0.0</td>\n",
       "      <td>1.0</td>\n",
       "      <td>Gam Phe</td>\n",
       "      <td>01h28m21.9s</td>\n",
       "      <td>-43d19m06s</td>\n",
       "    </tr>\n",
       "  </tbody>\n",
       "</table>\n",
       "</div>"
      ],
      "text/plain": [
       "        x      y        alt          az  alt_err  az_err  sample_size  \\\n",
       "76  804.0  550.0  69.352215  226.341282      0.0     0.0          1.0   \n",
       "\n",
       "     star_name           ra         dec  \n",
       "76     Gam Phe  01h28m21.9s  -43d19m06s  "
      ]
     },
     "execution_count": 44,
     "metadata": {},
     "output_type": "execute_result"
    }
   ],
   "source": [
    "## x, y = 849, 519\n",
    "data.query(\"x==804 and y==550\") "
   ]
  },
  {
   "cell_type": "code",
   "execution_count": 26,
   "metadata": {},
   "outputs": [
    {
     "data": {
      "text/plain": [
       "(67.3718874759399,\n",
       " 77.45948568073499,\n",
       " 65.56745009537073,\n",
       " 64.04865532943674,\n",
       " 64.21869438708212,\n",
       " 64.20986910172411,\n",
       " 64.20097034547302,\n",
       " 71.18785266684822,\n",
       " 71.20903840638339)"
      ]
     },
     "execution_count": 26,
     "metadata": {},
     "output_type": "execute_result"
    }
   ],
   "source": [
    "EL_SAUCE = EarthLocation(lat=-30.4726064*u.deg, lon=-70.7653747*u.deg, height=789*u.m)\n",
    "obs_time = \"2019-9-10 08:30:10\"\n",
    "alt_az_frame = AltAz(obstime=Time(obs_time), location=EL_SAUCE)\n",
    "c = SkyCoord(\"01h28m21.9s\", \"-43d19m06s\", frame='icrs')\n",
    "c_altaz = c.transform_to(alt_az_frame)\n",
    "\n",
    "plano0 = construct_altura_deg(*parametros_inciales)\n",
    "plano1 = construct_altura_deg(*result1)\n",
    "plano2 = construct_altura_deg(*result2)\n",
    "plano3 = construct_altura_deg(*result3)\n",
    "plano4 = construct_altura_deg(*result4)\n",
    "plano5 = construct_altura_deg(*result5)\n",
    "plano6 = construct_altura_deg(*result6)\n",
    "plano7 = construct_altura_deg(*result7)\n",
    "c_altaz.alt.value, plano0(849, 519), plano1(849, 519), plano2(849, 519), plano3(849, 519), plano4(849, 519), plano5(849, 519), plano6(849, 519), plano7(849, 519)"
   ]
  },
  {
   "cell_type": "code",
   "execution_count": 47,
   "metadata": {},
   "outputs": [
    {
     "data": {
      "text/html": [
       "<div>\n",
       "<style scoped>\n",
       "    .dataframe tbody tr th:only-of-type {\n",
       "        vertical-align: middle;\n",
       "    }\n",
       "\n",
       "    .dataframe tbody tr th {\n",
       "        vertical-align: top;\n",
       "    }\n",
       "\n",
       "    .dataframe thead th {\n",
       "        text-align: right;\n",
       "    }\n",
       "</style>\n",
       "<table border=\"1\" class=\"dataframe\">\n",
       "  <thead>\n",
       "    <tr style=\"text-align: right;\">\n",
       "      <th></th>\n",
       "      <th>x</th>\n",
       "      <th>y</th>\n",
       "      <th>alt</th>\n",
       "      <th>az</th>\n",
       "      <th>alt_err</th>\n",
       "      <th>az_err</th>\n",
       "      <th>sample_size</th>\n",
       "      <th>star_name</th>\n",
       "      <th>ra</th>\n",
       "      <th>dec</th>\n",
       "    </tr>\n",
       "  </thead>\n",
       "  <tbody>\n",
       "    <tr>\n",
       "      <td>104</td>\n",
       "      <td>601.0</td>\n",
       "      <td>244.0</td>\n",
       "      <td>39.146918</td>\n",
       "      <td>28.104693</td>\n",
       "      <td>0.0</td>\n",
       "      <td>0.0</td>\n",
       "      <td>1.0</td>\n",
       "      <td>54Gam Tau</td>\n",
       "      <td>04h19m47.6s</td>\n",
       "      <td>+15d37m39s</td>\n",
       "    </tr>\n",
       "  </tbody>\n",
       "</table>\n",
       "</div>"
      ],
      "text/plain": [
       "         x      y        alt         az  alt_err  az_err  sample_size  \\\n",
       "104  601.0  244.0  39.146918  28.104693      0.0     0.0          1.0   \n",
       "\n",
       "      star_name           ra         dec  \n",
       "104   54Gam Tau  04h19m47.6s  +15d37m39s  "
      ]
     },
     "execution_count": 47,
     "metadata": {},
     "output_type": "execute_result"
    }
   ],
   "source": [
    "## x, y = 598, 249\n",
    "data.query(\"x==601 and y==244\") "
   ]
  },
  {
   "cell_type": "code",
   "execution_count": 27,
   "metadata": {},
   "outputs": [
    {
     "data": {
      "text/plain": [
       "(40.23317715932928,\n",
       " 55.38371020755151,\n",
       " 39.0606147278997,\n",
       " 39.14192892123026,\n",
       " 39.13987898638099,\n",
       " 39.159995035382664,\n",
       " 39.16546477667036,\n",
       " 39.39279164158845,\n",
       " 39.52708163570737)"
      ]
     },
     "execution_count": 27,
     "metadata": {},
     "output_type": "execute_result"
    }
   ],
   "source": [
    "EL_SAUCE = EarthLocation(lat=-30.4726064*u.deg, lon=-70.7653747*u.deg, height=789*u.m)\n",
    "obs_time = \"2019-9-10 08:30:10\"\n",
    "alt_az_frame = AltAz(obstime=Time(obs_time), location=EL_SAUCE)\n",
    "c = SkyCoord(\"04h19m47.6s\", \"+15d37m39s\", frame='icrs')\n",
    "c_altaz = c.transform_to(alt_az_frame)\n",
    "\n",
    "plano0 = construct_altura_deg(*parametros_inciales)\n",
    "plano1 = construct_altura_deg(*result1)\n",
    "plano2 = construct_altura_deg(*result2)\n",
    "plano3 = construct_altura_deg(*result3)\n",
    "plano4 = construct_altura_deg(*result4)\n",
    "plano5 = construct_altura_deg(*result5)\n",
    "plano6 = construct_altura_deg(*result6)\n",
    "plano7 = construct_altura_deg(*result7)\n",
    "c_altaz.alt.value, plano0(598, 249), plano1(598, 249), plano2(598, 249), plano3(598, 249), plano4(598, 249), plano5(598, 249), plano6(598, 249), plano7(598, 249)"
   ]
  },
  {
   "cell_type": "code",
   "execution_count": 50,
   "metadata": {},
   "outputs": [
    {
     "data": {
      "text/html": [
       "<div>\n",
       "<style scoped>\n",
       "    .dataframe tbody tr th:only-of-type {\n",
       "        vertical-align: middle;\n",
       "    }\n",
       "\n",
       "    .dataframe tbody tr th {\n",
       "        vertical-align: top;\n",
       "    }\n",
       "\n",
       "    .dataframe thead th {\n",
       "        text-align: right;\n",
       "    }\n",
       "</style>\n",
       "<table border=\"1\" class=\"dataframe\">\n",
       "  <thead>\n",
       "    <tr style=\"text-align: right;\">\n",
       "      <th></th>\n",
       "      <th>x</th>\n",
       "      <th>y</th>\n",
       "      <th>alt</th>\n",
       "      <th>az</th>\n",
       "      <th>alt_err</th>\n",
       "      <th>az_err</th>\n",
       "      <th>sample_size</th>\n",
       "      <th>star_name</th>\n",
       "      <th>ra</th>\n",
       "      <th>dec</th>\n",
       "    </tr>\n",
       "  </thead>\n",
       "  <tbody>\n",
       "    <tr>\n",
       "      <td>47</td>\n",
       "      <td>641.0</td>\n",
       "      <td>393.0</td>\n",
       "      <td>66.849621</td>\n",
       "      <td>45.794764</td>\n",
       "      <td>0.08403</td>\n",
       "      <td>0.221295</td>\n",
       "      <td>3.0</td>\n",
       "      <td>34Gam Eri</td>\n",
       "      <td>03h58m01.8s</td>\n",
       "      <td>-13d30m31s</td>\n",
       "    </tr>\n",
       "  </tbody>\n",
       "</table>\n",
       "</div>"
      ],
      "text/plain": [
       "        x      y        alt         az  alt_err    az_err  sample_size  \\\n",
       "47  641.0  393.0  66.849621  45.794764  0.08403  0.221295          3.0   \n",
       "\n",
       "     star_name           ra         dec  \n",
       "47   34Gam Eri  03h58m01.8s  -13d30m31s  "
      ]
     },
     "execution_count": 50,
     "metadata": {},
     "output_type": "execute_result"
    }
   ],
   "source": [
    "## x, y = 661,391\n",
    "data.query(\"x==641 and y==393\") "
   ]
  },
  {
   "cell_type": "code",
   "execution_count": 28,
   "metadata": {},
   "outputs": [
    {
     "data": {
      "text/plain": [
       "(68.70972794960927,\n",
       " 74.55022774051567,\n",
       " 67.7585057985618,\n",
       " 68.76088241363638,\n",
       " 68.51920139433852,\n",
       " 68.5129601963193,\n",
       " 68.51607943086739,\n",
       " 67.28594498688986,\n",
       " 67.38275867766123)"
      ]
     },
     "execution_count": 28,
     "metadata": {},
     "output_type": "execute_result"
    }
   ],
   "source": [
    "EL_SAUCE = EarthLocation(lat=-30.4726064*u.deg, lon=-70.7653747*u.deg, height=789*u.m)\n",
    "obs_time = \"2019-9-10 08:30:10\"\n",
    "alt_az_frame = AltAz(obstime=Time(obs_time), location=EL_SAUCE)\n",
    "c = SkyCoord(\"03h58m01.8s\", \"-13d30m31s\", frame='icrs')\n",
    "c_altaz = c.transform_to(alt_az_frame)\n",
    "\n",
    "plano0 = construct_altura_deg(*parametros_inciales)\n",
    "plano1 = construct_altura_deg(*result1)\n",
    "plano2 = construct_altura_deg(*result2)\n",
    "plano3 = construct_altura_deg(*result3)\n",
    "plano4 = construct_altura_deg(*result4)\n",
    "plano5 = construct_altura_deg(*result5)\n",
    "plano6 = construct_altura_deg(*result6)\n",
    "plano7 = construct_altura_deg(*result7)\n",
    "c_altaz.alt.value, plano0(661,391), plano1(661,391), plano2(661,391), plano3(661,391), plano4(661,391), plano5(661,391), plano6(661,391), plano7(661,391)"
   ]
  },
  {
   "cell_type": "code",
   "execution_count": 32,
   "metadata": {
    "scrolled": true
   },
   "outputs": [
    {
     "data": {
      "text/plain": [
       "9.727276402704566"
      ]
     },
     "execution_count": 32,
     "metadata": {},
     "output_type": "execute_result"
    }
   ],
   "source": [
    "datos = pd.read_csv(\"Data.pixtab\", sep=\" \")\n",
    "datos = datos.dropna()\n",
    "datos.query(\"x==333 and y==338\").alt.values[0]"
   ]
  },
  {
   "cell_type": "code",
   "execution_count": null,
   "metadata": {},
   "outputs": [],
   "source": []
  },
  {
   "cell_type": "code",
   "execution_count": 5,
   "metadata": {},
   "outputs": [],
   "source": [
    "from scipy import optimize, stats\n",
    "import matplotlib.pyplot as plt\n",
    "import pandas as pd\n",
    "import numpy as np\n",
    "from tqdm import tqdm\n",
    "\n",
    "import astropy.units as u\n",
    "from astropy.time import Time\n",
    "from astropy.coordinates import SkyCoord, EarthLocation, AltAz\n",
    "from datetime import datetime"
   ]
  },
  {
   "cell_type": "code",
   "execution_count": 6,
   "metadata": {},
   "outputs": [],
   "source": [
    "\"\"\"\n",
    "Funciones de Borovicka que\n",
    "dependen de [C, A, F, V, S, D, P, Q, E, ep, X0, Y0, a0]\n",
    "\"\"\"\n",
    "\n",
    "def construct_radio(C, A, F, X0, Y0, a0):\n",
    "    def r(x, y):\n",
    "        return C * ( np.sqrt( (x-X0)**2 + (y-Y0)**2 ) + A*(y-X0)*np.cos(F-a0) - A*(x-X0)*np.sin(F-a0) )\n",
    "    return r\n",
    "\n",
    "def construct_u(C, A, F, V, S, D, P, Q, X0, Y0, a0):\n",
    "    def u(x, y):\n",
    "        r = construct_radio(C, A, F, X0, Y0, a0)\n",
    "        return V*r(x, y) + S*(np.e**(D*r(x,y)) - 1) + P*(np.e**(Q*r(x,y)**2) - 1) \n",
    "    return u\n",
    "\n",
    "def construct_b(E, X0, Y0, a0):\n",
    "    def b(x, y):\n",
    "        return a0 - E + np.arctan2((y - Y0),(x - X0))\n",
    "    return b\n",
    "\n",
    "def construct_altura(C, A, F, V, S, D, P, Q, E, ep, X0, Y0, a0):\n",
    "    def z(x, y):\n",
    "        u = construct_u(C, A, F, V, S, D, P, Q, X0, Y0, a0)\n",
    "        b = construct_b(E, X0, Y0, a0)\n",
    "        return np.arccos( np.cos(u(x,y))*np.cos(ep) - np.sin(u(x,y))*np.sin(ep)*np.cos(b(x,y)) )\n",
    "    return z\n",
    "\n",
    "def construct_altura_deg(C, A, F, V, S, D, P, Q, E, ep, X0, Y0, a0):\n",
    "    def z(x, y):\n",
    "        u = construct_u(C, A, F, V, S, D, P, Q, X0, Y0, a0)\n",
    "        b = construct_b(E, X0, Y0, a0)\n",
    "        return 90 - np.rad2deg( np.arccos( np.cos(u(x,y))*np.cos(ep) - np.sin(u(x,y))*np.sin(ep)*np.cos(b(x,y)) ) )\n",
    "    return z\n",
    "\n",
    "def construct_azimuth(C, A, F, V, S, D, P, Q, E, ep, X0, Y0, a0):\n",
    "    def az(x, y):\n",
    "        u = construct_u(C, A, F, V, S, D, P, Q, X0, Y0, a0)\n",
    "        b = construct_b(E, X0, Y0, a0)\n",
    "        z = construct_altura(C, A, F, V, S, D, P, Q, E, ep, X0, Y0, a0)\n",
    "        return np.arcsin( np.sin(b(x,y))*np.sin(u(x,y))/np.sin(z(x,y)) ) + E\n",
    "    return az\n",
    "\n",
    "def construct_azimuth_deg(C, A, F, V, S, D, P, Q, E, ep, X0, Y0, a0):\n",
    "    def az(x, y):\n",
    "        u = construct_u(C, A, F, V, S, D, P, Q, X0, Y0, a0)\n",
    "        b = construct_b(E, X0, Y0, a0)\n",
    "        z = construct_altura(C, A, F, V, S, D, P, Q, E, ep, X0, Y0, a0)\n",
    "        return np.rad2deg( np.arcsin( np.sin(b(x,y))*np.sin(u(x,y))/np.sin(z(x,y)) ) + E ) + 90\n",
    "    return az\n",
    "\n",
    "\"\"\"\n",
    "Estos son constructores de una funcion de Xi**2\n",
    "\"\"\"\n",
    "\n",
    "def construct_alt_xi(x, y, z):\n",
    "    def xi(C, A, F, V, S, D, P, Q, E, ep, X0, Y0, a0):\n",
    "        alt_teorico = construct_altura_deg(C, A, F, V, S, D, P, Q, E, ep, X0, Y0, a0)\n",
    "        return (z - alt_teorico(x, y))**2\n",
    "    return xi\n",
    "\n",
    "def construct_az_xi(x, y, z):\n",
    "    def xi(C, A, F, V, S, D, P, Q, E, ep, X0, Y0, a0):\n",
    "        az_teorico = construct_azimuth_deg(C, A, F, V, S, D, P, Q, E, ep, X0, Y0, a0)\n",
    "        return (z - az_teorico(x, y))**2\n",
    "    return xi"
   ]
  },
  {
   "cell_type": "code",
   "execution_count": 38,
   "metadata": {},
   "outputs": [],
   "source": [
    "params = [0.04952671, 0.00310034, -1.04782185,\n",
    "          0.0682171007, 0.00310608468, -5.75141386e-05, 4.26865327e-06, -0.00415889519,\n",
    "          -4.82552710e-03, -0.0022711518934522366,\n",
    "          7.28125200e+02, 4.78181845e+02, 7.73853421e-01]\n",
    "altura_teorica = construct_altura_deg(*params)\n",
    "azimut_teorico = construct_azimuth_deg(*params)\n",
    "\n",
    "data = pd.read_csv(\"Brightest Stars 2019-9-07 08h30m10s Vmag-4 Alt-20.csv\")\n",
    "EL_SAUCE = EarthLocation(lat=-30.4726064*u.deg, lon=-70.7653747*u.deg, height=789*u.m)\n",
    "obs_time = \"2019-9-07 08:30:10\"\n",
    "alt_az_frame = AltAz(obstime=Time(obs_time), location=EL_SAUCE)"
   ]
  },
  {
   "cell_type": "code",
   "execution_count": 32,
   "metadata": {},
   "outputs": [
    {
     "data": {
      "text/html": [
       "<div>\n",
       "<style scoped>\n",
       "    .dataframe tbody tr th:only-of-type {\n",
       "        vertical-align: middle;\n",
       "    }\n",
       "\n",
       "    .dataframe tbody tr th {\n",
       "        vertical-align: top;\n",
       "    }\n",
       "\n",
       "    .dataframe thead th {\n",
       "        text-align: right;\n",
       "    }\n",
       "</style>\n",
       "<table border=\"1\" class=\"dataframe\">\n",
       "  <thead>\n",
       "    <tr style=\"text-align: right;\">\n",
       "      <th></th>\n",
       "      <th>x</th>\n",
       "      <th>y</th>\n",
       "      <th>alt</th>\n",
       "      <th>az</th>\n",
       "      <th>alt_err</th>\n",
       "      <th>az_err</th>\n",
       "      <th>sample_size</th>\n",
       "      <th>star_name</th>\n",
       "      <th>ra</th>\n",
       "      <th>dec</th>\n",
       "    </tr>\n",
       "  </thead>\n",
       "  <tbody>\n",
       "    <tr>\n",
       "      <td>3</td>\n",
       "      <td>780.0</td>\n",
       "      <td>620.0</td>\n",
       "      <td>60.498814</td>\n",
       "      <td>200.249893</td>\n",
       "      <td>0.052536</td>\n",
       "      <td>0.051563</td>\n",
       "      <td>2.0</td>\n",
       "      <td>Alp Eri</td>\n",
       "      <td>01h37m42.9s</td>\n",
       "      <td>-57d14m12s</td>\n",
       "    </tr>\n",
       "  </tbody>\n",
       "</table>\n",
       "</div>"
      ],
      "text/plain": [
       "       x      y        alt          az   alt_err    az_err  sample_size  \\\n",
       "3  780.0  620.0  60.498814  200.249893  0.052536  0.051563          2.0   \n",
       "\n",
       "    star_name           ra         dec  \n",
       "3     Alp Eri  01h37m42.9s  -57d14m12s  "
      ]
     },
     "execution_count": 32,
     "metadata": {},
     "output_type": "execute_result"
    }
   ],
   "source": [
    "data.query(\"x==780 and y==620\") "
   ]
  },
  {
   "cell_type": "code",
   "execution_count": 40,
   "metadata": {},
   "outputs": [
    {
     "data": {
      "text/plain": [
       "(8.593293282850965, 71.40987664773976)"
      ]
     },
     "execution_count": 40,
     "metadata": {},
     "output_type": "execute_result"
    }
   ],
   "source": [
    "c = SkyCoord(\"01h28m21.9s\", \"-43d19m06s\", frame='icrs')\n",
    "c_altaz = c.transform_to(alt_az_frame)\n",
    "c_altaz.alt.value - altura_teorica(780, 620), c_altaz.az.value - azimut_teorico(780, 620)"
   ]
  },
  {
   "cell_type": "code",
   "execution_count": 34,
   "metadata": {},
   "outputs": [
    {
     "data": {
      "text/html": [
       "<div>\n",
       "<style scoped>\n",
       "    .dataframe tbody tr th:only-of-type {\n",
       "        vertical-align: middle;\n",
       "    }\n",
       "\n",
       "    .dataframe tbody tr th {\n",
       "        vertical-align: top;\n",
       "    }\n",
       "\n",
       "    .dataframe thead th {\n",
       "        text-align: right;\n",
       "    }\n",
       "</style>\n",
       "<table border=\"1\" class=\"dataframe\">\n",
       "  <thead>\n",
       "    <tr style=\"text-align: right;\">\n",
       "      <th></th>\n",
       "      <th>x</th>\n",
       "      <th>y</th>\n",
       "      <th>alt</th>\n",
       "      <th>az</th>\n",
       "      <th>alt_err</th>\n",
       "      <th>az_err</th>\n",
       "      <th>sample_size</th>\n",
       "      <th>star_name</th>\n",
       "      <th>ra</th>\n",
       "      <th>dec</th>\n",
       "    </tr>\n",
       "  </thead>\n",
       "  <tbody>\n",
       "    <tr>\n",
       "      <td>76</td>\n",
       "      <td>804.0</td>\n",
       "      <td>550.0</td>\n",
       "      <td>69.352215</td>\n",
       "      <td>226.341282</td>\n",
       "      <td>0.0</td>\n",
       "      <td>0.0</td>\n",
       "      <td>1.0</td>\n",
       "      <td>Gam Phe</td>\n",
       "      <td>01h28m21.9s</td>\n",
       "      <td>-43d19m06s</td>\n",
       "    </tr>\n",
       "  </tbody>\n",
       "</table>\n",
       "</div>"
      ],
      "text/plain": [
       "        x      y        alt          az  alt_err  az_err  sample_size  \\\n",
       "76  804.0  550.0  69.352215  226.341282      0.0     0.0          1.0   \n",
       "\n",
       "     star_name           ra         dec  \n",
       "76     Gam Phe  01h28m21.9s  -43d19m06s  "
      ]
     },
     "execution_count": 34,
     "metadata": {},
     "output_type": "execute_result"
    }
   ],
   "source": [
    "data.query(\"x==804 and y==550\") "
   ]
  },
  {
   "cell_type": "code",
   "execution_count": 41,
   "metadata": {},
   "outputs": [
    {
     "data": {
      "text/plain": [
       "(-2.7388745536655534, -132.08783026625957)"
      ]
     },
     "execution_count": 41,
     "metadata": {},
     "output_type": "execute_result"
    }
   ],
   "source": [
    "c = SkyCoord(\"03h58m01.8s\", \"-13d30m31s\", frame='icrs')\n",
    "c_altaz = c.transform_to(alt_az_frame)\n",
    "c_altaz.alt.value - altura_teorica(804, 550), c_altaz.az.value - azimut_teorico(804, 550)"
   ]
  },
  {
   "cell_type": "code",
   "execution_count": 36,
   "metadata": {},
   "outputs": [
    {
     "data": {
      "text/html": [
       "<div>\n",
       "<style scoped>\n",
       "    .dataframe tbody tr th:only-of-type {\n",
       "        vertical-align: middle;\n",
       "    }\n",
       "\n",
       "    .dataframe tbody tr th {\n",
       "        vertical-align: top;\n",
       "    }\n",
       "\n",
       "    .dataframe thead th {\n",
       "        text-align: right;\n",
       "    }\n",
       "</style>\n",
       "<table border=\"1\" class=\"dataframe\">\n",
       "  <thead>\n",
       "    <tr style=\"text-align: right;\">\n",
       "      <th></th>\n",
       "      <th>x</th>\n",
       "      <th>y</th>\n",
       "      <th>alt</th>\n",
       "      <th>az</th>\n",
       "      <th>alt_err</th>\n",
       "      <th>az_err</th>\n",
       "      <th>sample_size</th>\n",
       "      <th>star_name</th>\n",
       "      <th>ra</th>\n",
       "      <th>dec</th>\n",
       "    </tr>\n",
       "  </thead>\n",
       "  <tbody>\n",
       "    <tr>\n",
       "      <td>104</td>\n",
       "      <td>601.0</td>\n",
       "      <td>244.0</td>\n",
       "      <td>39.146918</td>\n",
       "      <td>28.104693</td>\n",
       "      <td>0.0</td>\n",
       "      <td>0.0</td>\n",
       "      <td>1.0</td>\n",
       "      <td>54Gam Tau</td>\n",
       "      <td>04h19m47.6s</td>\n",
       "      <td>+15d37m39s</td>\n",
       "    </tr>\n",
       "  </tbody>\n",
       "</table>\n",
       "</div>"
      ],
      "text/plain": [
       "         x      y        alt         az  alt_err  az_err  sample_size  \\\n",
       "104  601.0  244.0  39.146918  28.104693      0.0     0.0          1.0   \n",
       "\n",
       "      star_name           ra         dec  \n",
       "104   54Gam Tau  04h19m47.6s  +15d37m39s  "
      ]
     },
     "execution_count": 36,
     "metadata": {},
     "output_type": "execute_result"
    }
   ],
   "source": [
    "data.query(\"x==601 and y==244\") "
   ]
  },
  {
   "cell_type": "code",
   "execution_count": 42,
   "metadata": {},
   "outputs": [
    {
     "data": {
      "text/plain": [
       "(0.6425793023145303, 12.363243855630348)"
      ]
     },
     "execution_count": 42,
     "metadata": {},
     "output_type": "execute_result"
    }
   ],
   "source": [
    "c = SkyCoord(\"04h19m47.6s\", \"+15d37m39s\", frame='icrs')\n",
    "c_altaz = c.transform_to(alt_az_frame)\n",
    "c_altaz.alt.value - altura_teorica(601, 244), c_altaz.az.value - azimut_teorico(601, 244)"
   ]
  },
  {
   "cell_type": "code",
   "execution_count": null,
   "metadata": {},
   "outputs": [],
   "source": []
  },
  {
   "cell_type": "markdown",
   "metadata": {},
   "source": [
    "# Otro"
   ]
  },
  {
   "cell_type": "code",
   "execution_count": 8,
   "metadata": {},
   "outputs": [],
   "source": [
    "def construct_radio(C, A, F, X0, Y0, a0):\n",
    "    def r(x, y):\n",
    "        return C * ( np.sqrt( (x-X0)**2 + (y-Y0)**2 ) + A*(y-X0)*np.cos(F-a0) - A*(x-X0)*np.sin(F-a0) )\n",
    "    return r\n",
    "\n",
    "def construct_u(C, A, F, V, S, D, P, Q, X0, Y0, a0):\n",
    "    def u(x, y):\n",
    "        r = construct_radio(C, A, F, X0, Y0, a0)\n",
    "        return V*r(x, y) + S*(np.e**(D*r(x,y)) - 1) + P*(np.e**(Q*r(x,y)**2) - 1) \n",
    "    return u\n",
    "\n",
    "def construct_b(E, X0, Y0, a0):\n",
    "    def b(x, y):\n",
    "        return a0 - E + np.arctan2((y - Y0),(x - X0))\n",
    "    return b\n",
    "\n",
    "def construct_altura(C, A, F, V, S, D, P, Q, E, ep, X0, Y0, a0):\n",
    "    def z(x, y):\n",
    "        u = construct_u(C, A, F, V, S, D, P, Q, X0, Y0, a0)\n",
    "        b = construct_b(E, X0, Y0, a0)\n",
    "        return np.arccos( np.cos(u(x,y))*np.cos(ep) - np.sin(u(x,y))*np.sin(ep)*np.cos(b(x,y)) )\n",
    "    return z\n",
    "\n",
    "def construct_altura_deg(C, A, F, V, S, D, P, Q, E, ep, X0, Y0, a0):\n",
    "    def z(x, y):\n",
    "        u = construct_u(C, A, F, V, S, D, P, Q, X0, Y0, a0)\n",
    "        b = construct_b(E, X0, Y0, a0)\n",
    "        return 90 - np.rad2deg( np.arccos( np.cos(u(x,y))*np.cos(ep) - np.sin(u(x,y))*np.sin(ep)*np.cos(b(x,y)) ) )\n",
    "    return z\n",
    "\n",
    "def construct_azimuth(C, A, F, V, S, D, P, Q, E, ep, X0, Y0, a0):\n",
    "    def az(x, y):\n",
    "        u = construct_u(C, A, F, V, S, D, P, Q, X0, Y0, a0)\n",
    "        b = construct_b(E, X0, Y0, a0)\n",
    "        z = construct_altura(C, A, F, V, S, D, P, Q, E, ep, X0, Y0, a0)\n",
    "        return np.arcsin( np.sin(b(x,y))*np.sin(u(x,y))/np.sin(z(x,y)) ) + E\n",
    "    return az\n",
    "\n",
    "def construct_azimuth_deg(C, A, F, V, S, D, P, Q, E, ep, X0, Y0, a0):\n",
    "    def az(x, y):\n",
    "        u = construct_u(C, A, F, V, S, D, P, Q, X0, Y0, a0)\n",
    "        b = construct_b(E, X0, Y0, a0)\n",
    "        z = construct_altura(C, A, F, V, S, D, P, Q, E, ep, X0, Y0, a0)\n",
    "        return np.rad2deg( np.arcsin( np.sin(b(x,y))*np.sin(u(x,y))/np.sin(z(x,y)) ) + E ) + 90\n",
    "    return az\n",
    "\n",
    "def construct_alt_xi(x, y, z):\n",
    "    def xi(C, A, F, V, S, D, P, Q, E, ep, X0, Y0, a0):\n",
    "        alt_teorico = construct_altura_deg(C, A, F, V, S, D, P, Q, E, ep, X0, Y0, a0)\n",
    "        return (z - alt_teorico(x, y))**2\n",
    "    return xi\n",
    "\n",
    "def construct_az_xi(x, y, z):\n",
    "    def xi(C, A, F, V, S, D, P, Q, E, ep, X0, Y0, a0):\n",
    "        az_teorico = construct_azimuth_deg(C, A, F, V, S, D, P, Q, E, ep, X0, Y0, a0)\n",
    "        return (z - az_teorico(x, y))**2\n",
    "    return xi\n",
    "\n",
    "def plot_plano(plano):\n",
    "    x = np.linspace(0, 1200, 100)\n",
    "    y = np.linspace(0, 900, 100)\n",
    "    X, Y = np.meshgrid(x, y)\n",
    "    Z = plano(X, Y)\n",
    "    fig,ax=plt.subplots(1,1)\n",
    "    cp = ax.contourf(X, Y, Z, 10)\n",
    "    fig.colorbar(cp) # Add a colorbar to a plot\n",
    "    ax.set_title('Toda una linea que minimiza y=mx+n')\n",
    "    plt.gca().invert_yaxis()\n",
    "    ax.set_xlabel('x')\n",
    "    ax.set_ylabel('y')\n",
    "    plt.show()\n",
    "\n",
    "def plot_altura(vector):\n",
    "    plano = construct_altura_deg(*vector)\n",
    "    plot_plano(plano)\n",
    "    \n",
    "def plot_azimuth(vector):\n",
    "    plano = construct_azimuth_deg(*vector)\n",
    "    plot_plano(plano)"
   ]
  },
  {
   "cell_type": "code",
   "execution_count": 34,
   "metadata": {},
   "outputs": [],
   "source": [
    "%matplotlib qt\n",
    "param = [1, 0, 0, 0.003, 0.0001, 0.00001, 0, 0, 0, 0.001, 724, 472, 0]\n",
    "plot_altura(param_5)\n",
    "plot_azimuth(param_5)"
   ]
  },
  {
   "cell_type": "code",
   "execution_count": 33,
   "metadata": {},
   "outputs": [
    {
     "name": "stdout",
     "output_type": "stream",
     "text": [
      "alt:  2.3028688691218226 2.2084983916027627\n",
      "az:  15.744627552509371 15.743932495382785\n"
     ]
    }
   ],
   "source": [
    "def construct_acumulate_alt_xi(x_list, y_list, z_list, ctes = None):\n",
    "    def acumulate_xi(params):\n",
    "        C, A, F, V, S, D, P, Q, E, ep, X0, Y0, a0 = params\n",
    "        suma_xi = 0\n",
    "        for x, y, z in zip(x_list, y_list, z_list):\n",
    "            xi = construct_alt_xi(int(x), int(y), int(z))\n",
    "            suma_xi += xi(C, A, F, V, S, D, P, Q, E, ep, float(X0), float(Y0), a0)\n",
    "#         pbar.update()\n",
    "        return suma_xi\n",
    "    return acumulate_xi\n",
    "\n",
    "def construct_acumulate_az_xi(x_list, y_list, z_list, ctes = None):\n",
    "    def acumulate_xi(params):\n",
    "        C, A, F, V, S, D, P, Q, E, ep, X0, Y0, a0 = params\n",
    "        suma_xi = 0\n",
    "        for x, y, z in zip(x_list, y_list, z_list):\n",
    "            xi = construct_az_xi(int(x), int(y), int(z))\n",
    "            suma_xi += xi(C, A, F, V, S, D, P, Q, E, ep, float(X0), float(Y0), a0)\n",
    "#         pbar.update()\n",
    "        return suma_xi\n",
    "    return acumulate_xi\n",
    "\n",
    "data = pd.read_csv(\"Data.pixtab\", sep=\" \")\n",
    "data = data.dropna()\n",
    "# data = drop_outlayers_by_borovicka(data, construct_altura_deg(*ctes[:3],*init_params, *ctes[3:]), 5)\n",
    "x_exp = data.x.values\n",
    "y_exp = data.y.values\n",
    "alt_catalogo = data.alt.values\n",
    "az_catalogo = np.rad2deg(np.arccos(np.cos(np.deg2rad(data.az.values))))\n",
    "mega_alt_xi = construct_acumulate_alt_xi(x_exp, y_exp, alt_catalogo)\n",
    "mega_az_xi = construct_acumulate_az_xi(x_exp, y_exp, az_catalogo)\n",
    "\n",
    "param_1 = [ 1.08232e+00, -2.94000e-04 , 5.16000e-05 , 3.00000e-03 , 1.00000e-04,\n",
    "  1.00000e-05,  0.00000e+00 , 0.00000e+00, -9.24000e-05,  1.08232e-03,\n",
    "  7.24000e+02,  4.72000e+02 , 0.00000e+00]\n",
    "\n",
    "param_2 = [ 1.12910886e+00,  2.83699436e-03 , 1.62385935e-02 , 3.00235088e-03,\n",
    "  1.00167129e-04,  1.00729745e-05 , 1.78968400e-05 , 1.87863268e-05,\n",
    " -1.10622227e-03 ,-1.23802454e-03  ,7.28955587e+02 , 4.77963259e+02,\n",
    "  7.76832139e-01]\n",
    "\n",
    "param_3 = [ 1.12840603e+00 , 2.28744941e-03, -6.51562582e-02,  3.00445129e-03,\n",
    " -1.38070859e-04 , 1.47936214e-05 , 4.76105580e-05, -1.02802622e-05,\n",
    " -4.95192868e-03, -1.23802454e-03 , 7.28608947e+02 , 4.77611290e+02,\n",
    "  7.73928718e-01]\n",
    "\n",
    "param_4 = [ 1.12428482e+00 , 4.24656648e-03, -1.17541302e+00 , 3.00967397e-03,\n",
    "  5.80256527e-04 ,-2.39030459e-04 , 4.19911841e-03, -6.01712122e-06,\n",
    " -4.90153576e-03, -1.23802454e-03 , 7.28624994e+02,  4.77610089e+02,\n",
    "  7.73978261e-01]\n",
    "\n",
    "param_5 = [ 1.12830285e+00,  4.18049889e-03, -6.79165404e-01 , 3.13480598e-03,\n",
    "  2.15742967e-03 , 7.40732289e-04 , 8.39575408e-02, -7.21502667e-06,\n",
    " -4.92018266e-03, -1.23802454e-03  ,7.28617422e+02 , 4.77603775e+02,\n",
    "  7.73955862e-01]\n",
    "\n",
    "\n",
    "print(\"alt: \",mega_alt_xi(param_4)/len(x_exp), mega_alt_xi(param_5)/len(x_exp))\n",
    "print(\"az: \",mega_az_xi(param_4)/len(x_exp), mega_az_xi(param_5)/len(x_exp))"
   ]
  },
  {
   "cell_type": "code",
   "execution_count": null,
   "metadata": {},
   "outputs": [],
   "source": []
  },
  {
   "cell_type": "code",
   "execution_count": null,
   "metadata": {},
   "outputs": [],
   "source": []
  }
 ],
 "metadata": {
  "kernelspec": {
   "display_name": "Python 3",
   "language": "python",
   "name": "python3"
  },
  "language_info": {
   "codemirror_mode": {
    "name": "ipython",
    "version": 3
   },
   "file_extension": ".py",
   "mimetype": "text/x-python",
   "name": "python",
   "nbconvert_exporter": "python",
   "pygments_lexer": "ipython3",
   "version": "3.7.0"
  }
 },
 "nbformat": 4,
 "nbformat_minor": 2
}
