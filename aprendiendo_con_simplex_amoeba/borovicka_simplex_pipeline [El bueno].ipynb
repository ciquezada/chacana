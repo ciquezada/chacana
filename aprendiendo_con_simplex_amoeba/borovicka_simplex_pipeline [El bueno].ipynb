{
 "cells": [
  {
   "cell_type": "markdown",
   "metadata": {},
   "source": [
    "# Amoeba en Borovicka"
   ]
  },
  {
   "cell_type": "markdown",
   "metadata": {},
   "source": [
    "[subir](#pipeline)<a id='pipeline'></a>\n",
    "## Intentemos un pipeline\n",
    "\n",
    "Solo podriamos conocer un V,S,D,P,Q aproximado dado del paper de Borovicka. Ademas sobre C,A,F podemos seguir el consejo de hacer A,F nulos, pero C tendra que ser un valor pequeño como 0.01. Para E,ep podemos hacerlos nulos. El centro X0,Y0 tendremos que aproximarlo al ojo, tener una idea, en este caso 724,472. Por ultimo el offset del azimut a0 podemos hacerlo nulo.\n",
    "\n",
    "El principal problema es reducir los datos en un principio porque no sabemos qué es lo que estamos descartando\n",
    "El paso 2-3 es bueno separarlo para hacer la reduccion mas eficientemente\n",
    "\n",
    "Parametros iniciales:\n",
    "- [0)] <sub> $Xi^2_{alt}=46.65$, $Xi^2_{az}=1629$ : [1, 0, 0, 0.003, 0.0001, 0.00001, 0, 0, 0, 0.001, 724, 472, 0]\n",
    "\n",
    "Luego el orden que mejor nos resultó fué:\n",
    "- [1)](#paso1) Reducir altura con C,A,F,E,ep usando TODOS los datos (1:08:18) <sub> $Xi^2_{alt}=2.19$, $Xi^2_{az}=2632$ : [1.11503969e+00, -1.56658228e-02, -2.27822274e-01,  3.00000000e-03, 1.00000000e-04,  1.00000000e-05,  0.00000000e+00,  0.00000000e+00, 2.86383222e-01, -6.84149304e-03,  7.24000000e+02,  4.72000000e+02, 0.00000000e+00]\n",
    "    \n",
    "- [2)](#paso2) Reducir azimut con a0 usando datos discriminados (0:07:54) <sub> $Xi^2_{alt}=3.29$, $Xi^2_{az}=307.2$ : [1.11503969e+00, -1.56658228e-02, -2.27822274e-01,  3.00000000e-03, 1.00000000e-04,  1.00000000e-05,  0.00000000e+00,  0.00000000e+00, 2.86383222e-01, -6.84149304e-03,  7.24000000e+02,  4.72000000e+02, 9.56142578e-01]\n",
    "    \n",
    "- [3)](#paso3) Reducir azimut con E,X0,Y0,a0 usando datos discriminados (0:55:19) <sub> $Xi^2_{alt}=2.84$, $Xi^2_{az}=15.70$ : [1.11503969e+00, -1.56658228e-02, -2.27822274e-01,  3.00000000e-03, 1.00000000e-04,  1.00000000e-05,  0.00000000e+00,  0.00000000e+00, -6.06531026e-03, -6.84149304e-03,  7.26230277e+02,  4.79906209e+02, 7.73715459e-01]\n",
    "    \n",
    "- [4)](#paso4) Reducir altura con V,S,D,P,Q usando datos discriminados (0:19:05) <sub> $Xi^2_{alt}=2.78$, $Xi^2_{az}=15.69$ : [1.11503969e+00, -1.56658228e-02, -2.27822274e-01,  2.99517405e-03, 1.41721867e-04,  1.56466343e-05, -3.94352535e-03, -3.82198376e-03, -6.06531026e-03, -6.84149304e-03,  7.26230277e+02,  4.79906209e+02, 7.73715459e-01]\n",
    "    \n",
    "- [5)](#paso5) Reducir altura con C,A,F usando datos discriminados (0:21:58) <sub> $Xi^2_{alt}=2.28$, $Xi^2_{az}=15.73$ : [1.12716604e+00,  2.47858246e-03,  7.04388456e-01,  2.99517405e-03, 1.41721867e-04,  1.56466343e-05, -3.94352535e-03, -3.82198376e-03, -6.06531026e-03, -6.84149304e-03,  7.26230277e+02,  4.79906209e+02, 7.73715459e-01]\n",
    "    \n",
    "Demoró como 3 horas y el resultado fue el mas preciso"
   ]
  },
  {
   "cell_type": "code",
   "execution_count": 1,
   "metadata": {},
   "outputs": [],
   "source": [
    "from scipy import optimize, stats\n",
    "import matplotlib.pyplot as plt\n",
    "import pandas as pd\n",
    "import numpy as np\n",
    "from tqdm import tqdm"
   ]
  },
  {
   "cell_type": "markdown",
   "metadata": {},
   "source": [
    "## Funciones"
   ]
  },
  {
   "cell_type": "code",
   "execution_count": 2,
   "metadata": {},
   "outputs": [],
   "source": [
    "\"\"\"\n",
    "Funciones de Borovicka que\n",
    "dependen de [C, A, F, V, S, D, P, Q, E, ep, X0, Y0, a0]\n",
    "\"\"\"\n",
    "\n",
    "def construct_radio(C, A, F, X0, Y0, a0):\n",
    "    def r(x, y):\n",
    "        return C * ( np.sqrt( (x-X0)**2 + (y-Y0)**2 ) + A*(y-X0)*np.cos(F-a0) - A*(x-X0)*np.sin(F-a0) )\n",
    "    return r\n",
    "\n",
    "def construct_u(C, A, F, V, S, D, P, Q, X0, Y0, a0):\n",
    "    def u(x, y):\n",
    "        r = construct_radio(C, A, F, X0, Y0, a0)\n",
    "        return V*r(x, y) + S*(np.e**(D*r(x,y)) - 1) + P*(np.e**(Q*r(x,y)**2) - 1) \n",
    "    return u\n",
    "\n",
    "def construct_b(E, X0, Y0, a0):\n",
    "    def b(x, y):\n",
    "        return a0 - E + np.arctan2((y - Y0),(x - X0))\n",
    "    return b\n",
    "\n",
    "def construct_altura(C, A, F, V, S, D, P, Q, E, ep, X0, Y0, a0):\n",
    "    def z(x, y):\n",
    "        u = construct_u(C, A, F, V, S, D, P, Q, X0, Y0, a0)\n",
    "        b = construct_b(E, X0, Y0, a0)\n",
    "        return np.arccos( np.cos(u(x,y))*np.cos(ep) - np.sin(u(x,y))*np.sin(ep)*np.cos(b(x,y)) )\n",
    "    return z\n",
    "\n",
    "def construct_altura_deg(C, A, F, V, S, D, P, Q, E, ep, X0, Y0, a0):\n",
    "    def z(x, y):\n",
    "        u = construct_u(C, A, F, V, S, D, P, Q, X0, Y0, a0)\n",
    "        b = construct_b(E, X0, Y0, a0)\n",
    "        return 90 - np.rad2deg( np.arccos( np.cos(u(x,y))*np.cos(ep) - np.sin(u(x,y))*np.sin(ep)*np.cos(b(x,y)) ) )\n",
    "    return z\n",
    "\n",
    "def construct_azimuth(C, A, F, V, S, D, P, Q, E, ep, X0, Y0, a0):\n",
    "    def az(x, y):\n",
    "        u = construct_u(C, A, F, V, S, D, P, Q, X0, Y0, a0)\n",
    "        b = construct_b(E, X0, Y0, a0)\n",
    "        z = construct_altura(C, A, F, V, S, D, P, Q, E, ep, X0, Y0, a0)\n",
    "        return np.arcsin( np.sin(b(x,y))*np.sin(u(x,y))/np.sin(z(x,y)) ) + E\n",
    "    return az\n",
    "\n",
    "def construct_azimuth_deg(C, A, F, V, S, D, P, Q, E, ep, X0, Y0, a0):\n",
    "    def az(x, y):\n",
    "        u = construct_u(C, A, F, V, S, D, P, Q, X0, Y0, a0)\n",
    "        b = construct_b(E, X0, Y0, a0)\n",
    "        z = construct_altura(C, A, F, V, S, D, P, Q, E, ep, X0, Y0, a0)\n",
    "        return np.rad2deg( np.arcsin( np.sin(b(x,y))*np.sin(u(x,y))/np.sin(z(x,y)) ) + E ) + 90\n",
    "    return az\n",
    "\n",
    "\"\"\"\n",
    "Estos son constructores de una funcion de Xi**2\n",
    "\"\"\"\n",
    "\n",
    "def construct_alt_xi(x, y, z):\n",
    "    def xi(C, A, F, V, S, D, P, Q, E, ep, X0, Y0, a0):\n",
    "        alt_teorico = construct_altura_deg(C, A, F, V, S, D, P, Q, E, ep, X0, Y0, a0)\n",
    "        return (z - alt_teorico(x, y))**2\n",
    "    return xi\n",
    "\n",
    "def construct_az_xi(x, y, z):\n",
    "    def xi(C, A, F, V, S, D, P, Q, E, ep, X0, Y0, a0):\n",
    "        az_teorico = construct_azimuth_deg(C, A, F, V, S, D, P, Q, E, ep, X0, Y0, a0)\n",
    "        return (z - az_teorico(x, y))**2\n",
    "    return xi"
   ]
  },
  {
   "cell_type": "code",
   "execution_count": 3,
   "metadata": {},
   "outputs": [],
   "source": [
    "\"\"\"\n",
    "Para reducir los datos outlayers segun que tan lejos quedan de la primera\n",
    "aproximacion por Borovicka\n",
    "\"\"\"\n",
    "def drop_outlayers_by_borovicka(pixtab_df, plano, diff = 1):\n",
    "    \n",
    "    X_MIN = 250\n",
    "    X_MAX = 1250\n",
    "    Y_MIN = 0\n",
    "    Y_MAX = 950\n",
    "    MAX_RADIO = 500\n",
    "    RADIO_STEPS = 2000\n",
    "    query_str = \"{}<=x<={} and {}<=y<={}\".format(X_MIN, X_MAX,\n",
    "                                                            Y_MIN, Y_MAX)\n",
    "    data = pixtab_df.dropna(thresh = 7).query(query_str)\n",
    "    \n",
    "    pbar = tqdm(total=len(data.x.values), desc=\"Droping Outlayers\")\n",
    "    new_df_indx = []\n",
    "    for indx in data.index:\n",
    "        x = data.at[indx,\"x\"]\n",
    "        y = data.at[indx,\"y\"]\n",
    "        alt = data.at[indx,\"alt\"]\n",
    "        if np.abs(plano(x,y)-alt) < diff:\n",
    "            new_df_indx.append(indx)\n",
    "        pbar.update()\n",
    "    pbar.close()\n",
    "    return data.loc[new_df_indx]\n",
    "\n",
    "# Por si queremos exportar los datos para visualizarlos \n",
    "# out = drop_outlayers_by_borovicka(data, X0, Y0)\n",
    "# out\n",
    "# out[\"xcentroid\"] = out[\"x\"]\n",
    "# out[\"ycentroid\"] = out[\"y\"]\n",
    "# out.to_csv(\"drop_outlayer.dat\", sep=' ', index=False)\n",
    "# plt.gca().invert_yaxis()\n",
    "# plt.scatter(out.x.values, out.y.values, c=out.alt.values, s=0.01)"
   ]
  },
  {
   "cell_type": "code",
   "execution_count": 24,
   "metadata": {},
   "outputs": [],
   "source": [
    "\"\"\"\n",
    "Para plotear la altura o el azimut, es necesaria\n",
    "una lista con todos los parametros \n",
    "[C, A, F, V, S, D, P, Q, E, ep, X0, Y0, a0]\n",
    "\"\"\"\n",
    "\n",
    "def plot_plano(plano):\n",
    "    x = np.linspace(0, 1200, 100)\n",
    "    y = np.linspace(0, 900, 100)\n",
    "    X, Y = np.meshgrid(x, y)\n",
    "    Z = plano(X, Y)\n",
    "    fig,ax=plt.subplots(1,1)\n",
    "    cp = ax.contourf(X, Y, Z, 10)\n",
    "    fig.colorbar(cp) # Add a colorbar to a plot\n",
    "    ax.set_title('Toda una linea que minimiza y=mx+n')\n",
    "    plt.gca().invert_yaxis()\n",
    "    ax.set_xlabel('x')\n",
    "    ax.set_ylabel('y')\n",
    "    plt.show()\n",
    "\n",
    "def plot_altura(vector):\n",
    "    plano = construct_altura_deg(*vector)\n",
    "    plot_plano(plano)\n",
    "    \n",
    "def plot_azimuth(vector):\n",
    "    plano = construct_azimuth_deg(*vector)\n",
    "    plot_plano(plano)"
   ]
  },
  {
   "cell_type": "code",
   "execution_count": 5,
   "metadata": {},
   "outputs": [],
   "source": [
    "\"\"\"\n",
    "Esto lo definimos por cada intento segun los parametros constantes que\n",
    "queramos dejar\n",
    "\"\"\"\n",
    "\n",
    "def construct_acumulate_alt_xi(x_list, y_list, z_list, ctes = None):\n",
    "    def acumulate_xi(params):\n",
    "        V, S, D, P, Q, a0 = ctes\n",
    "        C, A, F, E, ep, X0, Y0 = params\n",
    "        suma_xi = 0\n",
    "        for x, y, z in zip(x_list, y_list, z_list):\n",
    "            xi = construct_alt_xi(int(x), int(y), int(z))\n",
    "            suma_xi += xi(C, A, F, V, S, D, P, Q, E, ep, float(X0), float(Y0), a0)\n",
    "        pbar.update()\n",
    "        return suma_xi\n",
    "    return acumulate_xi\n",
    "\n",
    "def construct_acumulate_az_xi(x_list, y_list, z_list, ctes = None):\n",
    "    def acumulate_xi(params):\n",
    "        V, S, D, P, Q, a0 = ctes\n",
    "        C, A, F, E, ep, X0, Y0 = params\n",
    "        suma_xi = 0\n",
    "        for x, y, z in zip(x_list, y_list, z_list):\n",
    "            xi = construct_az_xi(int(x), int(y), int(z))\n",
    "            suma_xi += xi(C, A, F, V, S, D, P, Q, E, ep, float(X0), float(Y0), a0)\n",
    "        pbar.update()\n",
    "        return suma_xii\n",
    "    return acumulate_xi\n",
    "\n",
    "######################################################################################################\n",
    "\n",
    "def amoeba(params, mega_alt_xi, mega_az_xi):\n",
    "    new_alt_params = optimize.fmin(mega_alt_xi, params, maxfun=1100)\n",
    "    new_az_params = optimize.fmin(mega_az_xi, params, maxfun=1100)\n",
    "    return [new_alt_params, new_az_params]"
   ]
  },
  {
   "cell_type": "code",
   "execution_count": 6,
   "metadata": {},
   "outputs": [],
   "source": [
    "results_list = []"
   ]
  },
  {
   "cell_type": "markdown",
   "metadata": {},
   "source": [
    "[subir](#pipeline)<a id='paso1'></a>\n",
    "### Paso 1\n",
    "Primero haremos un acercamiento 314 para buscar parametros C,A,F,E,ep que nos ayuden a reducir mejor los datos outlayers\n",
    "\n",
    "Otra opcion era buscar E,X0,Y0,a0 desde el principio sin quitar datos outlayers, el problema es que E,ep al ser 0 tienen problemas en la funcion de azimut"
   ]
  },
  {
   "cell_type": "code",
   "execution_count": 7,
   "metadata": {
    "scrolled": true
   },
   "outputs": [
    {
     "name": "stderr",
     "output_type": "stream",
     "text": [
      "Aproximando altura y azimuth:  65%|███████████████████████████████                 | 713/1100 [00:00<00:00, 783.19it/s]"
     ]
    },
    {
     "name": "stdout",
     "output_type": "stream",
     "text": [
      "Optimization terminated successfully.\n",
      "         Current function value: 27.875075\n",
      "         Iterations: 462\n",
      "         Function evaluations: 742\n"
     ]
    },
    {
     "name": "stderr",
     "output_type": "stream",
     "text": [
      "Aproximando altura y azimuth:  67%|████████████████████████████████▍               | 742/1100 [00:00<00:00, 777.41it/s]\n"
     ]
    },
    {
     "data": {
      "text/plain": [
       "array([ 1.12445240e+00, -3.28130997e-02,  1.07156818e+00,  3.00000000e-03,\n",
       "        1.00000000e-04,  1.00000000e-05,  0.00000000e+00,  0.00000000e+00,\n",
       "       -4.24920835e-01, -1.39770051e-01,  7.24000000e+02,  4.72000000e+02,\n",
       "        0.00000000e+00])"
      ]
     },
     "execution_count": 7,
     "metadata": {},
     "output_type": "execute_result"
    }
   ],
   "source": [
    "\"\"\"\n",
    "314 - V, S, D, P, Q, X0, Y0, a0\n",
    "\"\"\"\n",
    "\n",
    "def construct_acumulate_alt_xi(x_list, y_list, z_list, ctes = None):\n",
    "    def acumulate_xi(params):\n",
    "        V, S, D, P, Q, X0, Y0, a0 = ctes\n",
    "        C, A, F, E, ep, = params\n",
    "        suma_xi = 0\n",
    "        for x, y, z in zip(x_list, y_list, z_list):\n",
    "            xi = construct_alt_xi(int(x), int(y), int(z))\n",
    "            suma_xi += xi(C, A, F, V, S, D, P, Q, E, ep, float(X0), float(Y0), a0)\n",
    "        pbar.update()\n",
    "        return suma_xi\n",
    "    return acumulate_xi\n",
    "\n",
    "def construct_acumulate_az_xi(x_list, y_list, z_list, ctes = None):\n",
    "    def acumulate_xi(params):\n",
    "        V, S, D, P, Q, X0, Y0, a0 = ctes\n",
    "        C, A, F, E, ep, = params\n",
    "        suma_xi = 0\n",
    "        for x, y, z in zip(x_list, y_list, z_list):\n",
    "            xi = construct_az_xi(int(x), int(y), int(z))\n",
    "            suma_xi += xi(C, A, F, V, S, D, P, Q, E, ep, float(X0), float(Y0), a0)\n",
    "        pbar.update()\n",
    "        return suma_xi\n",
    "    return acumulate_xi\n",
    "\n",
    "######################################################################################################\n",
    "\n",
    "def amoeba(params, mega_alt_xi, mega_az_xi):\n",
    "    new_alt_params = optimize.fmin(mega_alt_xi, params, maxfun=1100)\n",
    "#     new_az_params = optimize.fmin(mega_az_xi, params, maxfun=1100)\n",
    "    return [new_alt_params]\n",
    "\n",
    "init_params = [1, 0, 0, 0, 0.001]\n",
    "ctes = [0.003, 0.0001, 0.00001, 0, 0,\n",
    "           724, 472, 0]\n",
    "\n",
    "data = pd.read_csv(\"Data_corrected_1.pixtab\", sep=\" \")\n",
    "# data = pd.read_csv(\"Data.pixtab\", sep=\" \")\n",
    "data = data.dropna()\n",
    "# data = drop_outlayers_by_borovicka(data, construct_altura_deg(*init_params[:3], *ctes[:-3], *init_params[-2:], *ctes[-3:]), 5)\n",
    "x_exp = data.x.values\n",
    "y_exp = data.y.values\n",
    "alt_catalogo = data.alt.values\n",
    "az_catalogo = np.rad2deg(np.arccos(np.cos(np.deg2rad(data.az.values))))\n",
    "mega_alt_xi = construct_acumulate_alt_xi(x_exp, y_exp, alt_catalogo, ctes)\n",
    "mega_az_xi = construct_acumulate_az_xi(x_exp, y_exp, az_catalogo, ctes)\n",
    "\n",
    "pbar = tqdm(total=1100, desc=\"Aproximando altura y azimuth\")\n",
    "results_list += amoeba(init_params, mega_alt_xi, mega_az_xi)\n",
    "pbar.close()\n",
    "results_list[-1]\n",
    "\n",
    "result_1 = np.array([*results_list[-1][:3], *ctes[:-3], *results_list[-1][-2:], *ctes[-3:]])\n",
    "result_1"
   ]
  },
  {
   "cell_type": "code",
   "execution_count": 24,
   "metadata": {},
   "outputs": [],
   "source": [
    "temp_result_1 = np.array([ 1.11503969e+00, -1.56658228e-02, -2.27822274e-01,  3.00000000e-03,\n",
    "        1.00000000e-04,  1.00000000e-05,  0.00000000e+00,  0.00000000e+00,\n",
    "        2.86383222e-01, -6.84149304e-03,  7.24000000e+02,  4.72000000e+02,\n",
    "        0.00000000e+00])"
   ]
  },
  {
   "cell_type": "markdown",
   "metadata": {},
   "source": [
    "[subir](#pipeline)<a id='paso2'></a>\n",
    "### Paso 2\n",
    "Ahora buscamos a0 quitando datos outlayers reduciendo azimut. Al ser solo a0 deberia ser mas fácil."
   ]
  },
  {
   "cell_type": "code",
   "execution_count": 16,
   "metadata": {
    "scrolled": true
   },
   "outputs": [
    {
     "name": "stderr",
     "output_type": "stream",
     "text": [
      "\r",
      "Aproximando altura y azimuth:   0%|                                                           | 0/1100 [00:00<?, ?it/s]"
     ]
    },
    {
     "name": "stdout",
     "output_type": "stream",
     "text": [
      "Optimization terminated successfully.\n",
      "         Current function value: 8943.576007\n",
      "         Iterations: 24\n",
      "         Function evaluations: 48\n"
     ]
    },
    {
     "name": "stderr",
     "output_type": "stream",
     "text": [
      "Aproximando altura y azimuth:   4%|██▏                                              | 48/1100 [00:00<00:01, 534.84it/s]\n"
     ]
    },
    {
     "data": {
      "text/plain": [
       "array([ 1.12445240e+00, -3.28130997e-02,  1.07156818e+00,  3.00000000e-03,\n",
       "        1.00000000e-04,  1.00000000e-05,  0.00000000e+00,  0.00000000e+00,\n",
       "       -4.24920835e-01, -1.39770051e-01,  7.24000000e+02,  4.72000000e+02,\n",
       "       -4.87375000e-01])"
      ]
     },
     "execution_count": 16,
     "metadata": {},
     "output_type": "execute_result"
    }
   ],
   "source": [
    "\"\"\"\n",
    "311 - C, A, F, V, S, D, P, Q, ep, a0\n",
    "\"\"\"\n",
    "\n",
    "def construct_acumulate_alt_xi(x_list, y_list, z_list, ctes = None):\n",
    "    def acumulate_xi(params):\n",
    "        C, A, F, V, S, D, P, Q, E, ep, X0, Y0 = ctes\n",
    "        a0, = params\n",
    "        suma_xi = 0\n",
    "        for x, y, z in zip(x_list, y_list, z_list):\n",
    "            xi = construct_alt_xi(int(x), int(y), int(z))\n",
    "            suma_xi += xi(C, A, F, V, S, D, P, Q, E, ep, float(X0), float(Y0), a0)\n",
    "        pbar.update()\n",
    "        return suma_xi\n",
    "    return acumulate_xi\n",
    "\n",
    "def construct_acumulate_az_xi(x_list, y_list, z_list, ctes = None):\n",
    "    def acumulate_xi(params):\n",
    "        C, A, F, V, S, D, P, Q, E, ep, X0, Y0 = ctes\n",
    "        a0, = params\n",
    "        suma_xi = 0\n",
    "        for x, y, z in zip(x_list, y_list, z_list):\n",
    "            xi = construct_az_xi(int(x), int(y), int(z))\n",
    "            suma_xi += xi(C, A, F, V, S, D, P, Q, E, ep, float(X0), float(Y0), a0)\n",
    "        pbar.update()\n",
    "        return suma_xi\n",
    "    return acumulate_xi\n",
    "\n",
    "######################################################################################################\n",
    "\n",
    "def amoeba(params, mega_alt_xi, mega_az_xi):\n",
    "#     new_alt_params = optimize.fmin(mega_alt_xi, params, maxfun=1100)\n",
    "    new_az_params = optimize.fmin(mega_az_xi, params, maxfun=1100)\n",
    "    return [new_az_params]\n",
    "\n",
    "init_params = [result_1[-1]]\n",
    "ctes = [*result_1[:-1]]\n",
    "\n",
    "# data = pd.read_csv(\"Data.pixtab\", sep=\" \")\n",
    "data = pd.read_csv(\"Data_corrected_1.pixtab\", sep=\" \")\n",
    "data = data.dropna()\n",
    "# data = drop_outlayers_by_borovicka(data, construct_altura_deg(*ctes, *init_params), 5)\n",
    "x_exp = data.x.values\n",
    "y_exp = data.y.values\n",
    "alt_catalogo = data.alt.values\n",
    "az_catalogo = np.rad2deg(np.arccos(np.cos(np.deg2rad(data.az.values))))\n",
    "mega_alt_xi = construct_acumulate_alt_xi(x_exp, y_exp, alt_catalogo, ctes)\n",
    "mega_az_xi = construct_acumulate_az_xi(x_exp, y_exp, az_catalogo, ctes)\n",
    "\n",
    "pbar = tqdm(total=1100, desc=\"Aproximando altura y azimuth\")\n",
    "results_list += amoeba(init_params, mega_alt_xi, mega_az_xi)\n",
    "pbar.close()\n",
    "results_list[-1]\n",
    "\n",
    "result_2 = np.array([*ctes, *results_list[-1]])\n",
    "result_2"
   ]
  },
  {
   "cell_type": "code",
   "execution_count": 25,
   "metadata": {},
   "outputs": [],
   "source": [
    "temp_result_2 = np.array([ 1.11503969e+00, -1.56658228e-02, -2.27822274e-01,  3.00000000e-03,\n",
    "        1.00000000e-04,  1.00000000e-05,  0.00000000e+00,  0.00000000e+00,\n",
    "        2.86383222e-01, -6.84149304e-03,  7.24000000e+02,  4.72000000e+02,\n",
    "        9.56142578e-01])"
   ]
  },
  {
   "cell_type": "markdown",
   "metadata": {},
   "source": [
    "[subir](#pipeline)<a id='paso3'></a>\n",
    "### Paso 3\n",
    "Ahora buscamos E,X0,Y0,a0 quitando datos outlayers reduciendo azimut. Como a0 esta más cerca del resultado pude que se demore menos. (19min menos y mejor resultado)"
   ]
  },
  {
   "cell_type": "code",
   "execution_count": 17,
   "metadata": {
    "scrolled": true
   },
   "outputs": [
    {
     "name": "stderr",
     "output_type": "stream",
     "text": [
      "Aproximando altura y azimuth:  24%|███████████▋                                    | 269/1100 [00:00<00:01, 536.56it/s]"
     ]
    },
    {
     "name": "stdout",
     "output_type": "stream",
     "text": [
      "Optimization terminated successfully.\n",
      "         Current function value: 20.671578\n",
      "         Iterations: 173\n",
      "         Function evaluations: 306\n"
     ]
    },
    {
     "name": "stderr",
     "output_type": "stream",
     "text": [
      "Aproximando altura y azimuth:  28%|█████████████▎                                  | 306/1100 [00:00<00:01, 531.75it/s]\n"
     ]
    },
    {
     "data": {
      "text/plain": [
       "array([ 1.12445240e+00, -3.28130997e-02,  1.07156818e+00,  3.00000000e-03,\n",
       "        1.00000000e-04,  1.00000000e-05,  0.00000000e+00,  0.00000000e+00,\n",
       "       -1.67564853e-02, -1.39770051e-01,  7.28774174e+02,  4.61590380e+02,\n",
       "        1.50304066e-01])"
      ]
     },
     "execution_count": 17,
     "metadata": {},
     "output_type": "execute_result"
    }
   ],
   "source": [
    "\"\"\"\n",
    "311 - C, A, F, V, S, D, P, Q, ep, a0\n",
    "\"\"\"\n",
    "\n",
    "def construct_acumulate_alt_xi(x_list, y_list, z_list, ctes = None):\n",
    "    def acumulate_xi(params):\n",
    "        C, A, F, V, S, D, P, Q, ep = ctes\n",
    "        E, X0, Y0, a0, = params\n",
    "        suma_xi = 0\n",
    "        for x, y, z in zip(x_list, y_list, z_list):\n",
    "            xi = construct_alt_xi(int(x), int(y), int(z))\n",
    "            suma_xi += xi(C, A, F, V, S, D, P, Q, E, ep, float(X0), float(Y0), a0)\n",
    "        pbar.update()\n",
    "        return suma_xi\n",
    "    return acumulate_xi\n",
    "\n",
    "def construct_acumulate_az_xi(x_list, y_list, z_list, ctes = None):\n",
    "    def acumulate_xi(params):\n",
    "        C, A, F, V, S, D, P, Q, ep = ctes\n",
    "        E, X0, Y0, a0, = params\n",
    "        suma_xi = 0\n",
    "        for x, y, z in zip(x_list, y_list, z_list):\n",
    "            xi = construct_az_xi(int(x), int(y), int(z))\n",
    "            suma_xi += xi(C, A, F, V, S, D, P, Q, E, ep, float(X0), float(Y0), a0)\n",
    "        pbar.update()\n",
    "        return suma_xi\n",
    "    return acumulate_xi\n",
    "\n",
    "######################################################################################################\n",
    "\n",
    "def amoeba(params, mega_alt_xi, mega_az_xi):\n",
    "#     new_alt_params = optimize.fmin(mega_alt_xi, params, maxfun=1100)\n",
    "    new_az_params = optimize.fmin(mega_az_xi, params, maxfun=1100)\n",
    "    return [new_az_params]\n",
    "\n",
    "init_params = [result_2[8], *result_2[-3:]]\n",
    "ctes = [*result_2[:8], result_2[9]]\n",
    "\n",
    "# data = pd.read_csv(\"Data.pixtab\", sep=\" \")\n",
    "data = pd.read_csv(\"Data_corrected_1.pixtab\", sep=\" \")\n",
    "data = data.dropna()\n",
    "# data = drop_outlayers_by_borovicka(data, construct_altura_deg(*ctes[:-1], init_params[0], ctes[-1], *init_params[-3:]), 5)\n",
    "x_exp = data.x.values\n",
    "y_exp = data.y.values\n",
    "alt_catalogo = data.alt.values\n",
    "az_catalogo = np.rad2deg(np.arccos(np.cos(np.deg2rad(data.az.values))))\n",
    "mega_alt_xi = construct_acumulate_alt_xi(x_exp, y_exp, alt_catalogo, ctes)\n",
    "mega_az_xi = construct_acumulate_az_xi(x_exp, y_exp, az_catalogo, ctes)\n",
    "\n",
    "pbar = tqdm(total=1100, desc=\"Aproximando altura y azimuth\")\n",
    "results_list += amoeba(init_params, mega_alt_xi, mega_az_xi)\n",
    "pbar.close()\n",
    "results_list[-1]\n",
    "\n",
    "result_3 = np.array([*ctes[:-1], results_list[-1][0], ctes[-1], *results_list[-1][-3:]])\n",
    "result_3"
   ]
  },
  {
   "cell_type": "code",
   "execution_count": 26,
   "metadata": {},
   "outputs": [],
   "source": [
    "temp_result_3 = np.array([ 1.11503969e+00, -1.56658228e-02, -2.27822274e-01,  3.00000000e-03,\n",
    "        1.00000000e-04,  1.00000000e-05,  0.00000000e+00,  0.00000000e+00,\n",
    "       -6.06531026e-03, -6.84149304e-03,  7.26230277e+02,  4.79906209e+02,\n",
    "        7.73715459e-01])"
   ]
  },
  {
   "cell_type": "markdown",
   "metadata": {},
   "source": [
    "[subir](#pipeline)<a id='paso4'></a>\n",
    "### Paso 4\n",
    "Ahora buscamos V,S,D,P,Q reduciendo la altura. Según lo que experimentamos no deberia afectar al azimut\n",
    "\n",
    "Algo particular es que si reducimos discriminando datos apunta mal, debe ser que necesita mas datos en el horizonte"
   ]
  },
  {
   "cell_type": "code",
   "execution_count": 18,
   "metadata": {
    "scrolled": true
   },
   "outputs": [
    {
     "name": "stderr",
     "output_type": "stream",
     "text": [
      "Aproximando altura y azimuth:  15%|███████▎                                        | 168/1100 [00:00<00:01, 833.75it/s]"
     ]
    },
    {
     "name": "stdout",
     "output_type": "stream",
     "text": [
      "Optimization terminated successfully.\n",
      "         Current function value: 50.106887\n",
      "         Iterations: 140\n",
      "         Function evaluations: 240\n"
     ]
    },
    {
     "name": "stderr",
     "output_type": "stream",
     "text": [
      "Aproximando altura y azimuth:  22%|██████████▍                                     | 240/1100 [00:00<00:01, 818.51it/s]\n"
     ]
    },
    {
     "data": {
      "text/plain": [
       "array([ 1.12445240e+00, -3.28130997e-02,  1.07156818e+00,  3.10037832e-03,\n",
       "        6.89167904e-05, -9.81432580e-06,  4.59296291e-02, -6.41820790e-04,\n",
       "       -1.67564853e-02, -1.39770051e-01,  7.28774174e+02,  4.61590380e+02,\n",
       "        1.50304066e-01])"
      ]
     },
     "execution_count": 18,
     "metadata": {},
     "output_type": "execute_result"
    }
   ],
   "source": [
    "\"\"\"\n",
    "314 - V, S, D, P, Q\n",
    "\"\"\"\n",
    "\n",
    "def construct_acumulate_alt_xi(x_list, y_list, z_list, ctes = None):\n",
    "    def acumulate_xi(params):\n",
    "        C, A, F, E, ep, X0, Y0, a0 = ctes\n",
    "        V, S, D, P, Q, = params\n",
    "        suma_xi = 0\n",
    "        for x, y, z in zip(x_list, y_list, z_list):\n",
    "            xi = construct_alt_xi(int(x), int(y), int(z))\n",
    "            suma_xi += xi(C, A, F, V, S, D, P, Q, E, ep, float(X0), float(Y0), a0)\n",
    "        pbar.update()\n",
    "        return suma_xi\n",
    "    return acumulate_xi\n",
    "\n",
    "def construct_acumulate_az_xi(x_list, y_list, z_list, ctes = None):\n",
    "    def acumulate_xi(params):\n",
    "        C, A, F, E, ep, X0, Y0, a0 = ctes\n",
    "        V, S, D, P, Q, = params\n",
    "        suma_xi = 0\n",
    "        for x, y, z in zip(x_list, y_list, z_list):\n",
    "            xi = construct_az_xi(int(x), int(y), int(z))\n",
    "            suma_xi += xi(C, A, F, V, S, D, P, Q, E, ep, float(X0), float(Y0), a0)\n",
    "        pbar.update()\n",
    "        return suma_xi\n",
    "    return acumulate_xi\n",
    "\n",
    "######################################################################################################\n",
    "\n",
    "def amoeba(params, mega_alt_xi, mega_az_xi):\n",
    "    new_alt_params = optimize.fmin(mega_alt_xi, params, maxfun=1100)\n",
    "#     new_az_params = optimize.fmin(mega_az_xi, params, maxfun=1100)\n",
    "    return [new_alt_params]\n",
    "\n",
    "\n",
    "init_params = [*result_3[3:8]]\n",
    "ctes = [*result_3[:3], *result_3[8:]]\n",
    "\n",
    "# data = pd.read_csv(\"Data.pixtab\", sep=\" \")\n",
    "data = pd.read_csv(\"Data_corrected_1.pixtab\", sep=\" \")\n",
    "data = data.dropna()\n",
    "# data = drop_outlayers_by_borovicka(data, construct_altura_deg(*ctes[:3],*init_params, *ctes[3:]), 5)\n",
    "x_exp = data.x.values\n",
    "y_exp = data.y.values\n",
    "alt_catalogo = data.alt.values\n",
    "az_catalogo = np.rad2deg(np.arccos(np.cos(np.deg2rad(data.az.values))))\n",
    "mega_alt_xi = construct_acumulate_alt_xi(x_exp, y_exp, alt_catalogo, ctes)\n",
    "mega_az_xi = construct_acumulate_az_xi(x_exp, y_exp, az_catalogo, ctes)\n",
    "\n",
    "pbar = tqdm(total=1100, desc=\"Aproximando altura y azimuth\")\n",
    "results_list += amoeba(init_params, mega_alt_xi, mega_az_xi)\n",
    "pbar.close()\n",
    "results_list[-1]\n",
    "\n",
    "result_4 = np.array([*ctes[:3],*results_list[-1], *ctes[3:]])\n",
    "result_4"
   ]
  },
  {
   "cell_type": "code",
   "execution_count": 27,
   "metadata": {},
   "outputs": [],
   "source": [
    "temp_result_4 = np.array([1.11503969e+00, -1.56658228e-02, -2.27822274e-01,  2.99517405e-03,\n",
    "        1.41721867e-04,  1.56466343e-05, -3.94352535e-03, -3.82198376e-03,\n",
    "       -6.06531026e-03, -6.84149304e-03,  7.26230277e+02,  4.79906209e+02,\n",
    "        7.73715459e-01])"
   ]
  },
  {
   "cell_type": "markdown",
   "metadata": {},
   "source": [
    "[subir](#pipeline)<a id='paso5'></a>\n",
    "## Paso 5\n",
    "Ahora buscamos C,A,F reduciendo la altura. Según lo que experimentamos no deberia afectar al azimut"
   ]
  },
  {
   "cell_type": "code",
   "execution_count": 19,
   "metadata": {},
   "outputs": [
    {
     "name": "stderr",
     "output_type": "stream",
     "text": [
      "Aproximando altura y azimuth:   8%|███▋                                             | 84/1100 [00:00<00:01, 833.69it/s]"
     ]
    },
    {
     "name": "stdout",
     "output_type": "stream",
     "text": [
      "Optimization terminated successfully.\n",
      "         Current function value: 32.656293\n",
      "         Iterations: 64\n",
      "         Function evaluations: 116\n"
     ]
    },
    {
     "name": "stderr",
     "output_type": "stream",
     "text": [
      "Aproximando altura y azimuth:  11%|█████                                           | 116/1100 [00:00<00:01, 802.15it/s]\n"
     ]
    },
    {
     "data": {
      "text/plain": [
       "array([ 1.13331069e+00, -5.51011463e-02,  1.35989031e+00,  3.10037832e-03,\n",
       "        6.89167904e-05, -9.81432580e-06,  4.59296291e-02, -6.41820790e-04,\n",
       "       -1.67564853e-02, -1.39770051e-01,  7.28774174e+02,  4.61590380e+02,\n",
       "        1.50304066e-01])"
      ]
     },
     "execution_count": 19,
     "metadata": {},
     "output_type": "execute_result"
    }
   ],
   "source": [
    "\"\"\"\n",
    "314 - V, S, D, P, Q, X0, Y0, a0\n",
    "\"\"\"\n",
    "\n",
    "def construct_acumulate_alt_xi(x_list, y_list, z_list, ctes = None):\n",
    "    def acumulate_xi(params):\n",
    "        V, S, D, P, Q, E, ep, X0, Y0, a0 = ctes\n",
    "        C, A, F, = params\n",
    "        suma_xi = 0\n",
    "        for x, y, z in zip(x_list, y_list, z_list):\n",
    "            xi = construct_alt_xi(int(x), int(y), int(z))\n",
    "            suma_xi += xi(C, A, F, V, S, D, P, Q, E, ep, float(X0), float(Y0), a0)\n",
    "        pbar.update()\n",
    "        return suma_xi\n",
    "    return acumulate_xi\n",
    "\n",
    "def construct_acumulate_az_xi(x_list, y_list, z_list, ctes = None):\n",
    "    def acumulate_xi(params):\n",
    "        V, S, D, P, Q, E, ep, X0, Y0, a0 = ctes\n",
    "        C, A, F, = params\n",
    "        suma_xi = 0\n",
    "        for x, y, z in zip(x_list, y_list, z_list):\n",
    "            xi = construct_az_xi(int(x), int(y), int(z))\n",
    "            suma_xi += xi(C, A, F, V, S, D, P, Q, E, ep, float(X0), float(Y0), a0)\n",
    "        pbar.update()\n",
    "        return suma_xi\n",
    "    return acumulate_xi\n",
    "\n",
    "######################################################################################################\n",
    "\n",
    "def amoeba(params, mega_alt_xi, mega_az_xi):\n",
    "    new_alt_params = optimize.fmin(mega_alt_xi, params, maxfun=1100)\n",
    "#     new_az_params = optimize.fmin(mega_az_xi, params, maxfun=1100)\n",
    "    return [new_alt_params]\n",
    "\n",
    "init_params = [*result_4[:3]]\n",
    "ctes = [*result_4[3:]]\n",
    "\n",
    "# data = pd.read_csv(\"Data.pixtab\", sep=\" \")\n",
    "data = pd.read_csv(\"Data_corrected_1.pixtab\", sep=\" \")\n",
    "data = data.dropna()\n",
    "# data = drop_outlayers_by_borovicka(data, construct_altura_deg(*init_params, *ctes), 5)\n",
    "x_exp = data.x.values\n",
    "y_exp = data.y.values\n",
    "alt_catalogo = data.alt.values\n",
    "az_catalogo = np.rad2deg(np.arccos(np.cos(np.deg2rad(data.az.values))))\n",
    "mega_alt_xi = construct_acumulate_alt_xi(x_exp, y_exp, alt_catalogo, ctes)\n",
    "mega_az_xi = construct_acumulate_az_xi(x_exp, y_exp, az_catalogo, ctes)\n",
    "\n",
    "pbar = tqdm(total=1100, desc=\"Aproximando altura y azimuth\")\n",
    "results_list += amoeba(init_params, mega_alt_xi, mega_az_xi)\n",
    "pbar.close()\n",
    "results_list[-1]\n",
    "\n",
    "result_5 = np.array([*results_list[-1], *ctes])\n",
    "result_5"
   ]
  },
  {
   "cell_type": "code",
   "execution_count": 28,
   "metadata": {},
   "outputs": [],
   "source": [
    "temp_result_5 = np.array([ 1.12716604e+00,  2.47858246e-03,  7.04388456e-01,  2.99517405e-03,\n",
    "        1.41721867e-04,  1.56466343e-05, -3.94352535e-03, -3.82198376e-03,\n",
    "       -6.06531026e-03, -6.84149304e-03,  7.26230277e+02,  4.79906209e+02,\n",
    "        7.73715459e-01])"
   ]
  },
  {
   "cell_type": "code",
   "execution_count": null,
   "metadata": {},
   "outputs": [],
   "source": []
  },
  {
   "cell_type": "code",
   "execution_count": null,
   "metadata": {},
   "outputs": [],
   "source": []
  },
  {
   "cell_type": "code",
   "execution_count": null,
   "metadata": {},
   "outputs": [],
   "source": []
  },
  {
   "cell_type": "markdown",
   "metadata": {},
   "source": [
    "# Desarrollo"
   ]
  },
  {
   "cell_type": "code",
   "execution_count": null,
   "metadata": {},
   "outputs": [],
   "source": [
    "\"\"\"\n",
    "314 - V, S, D, P, Q, X0, Y0, a0\n",
    "\"\"\"\n",
    "\n",
    "def construct_acumulate_alt_xi(x_list, y_list, z_list, ctes = None):\n",
    "    def acumulate_xi(params):\n",
    "        V, S, D, P, Q, X0, Y0, a0 = ctes\n",
    "        C, A, F, E, ep, = params\n",
    "        suma_xi = 0\n",
    "        for x, y, z in zip(x_list, y_list, z_list):\n",
    "            xi = construct_alt_xi(int(x), int(y), int(z))\n",
    "            suma_xi += xi(C, A, F, V, S, D, P, Q, E, ep, float(X0), float(Y0), a0)\n",
    "        pbar.update()\n",
    "        return suma_xi\n",
    "    return acumulate_xi\n",
    "\n",
    "def construct_acumulate_az_xi(x_list, y_list, z_list, ctes = None):\n",
    "    def acumulate_xi(params):\n",
    "        V, S, D, P, Q, X0, Y0, a0 = ctes\n",
    "        C, A, F, E, ep, = params\n",
    "        suma_xi = 0\n",
    "        for x, y, z in zip(x_list, y_list, z_list):\n",
    "            xi = construct_az_xi(int(x), int(y), int(z))\n",
    "            suma_xi += xi(C, A, F, V, S, D, P, Q, E, ep, float(X0), float(Y0), a0)\n",
    "        pbar.update()\n",
    "        return suma_xi\n",
    "    return acumulate_xi\n",
    "\n",
    "######################################################################################################\n",
    "\n",
    "def amoeba(params, mega_alt_xi, mega_az_xi):\n",
    "    new_alt_params = optimize.fmin(mega_alt_xi, params, maxfun=1100)\n",
    "#     new_az_params = optimize.fmin(mega_az_xi, params, maxfun=1100)\n",
    "    return [new_alt_params]"
   ]
  },
  {
   "cell_type": "code",
   "execution_count": null,
   "metadata": {},
   "outputs": [],
   "source": [
    "init_params = [0.01, 0, 0, 0, 0]\n",
    "ctes = [0.03, 0.007, 0.09, 2.2*10**-6, 0.006,\n",
    "           724, 472, 0]\n",
    "\n",
    "data = pd.read_csv(\"Data.pixtab\", sep=\" \")\n",
    "data = data.dropna()\n",
    "data = drop_outlayers_by_borovicka(data, construct_altura_deg(*init_params[:3], *ctes[:-3], *init_params[-2:], *ctes[-3:]), 5)\n",
    "x_exp = data.x.values\n",
    "y_exp = data.y.values\n",
    "alt_catalogo = data.alt.values\n",
    "az_catalogo = np.rad2deg(np.arccos(np.cos(np.deg2rad(data.az.values))))\n",
    "mega_alt_xi = construct_acumulate_alt_xi(x_exp, y_exp, alt_catalogo, ctes)\n",
    "mega_az_xi = construct_acumulate_az_xi(x_exp, y_exp, az_catalogo, ctes)\n",
    "results_list = []"
   ]
  },
  {
   "cell_type": "code",
   "execution_count": null,
   "metadata": {
    "scrolled": true
   },
   "outputs": [],
   "source": [
    "pbar = tqdm(total=2200, desc=\"Aproximando altura y azimuth\")\n",
    "results_list += amoeba(init_params, mega_alt_xi, mega_az_xi)\n",
    "pbar.close()\n",
    "results_list[-1]"
   ]
  },
  {
   "cell_type": "code",
   "execution_count": 36,
   "metadata": {
    "scrolled": false
   },
   "outputs": [],
   "source": [
    "%matplotlib qt\n",
    "# result_3 = (0.09935315, -0.03387904, -0.04467695,\n",
    "#              0.03, 0.007, 0.09, 2.2*10**-6, 0.006,\n",
    "#             0.01311418, -0.00192129, 724, 472, 0)\n",
    "plot_altura(temp_result_5)\n",
    "plot_azimuth(temp_result_5)"
   ]
  },
  {
   "cell_type": "code",
   "execution_count": null,
   "metadata": {},
   "outputs": [],
   "source": []
  },
  {
   "cell_type": "code",
   "execution_count": null,
   "metadata": {},
   "outputs": [],
   "source": []
  },
  {
   "cell_type": "code",
   "execution_count": null,
   "metadata": {},
   "outputs": [],
   "source": []
  },
  {
   "cell_type": "code",
   "execution_count": 56,
   "metadata": {
    "scrolled": true
   },
   "outputs": [
    {
     "data": {
      "text/plain": [
       "(3097.2029313855865, 2606.152930003487)"
      ]
     },
     "execution_count": 56,
     "metadata": {},
     "output_type": "execute_result"
    }
   ],
   "source": [
    "data = pd.read_csv(\"Data.pixtab\", sep=\" \")\n",
    "data = data.dropna()\n",
    "# data = drop_outlayers_by_borovicka(data, construct_altura_deg(*init_params[:3], *ctes[:-3], *init_params[-2:], *ctes[-3:]), 5)\n",
    "x_exp = data.x.values\n",
    "y_exp = data.y.values\n",
    "alt_catalogo = data.alt.values\n",
    "az_catalogo = np.rad2deg(np.arccos(np.cos(np.deg2rad(data.az.values))))\n",
    "mega_alt_xi = construct_acumulate_alt_xi(x_exp, y_exp, alt_catalogo, ctes)\n",
    "mega_az_xi = construct_acumulate_az_xi(x_exp, y_exp, az_catalogo, ctes)\n",
    "\n",
    "old_params = np.array([0.01, 0, 0, 0, 0])\n",
    "new_params = np.array([0.09935315, -0.03387904, -0.04467695,  0.01311418, -0.00192129])\n",
    "(mega_alt_xi(old_params)/len(x_exp), mega_alt_xi(new_params)/len(x_exp))"
   ]
  },
  {
   "cell_type": "code",
   "execution_count": 13,
   "metadata": {
    "scrolled": true
   },
   "outputs": [
    {
     "data": {
      "text/plain": [
       "<matplotlib.collections.PathCollection at 0xb88030>"
      ]
     },
     "execution_count": 13,
     "metadata": {},
     "output_type": "execute_result"
    },
    {
     "data": {
      "image/png": "[encoded data removed]",
      "text/plain": [
       "<Figure size 432x288 with 1 Axes>"
      ]
     },
     "metadata": {
      "needs_background": "light"
     },
     "output_type": "display_data"
    }
   ],
   "source": [
    "plt.gca().invert_yaxis()\n",
    "plt.scatter(x_exp, y_exp, c=az_catalogo, s=0.01)"
   ]
  },
  {
   "cell_type": "code",
   "execution_count": 14,
   "metadata": {},
   "outputs": [
    {
     "data": {
      "text/html": [
       "<div>\n",
       "<style scoped>\n",
       "    .dataframe tbody tr th:only-of-type {\n",
       "        vertical-align: middle;\n",
       "    }\n",
       "\n",
       "    .dataframe tbody tr th {\n",
       "        vertical-align: top;\n",
       "    }\n",
       "\n",
       "    .dataframe thead th {\n",
       "        text-align: right;\n",
       "    }\n",
       "</style>\n",
       "<table border=\"1\" class=\"dataframe\">\n",
       "  <thead>\n",
       "    <tr style=\"text-align: right;\">\n",
       "      <th></th>\n",
       "      <th>x</th>\n",
       "      <th>y</th>\n",
       "      <th>alt</th>\n",
       "      <th>az</th>\n",
       "      <th>alt_err</th>\n",
       "      <th>az_err</th>\n",
       "      <th>sample_size</th>\n",
       "    </tr>\n",
       "  </thead>\n",
       "  <tbody>\n",
       "    <tr>\n",
       "      <td>316291</td>\n",
       "      <td>499</td>\n",
       "      <td>204</td>\n",
       "      <td>20.253454</td>\n",
       "      <td>36.075010</td>\n",
       "      <td>0.0</td>\n",
       "      <td>0.0</td>\n",
       "      <td>1</td>\n",
       "    </tr>\n",
       "    <tr>\n",
       "      <td>389122</td>\n",
       "      <td>574</td>\n",
       "      <td>251</td>\n",
       "      <td>36.558925</td>\n",
       "      <td>31.962151</td>\n",
       "      <td>0.0</td>\n",
       "      <td>0.0</td>\n",
       "      <td>1</td>\n",
       "    </tr>\n",
       "    <tr>\n",
       "      <td>509812</td>\n",
       "      <td>520</td>\n",
       "      <td>329</td>\n",
       "      <td>37.832431</td>\n",
       "      <td>51.683667</td>\n",
       "      <td>0.0</td>\n",
       "      <td>0.0</td>\n",
       "      <td>1</td>\n",
       "    </tr>\n",
       "    <tr>\n",
       "      <td>525251</td>\n",
       "      <td>479</td>\n",
       "      <td>339</td>\n",
       "      <td>31.847979</td>\n",
       "      <td>57.225504</td>\n",
       "      <td>0.0</td>\n",
       "      <td>0.0</td>\n",
       "      <td>1</td>\n",
       "    </tr>\n",
       "    <tr>\n",
       "      <td>581017</td>\n",
       "      <td>517</td>\n",
       "      <td>375</td>\n",
       "      <td>41.172959</td>\n",
       "      <td>61.305604</td>\n",
       "      <td>0.0</td>\n",
       "      <td>0.0</td>\n",
       "      <td>1</td>\n",
       "    </tr>\n",
       "    <tr>\n",
       "      <td>616661</td>\n",
       "      <td>557</td>\n",
       "      <td>398</td>\n",
       "      <td>49.567901</td>\n",
       "      <td>63.986435</td>\n",
       "      <td>0.0</td>\n",
       "      <td>0.0</td>\n",
       "      <td>1</td>\n",
       "    </tr>\n",
       "    <tr>\n",
       "      <td>747153</td>\n",
       "      <td>1017</td>\n",
       "      <td>482</td>\n",
       "      <td>40.181885</td>\n",
       "      <td>255.363761</td>\n",
       "      <td>0.0</td>\n",
       "      <td>0.0</td>\n",
       "      <td>1</td>\n",
       "    </tr>\n",
       "    <tr>\n",
       "      <td>763668</td>\n",
       "      <td>504</td>\n",
       "      <td>493</td>\n",
       "      <td>40.596513</td>\n",
       "      <td>88.199234</td>\n",
       "      <td>0.0</td>\n",
       "      <td>0.0</td>\n",
       "      <td>1</td>\n",
       "    </tr>\n",
       "    <tr>\n",
       "      <td>782217</td>\n",
       "      <td>477</td>\n",
       "      <td>505</td>\n",
       "      <td>35.176698</td>\n",
       "      <td>89.732664</td>\n",
       "      <td>0.0</td>\n",
       "      <td>0.0</td>\n",
       "      <td>1</td>\n",
       "    </tr>\n",
       "    <tr>\n",
       "      <td>882849</td>\n",
       "      <td>489</td>\n",
       "      <td>570</td>\n",
       "      <td>33.963848</td>\n",
       "      <td>102.995644</td>\n",
       "      <td>0.0</td>\n",
       "      <td>0.0</td>\n",
       "      <td>1</td>\n",
       "    </tr>\n",
       "    <tr>\n",
       "      <td>890609</td>\n",
       "      <td>509</td>\n",
       "      <td>575</td>\n",
       "      <td>36.853969</td>\n",
       "      <td>105.061303</td>\n",
       "      <td>0.0</td>\n",
       "      <td>0.0</td>\n",
       "      <td>1</td>\n",
       "    </tr>\n",
       "    <tr>\n",
       "      <td>918798</td>\n",
       "      <td>834</td>\n",
       "      <td>593</td>\n",
       "      <td>60.327158</td>\n",
       "      <td>200.300959</td>\n",
       "      <td>0.0</td>\n",
       "      <td>0.0</td>\n",
       "      <td>1</td>\n",
       "    </tr>\n",
       "    <tr>\n",
       "      <td>1003732</td>\n",
       "      <td>628</td>\n",
       "      <td>648</td>\n",
       "      <td>45.783846</td>\n",
       "      <td>135.960050</td>\n",
       "      <td>0.0</td>\n",
       "      <td>0.0</td>\n",
       "      <td>1</td>\n",
       "    </tr>\n",
       "    <tr>\n",
       "      <td>1094990</td>\n",
       "      <td>554</td>\n",
       "      <td>707</td>\n",
       "      <td>28.668798</td>\n",
       "      <td>130.660482</td>\n",
       "      <td>0.0</td>\n",
       "      <td>0.0</td>\n",
       "      <td>1</td>\n",
       "    </tr>\n",
       "    <tr>\n",
       "      <td>1095450</td>\n",
       "      <td>1014</td>\n",
       "      <td>707</td>\n",
       "      <td>21.972368</td>\n",
       "      <td>216.051987</td>\n",
       "      <td>0.0</td>\n",
       "      <td>0.0</td>\n",
       "      <td>1</td>\n",
       "    </tr>\n",
       "    <tr>\n",
       "      <td>1149238</td>\n",
       "      <td>622</td>\n",
       "      <td>742</td>\n",
       "      <td>29.468547</td>\n",
       "      <td>144.740707</td>\n",
       "      <td>0.0</td>\n",
       "      <td>0.0</td>\n",
       "      <td>1</td>\n",
       "    </tr>\n",
       "    <tr>\n",
       "      <td>1163138</td>\n",
       "      <td>590</td>\n",
       "      <td>751</td>\n",
       "      <td>25.432320</td>\n",
       "      <td>140.397778</td>\n",
       "      <td>0.0</td>\n",
       "      <td>0.0</td>\n",
       "      <td>1</td>\n",
       "    </tr>\n",
       "    <tr>\n",
       "      <td>1209671</td>\n",
       "      <td>683</td>\n",
       "      <td>781</td>\n",
       "      <td>26.675480</td>\n",
       "      <td>157.419906</td>\n",
       "      <td>0.0</td>\n",
       "      <td>0.0</td>\n",
       "      <td>1</td>\n",
       "    </tr>\n",
       "  </tbody>\n",
       "</table>\n",
       "</div>"
      ],
      "text/plain": [
       "            x    y        alt          az  alt_err  az_err  sample_size\n",
       "316291    499  204  20.253454   36.075010      0.0     0.0            1\n",
       "389122    574  251  36.558925   31.962151      0.0     0.0            1\n",
       "509812    520  329  37.832431   51.683667      0.0     0.0            1\n",
       "525251    479  339  31.847979   57.225504      0.0     0.0            1\n",
       "581017    517  375  41.172959   61.305604      0.0     0.0            1\n",
       "616661    557  398  49.567901   63.986435      0.0     0.0            1\n",
       "747153   1017  482  40.181885  255.363761      0.0     0.0            1\n",
       "763668    504  493  40.596513   88.199234      0.0     0.0            1\n",
       "782217    477  505  35.176698   89.732664      0.0     0.0            1\n",
       "882849    489  570  33.963848  102.995644      0.0     0.0            1\n",
       "890609    509  575  36.853969  105.061303      0.0     0.0            1\n",
       "918798    834  593  60.327158  200.300959      0.0     0.0            1\n",
       "1003732   628  648  45.783846  135.960050      0.0     0.0            1\n",
       "1094990   554  707  28.668798  130.660482      0.0     0.0            1\n",
       "1095450  1014  707  21.972368  216.051987      0.0     0.0            1\n",
       "1149238   622  742  29.468547  144.740707      0.0     0.0            1\n",
       "1163138   590  751  25.432320  140.397778      0.0     0.0            1\n",
       "1209671   683  781  26.675480  157.419906      0.0     0.0            1"
      ]
     },
     "execution_count": 14,
     "metadata": {},
     "output_type": "execute_result"
    }
   ],
   "source": [
    "data"
   ]
  },
  {
   "cell_type": "code",
   "execution_count": null,
   "metadata": {},
   "outputs": [],
   "source": []
  },
  {
   "cell_type": "code",
   "execution_count": null,
   "metadata": {},
   "outputs": [],
   "source": []
  },
  {
   "cell_type": "code",
   "execution_count": null,
   "metadata": {},
   "outputs": [],
   "source": []
  },
  {
   "cell_type": "code",
   "execution_count": null,
   "metadata": {},
   "outputs": [],
   "source": []
  },
  {
   "cell_type": "code",
   "execution_count": null,
   "metadata": {},
   "outputs": [],
   "source": []
  },
  {
   "cell_type": "code",
   "execution_count": null,
   "metadata": {},
   "outputs": [],
   "source": []
  },
  {
   "cell_type": "code",
   "execution_count": null,
   "metadata": {},
   "outputs": [],
   "source": [
    "\"\"\"\n",
    "311 - C, A, F, V, S, D, P, Q, ep, a0\n",
    "\"\"\"\n",
    "\n",
    "def construct_acumulate_alt_xi(x_list, y_list, z_list, ctes = None):\n",
    "    def acumulate_xi(params):\n",
    "        C, A, F, V, S, D, P, Q, ep = ctes\n",
    "        E, X0, Y0, a0, = params\n",
    "        suma_xi = 0\n",
    "        for x, y, z in zip(x_list, y_list, z_list):\n",
    "            xi = construct_alt_xi(int(x), int(y), int(z))\n",
    "            suma_xi += xi(C, A, F, V, S, D, P, Q, E, ep, float(X0), float(Y0), a0)\n",
    "        pbar.update()\n",
    "        return suma_xi\n",
    "    return acumulate_xi\n",
    "\n",
    "def construct_acumulate_az_xi(x_list, y_list, z_list, ctes = None):\n",
    "    def acumulate_xi(params):\n",
    "        C, A, F, V, S, D, P, Q, ep = ctes\n",
    "        E, X0, Y0, a0, = params\n",
    "        suma_xi = 0\n",
    "        for x, y, z in zip(x_list, y_list, z_list):\n",
    "            xi = construct_az_xi(int(x), int(y), int(z))\n",
    "            suma_xi += xi(C, A, F, V, S, D, P, Q, E, ep, float(X0), float(Y0), a0)\n",
    "        pbar.update()\n",
    "        return suma_xi\n",
    "    return acumulate_xi\n",
    "\n",
    "######################################################################################################\n",
    "\n",
    "def amoeba(params, mega_alt_xi, mega_az_xi):\n",
    "#     new_alt_params = optimize.fmin(mega_alt_xi, params, maxfun=1100)\n",
    "    new_az_params = optimize.fmin(mega_az_xi, params, maxfun=1100)\n",
    "    return [new_az_params]"
   ]
  },
  {
   "cell_type": "code",
   "execution_count": null,
   "metadata": {},
   "outputs": [],
   "source": [
    "init_params = [0, 724, 472, 0]\n",
    "ctes = [0.01, 0, 0,\n",
    "         0.03, 0.007, 0.09, 2.2*10**-6, 0.006,\n",
    "         0]\n",
    "\n",
    "data = pd.read_csv(\"Data.pixtab\", sep=\" \")\n",
    "data = data.dropna()\n",
    "# data = drop_outlayers_by_borovicka(data, construct_altura_deg(*ctes[:-1], init_params[0], ctes[-1], *init_params[-3:]), 5)\n",
    "x_exp = data.x.values\n",
    "y_exp = data.y.values\n",
    "alt_catalogo = data.alt.values\n",
    "az_catalogo = np.rad2deg(np.arccos(np.cos(np.deg2rad(data.az.values))))\n",
    "mega_alt_xi = construct_acumulate_alt_xi(x_exp, y_exp, alt_catalogo, ctes)\n",
    "mega_az_xi = construct_acumulate_az_xi(x_exp, y_exp, az_catalogo, ctes)\n",
    "results_list = []"
   ]
  },
  {
   "cell_type": "code",
   "execution_count": null,
   "metadata": {},
   "outputs": [],
   "source": [
    "pbar = tqdm(total=1100, desc=\"Aproximando altura y azimuth\")\n",
    "results_list += amoeba(init_params, mega_alt_xi, mega_az_xi)\n",
    "pbar.close()\n",
    "results_list[-1]"
   ]
  },
  {
   "cell_type": "code",
   "execution_count": 23,
   "metadata": {},
   "outputs": [
    {
     "name": "stdout",
     "output_type": "stream",
     "text": [
      "[[-80.64548692 -78.95006828 -77.18403034 ... -37.6040147  -39.37250825\n",
      "  -41.166471  ]\n",
      " [-79.87111543 -78.11752116 -76.30981953 ... -36.22467431 -38.01147215\n",
      "  -39.82356197]\n",
      " [-79.07984463 -77.27840506 -75.4352189  ... -34.85730797 -36.66260643\n",
      "  -38.4929977 ]\n",
      " ...\n",
      " [-75.80823001 -73.82984578 -71.85384809 ... -29.85110615 -31.67048624\n",
      "  -33.51450598]\n",
      " [-76.63563255 -74.67316165 -72.71187158 ... -31.1303501  -32.93077045\n",
      "  -34.75603835]\n",
      " [-77.47233583 -75.52707503 -73.58135262 ... -32.42204908 -34.20369794\n",
      "  -36.01037911]]\n",
      "[[ 12.82276595  18.09499025  21.80765577 ...  56.61730387  57.54925764\n",
      "   58.46935054]\n",
      " [ 16.71176436  21.14578485  24.29986381 ...  56.95854765  57.88385201\n",
      "   58.79592708]\n",
      " [ 20.09106974  23.84761851  26.5455805  ...  57.32251823  58.24150376\n",
      "   59.14597635]\n",
      " ...\n",
      " [120.33685356 119.51091555 118.96465497 ... 137.89964162 136.89852121\n",
      "  135.90970611]\n",
      " [121.89084525 120.88213788 120.20730746 ... 138.28923023 137.28145054\n",
      "  136.28473021]\n",
      " [123.58451792 122.35245394 121.52314165 ... 138.65715256 137.64252682\n",
      "  136.63764919]]\n"
     ]
    }
   ],
   "source": [
    "\n",
    "plot_altura(result_5)\n",
    "plot_azimuth(result_5)"
   ]
  },
  {
   "cell_type": "code",
   "execution_count": null,
   "metadata": {},
   "outputs": [],
   "source": []
  },
  {
   "cell_type": "code",
   "execution_count": null,
   "metadata": {},
   "outputs": [],
   "source": []
  },
  {
   "cell_type": "code",
   "execution_count": 21,
   "metadata": {},
   "outputs": [
    {
     "name": "stdout",
     "output_type": "stream",
     "text": [
      "alt:  1.4671091947005817 1.7187522576129388\n",
      "az:  1190.52415665334 1.2305889718451786\n"
     ]
    }
   ],
   "source": [
    "\"\"\"\n",
    "314 - V, S, D, P, Q, X0, Y0, a0\n",
    "\"\"\"\n",
    "\n",
    "def construct_acumulate_alt_xi(x_list, y_list, z_list, ctes = None):\n",
    "    def acumulate_xi(params):\n",
    "        C, A, F, V, S, D, P, Q, E, ep, X0, Y0, a0 = params\n",
    "        suma_xi = 0\n",
    "        for x, y, z in zip(x_list, y_list, z_list):\n",
    "            xi = construct_alt_xi(int(x), int(y), int(z))\n",
    "            suma_xi += xi(C, A, F, V, S, D, P, Q, E, ep, float(X0), float(Y0), a0)\n",
    "        pbar.update()\n",
    "        return suma_xi\n",
    "    return acumulate_xi\n",
    "\n",
    "def construct_acumulate_az_xi(x_list, y_list, z_list, ctes = None):\n",
    "    def acumulate_xi(params):\n",
    "        C, A, F, V, S, D, P, Q, E, ep, X0, Y0, a0 = params\n",
    "        suma_xi = 0\n",
    "        for x, y, z in zip(x_list, y_list, z_list):\n",
    "            xi = construct_az_xi(int(x), int(y), int(z))\n",
    "            suma_xi += xi(C, A, F, V, S, D, P, Q, E, ep, float(X0), float(Y0), a0)\n",
    "        pbar.update()\n",
    "        return suma_xi\n",
    "    return acumulate_xi\n",
    "\n",
    "data = pd.read_csv(\"Data_corrected_1.pixtab\", sep=\" \")\n",
    "# data = pd.read_csv(\"Data.pixtab\", sep=\" \")\n",
    "data = data.dropna()\n",
    "# data = drop_outlayers_by_borovicka(data, construct_altura_deg(*ctes[:3],*init_params, *ctes[3:]), 5)\n",
    "x_exp = data.x.values\n",
    "y_exp = data.y.values\n",
    "alt_catalogo = data.alt.values\n",
    "az_catalogo = np.rad2deg(np.arccos(np.cos(np.deg2rad(data.az.values))))\n",
    "# az_catalogo = np.rad2deg(data.az.values)\n",
    "mega_alt_xi = construct_acumulate_alt_xi(x_exp, y_exp, alt_catalogo)\n",
    "mega_az_xi = construct_acumulate_az_xi(x_exp, y_exp, az_catalogo)\n",
    "\n",
    "print(\"alt: \",mega_alt_xi(result_1)/len(x_exp), mega_alt_xi(result_5)/len(x_exp))\n",
    "print(\"az: \",mega_az_xi(result_1)/len(x_exp), mega_az_xi(result_5)/len(x_exp))"
   ]
  },
  {
   "cell_type": "code",
   "execution_count": null,
   "metadata": {},
   "outputs": [],
   "source": []
  }
 ],
 "metadata": {
  "kernelspec": {
   "display_name": "Python 3",
   "language": "python",
   "name": "python3"
  },
  "language_info": {
   "codemirror_mode": {
    "name": "ipython",
    "version": 3
   },
   "file_extension": ".py",
   "mimetype": "text/x-python",
   "name": "python",
   "nbconvert_exporter": "python",
   "pygments_lexer": "ipython3",
   "version": "3.7.0"
  }
 },
 "nbformat": 4,
 "nbformat_minor": 2
}
