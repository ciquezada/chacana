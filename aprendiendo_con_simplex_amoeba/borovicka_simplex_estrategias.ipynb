{
 "cells": [
  {
   "cell_type": "markdown",
   "metadata": {},
   "source": [
    "# Amoeba en Borovicka"
   ]
  },
  {
   "cell_type": "code",
   "execution_count": 1,
   "metadata": {},
   "outputs": [],
   "source": [
    "from scipy import optimize, stats\n",
    "import matplotlib.pyplot as plt\n",
    "import pandas as pd\n",
    "import numpy as np\n",
    "from tqdm import tqdm"
   ]
  },
  {
   "cell_type": "markdown",
   "metadata": {},
   "source": [
    "## Funciones"
   ]
  },
  {
   "cell_type": "code",
   "execution_count": 2,
   "metadata": {},
   "outputs": [],
   "source": [
    "\"\"\"\n",
    "Funciones de Borovicka que\n",
    "dependen de [C, A, F, V, S, D, P, Q, E, ep, X0, Y0, a0]\n",
    "\"\"\"\n",
    "\n",
    "def construct_radio(C, A, F, X0, Y0, a0):\n",
    "    def r(x, y):\n",
    "        return C * ( np.sqrt( (x-X0)**2 + (y-Y0)**2 ) + A*(y-X0)*np.cos(F-a0) - A*(x-X0)*np.sin(F-a0) )\n",
    "    return r\n",
    "\n",
    "def construct_u(C, A, F, V, S, D, P, Q, X0, Y0, a0):\n",
    "    def u(x, y):\n",
    "        r = construct_radio(C, A, F, X0, Y0, a0)\n",
    "        return V*r(x, y) + S*(np.e**(D*r(x,y)) - 1) + P*(np.e**(Q*r(x,y)**2) - 1) \n",
    "    return u\n",
    "\n",
    "def construct_b(E, X0, Y0, a0):\n",
    "    def b(x, y):\n",
    "        return a0 - E + np.arctan2((y - Y0),(x - X0))\n",
    "    return b\n",
    "\n",
    "def construct_altura(C, A, F, V, S, D, P, Q, E, ep, X0, Y0, a0):\n",
    "    def z(x, y):\n",
    "        u = construct_u(C, A, F, V, S, D, P, Q, X0, Y0, a0)\n",
    "        b = construct_b(E, X0, Y0, a0)\n",
    "        return np.arccos( np.cos(u(x,y))*np.cos(ep) - np.sin(u(x,y))*np.sin(ep)*np.cos(b(x,y)) )\n",
    "    return z\n",
    "\n",
    "def construct_altura_deg(C, A, F, V, S, D, P, Q, E, ep, X0, Y0, a0):\n",
    "    def z(x, y):\n",
    "        u = construct_u(C, A, F, V, S, D, P, Q, X0, Y0, a0)\n",
    "        b = construct_b(E, X0, Y0, a0)\n",
    "        return 90 - np.rad2deg( np.arccos( np.cos(u(x,y))*np.cos(ep) - np.sin(u(x,y))*np.sin(ep)*np.cos(b(x,y)) ) )\n",
    "    return z\n",
    "\n",
    "def construct_azimuth(C, A, F, V, S, D, P, Q, E, ep, X0, Y0, a0):\n",
    "    def az(x, y):\n",
    "        u = construct_u(C, A, F, V, S, D, P, Q, X0, Y0, a0)\n",
    "        b = construct_b(E, X0, Y0, a0)\n",
    "        z = construct_altura(C, A, F, V, S, D, P, Q, E, ep, X0, Y0, a0)\n",
    "        return np.arcsin( np.sin(b(x,y))*np.sin(u(x,y))/np.sin(z(x,y)) ) + E\n",
    "    return az\n",
    "\n",
    "def construct_azimuth_deg(C, A, F, V, S, D, P, Q, E, ep, X0, Y0, a0):\n",
    "    def az(x, y):\n",
    "        u = construct_u(C, A, F, V, S, D, P, Q, X0, Y0, a0)\n",
    "        b = construct_b(E, X0, Y0, a0)\n",
    "        z = construct_altura(C, A, F, V, S, D, P, Q, E, ep, X0, Y0, a0)\n",
    "        return np.rad2deg( np.arcsin( np.sin(b(x,y))*np.sin(u(x,y))/np.sin(z(x,y)) ) + E ) + 90\n",
    "    return az\n",
    "\n",
    "\"\"\"\n",
    "Estos son constructores de una funcion de Xi**2\n",
    "\"\"\"\n",
    "\n",
    "def construct_alt_xi(x, y, z):\n",
    "    def xi(C, A, F, V, S, D, P, Q, E, ep, X0, Y0, a0):\n",
    "        alt_teorico = construct_altura_deg(C, A, F, V, S, D, P, Q, E, ep, X0, Y0, a0)\n",
    "        return (z - alt_teorico(x, y))**2\n",
    "    return xi\n",
    "\n",
    "def construct_az_xi(x, y, z):\n",
    "    def xi(C, A, F, V, S, D, P, Q, E, ep, X0, Y0, a0):\n",
    "        az_teorico = construct_azimuth_deg(C, A, F, V, S, D, P, Q, E, ep, X0, Y0, a0)\n",
    "        return (z - az_teorico(x, y))**2\n",
    "    return xi"
   ]
  },
  {
   "cell_type": "code",
   "execution_count": 3,
   "metadata": {},
   "outputs": [],
   "source": [
    "\"\"\"\n",
    "Para reducir los datos outlayers segun que tan lejos quedan de la primera\n",
    "aproximacion por Borovicka\n",
    "\"\"\"\n",
    "def drop_outlayers_by_borovicka(pixtab_df, plano, diff = 1):\n",
    "    \n",
    "    X_MIN = 250\n",
    "    X_MAX = 1250\n",
    "    Y_MIN = 0\n",
    "    Y_MAX = 950\n",
    "    MAX_RADIO = 500\n",
    "    RADIO_STEPS = 2000\n",
    "    query_str = \"{}<=x<={} and {}<=y<={}\".format(X_MIN, X_MAX,\n",
    "                                                            Y_MIN, Y_MAX)\n",
    "    data = pixtab_df.dropna(thresh = 7).query(query_str)\n",
    "    \n",
    "    pbar = tqdm(total=len(data.x.values), desc=\"Droping Outlayers\")\n",
    "    new_df_indx = []\n",
    "    for indx in data.index:\n",
    "        x = data.at[indx,\"x\"]\n",
    "        y = data.at[indx,\"y\"]\n",
    "        alt = data.at[indx,\"alt\"]\n",
    "        if np.abs(plano(x,y)-alt) < diff:\n",
    "            new_df_indx.append(indx)\n",
    "        pbar.update()\n",
    "    pbar.close()\n",
    "    return data.loc[new_df_indx]\n",
    "\n",
    "# Por si queremos exportar los datos para visualizarlos \n",
    "# out = drop_outlayers_by_borovicka(data, X0, Y0)\n",
    "# out\n",
    "# out[\"xcentroid\"] = out[\"x\"]\n",
    "# out[\"ycentroid\"] = out[\"y\"]\n",
    "# out.to_csv(\"drop_outlayer.dat\", sep=' ', index=False)\n",
    "# plt.gca().invert_yaxis()\n",
    "# plt.scatter(out.x.values, out.y.values, c=out.alt.values, s=0.01)"
   ]
  },
  {
   "cell_type": "code",
   "execution_count": 4,
   "metadata": {},
   "outputs": [],
   "source": [
    "\"\"\"\n",
    "Para plotear la altura o el azimut, es necesaria\n",
    "una lista con todos los parametros \n",
    "[C, A, F, V, S, D, P, Q, E, ep, X0, Y0, a0]\n",
    "\"\"\"\n",
    "\n",
    "def plot_plano(plano):\n",
    "    x = np.linspace(0, 1200, 100)\n",
    "    y = np.linspace(0, 900, 100)\n",
    "    X, Y = np.meshgrid(x, y)\n",
    "    Z = plano(X, Y)\n",
    "    fig,ax=plt.subplots(1,1)\n",
    "    cp = ax.contourf(X, Y, Z, 10)\n",
    "    fig.colorbar(cp) # Add a colorbar to a plot\n",
    "    ax.set_title('Toda una linea que minimiza y=mx+n')\n",
    "    plt.gca().invert_yaxis()\n",
    "    ax.set_xlabel('x')\n",
    "    ax.set_ylabel('y')\n",
    "    plt.show()\n",
    "\n",
    "def plot_altura(vector):\n",
    "    plano = construct_altura_deg(*vector)\n",
    "    plot_plano(plano)\n",
    "    \n",
    "def plot_azimuth(vector):\n",
    "    plano = construct_azimuth_deg(*vector)\n",
    "    plot_plano(plano)"
   ]
  },
  {
   "cell_type": "code",
   "execution_count": 5,
   "metadata": {},
   "outputs": [],
   "source": [
    "\"\"\"\n",
    "Esto lo definimos por cada intento segun los parametros constantes que\n",
    "queramos dejar\n",
    "\"\"\"\n",
    "\n",
    "def construct_acumulate_alt_xi(x_list, y_list, z_list, ctes = None):\n",
    "    def acumulate_xi(params):\n",
    "        V, S, D, P, Q, a0 = ctes\n",
    "        C, A, F, E, ep, X0, Y0 = params\n",
    "        suma_xi = 0\n",
    "        for x, y, z in zip(x_list, y_list, z_list):\n",
    "            xi = construct_alt_xi(int(x), int(y), int(z))\n",
    "            suma_xi += xi(C, A, F, V, S, D, P, Q, E, ep, float(X0), float(Y0), a0)\n",
    "        pbar.update()\n",
    "        return suma_xi\n",
    "    return acumulate_xi\n",
    "\n",
    "def construct_acumulate_az_xi(x_list, y_list, z_list, ctes = None):\n",
    "    def acumulate_xi(params):\n",
    "        V, S, D, P, Q, a0 = ctes\n",
    "        C, A, F, E, ep, X0, Y0 = params\n",
    "        suma_xi = 0\n",
    "        for x, y, z in zip(x_list, y_list, z_list):\n",
    "            xi = construct_az_xi(int(x), int(y), int(z))\n",
    "            suma_xi += xi(C, A, F, V, S, D, P, Q, E, ep, float(X0), float(Y0), a0)\n",
    "        pbar.update()\n",
    "        return suma_xii\n",
    "    return acumulate_xi\n",
    "\n",
    "######################################################################################################\n",
    "\n",
    "def amoeba(params, mega_alt_xi, mega_az_xi):\n",
    "    new_alt_params = optimize.fmin(mega_alt_xi, params, maxfun=1100)\n",
    "    new_az_params = optimize.fmin(mega_az_xi, params, maxfun=1100)\n",
    "    return [new_alt_params, new_az_params]"
   ]
  },
  {
   "cell_type": "markdown",
   "metadata": {},
   "source": [
    "## Reduction types:\n",
    "\n",
    "There are many types as mentioned in the section 2.2.3. of the paper.\n",
    "However, IRED may be zero when entering REDSKY. Then the standard\n",
    "reduction type 314 is used. The most usual types are\n",
    "\n",
    "314 - V,S,D,P,Q kept at their standard values, other constants computed\n",
    "\n",
    "334 - P,Q kept, C=1, other computed\n",
    "\n",
    "354 - C=1, other computed (requires stars close to horizon)\n",
    "\n",
    "311 - as 314 but A=0, F=0 (similarly 331, 351)\n",
    "\n",
    "310 - as 311 but also epsilon=0, E=0 (similarly 330, 350) ([V,S,D,P,Q]=ctes, [A,F,E,ep]=0, solo se busca C)\n",
    "\n",
    "319 - as 314 but epsilon,E,A,F kept at their initial values (similarly\n",
    "      339, 359) ([V,S,D,P,Q,A,F,E,ep]=ctes solo se busca C)"
   ]
  },
  {
   "cell_type": "markdown",
   "metadata": {},
   "source": [
    "## Algunos parametros conocidos\n",
    "C, A, F, V, S, D, P, Q, E, ep, X0, Y0, a0 :\n",
    "\n",
    "\n",
    "- <sub> $Xi^2=2.206$ : [0.04884978986903654, 0.020304825896093035, 0.35248628545828664, 0.0682171007, 0.00310608468, -5.75141386e-05, 4.26865327e-06, -0.00415889519, 0.005383738310580881, 0.0014950622892165601, 724, 472, -3*np.pi/4]\n",
    "\n",
    "- <sub>  $Xi^2=2.154$ : [4.37875766e-02,  5.19853314e-03,  1.05416567e+00,  7.33610329e-02, -5.24112025e-02, -1.39156740e-01,  4.41635759e-03,  4.71369350e-03, 2.74820813e+00, -1.02665758e-01, 731, 506, -0.582*np.pi] \n",
    "\n",
    "Encontrados ahora:\n",
    "- [1)](#section1) <sub> $Xi^2=2.210$ : [0.048826087003725455, -0.021142174069559417, 0.32598730818211297, 0.0682171007, 0.00310608468, -5.75141386e-05, 4.26865327e-06, -0.00415889519, 0.08741648813678929, -0.0022711518934522366, 724, 472, np.pi/4] \n",
    "\n",
    "- [2)](#section2) <sub> $Xi^2=2.246$ : [0.048826087003725455, -0.021142174069559417, 0.32598730818211297, 0.0682171007, 0.00310608468, -5.75141386e-05, 4.26865327e-06, -0.00415889519, 0.08741648813678929, -0.0022711518934522366, 724.59618727, 472.68750979, np.pi/4]\n",
    "\n",
    "- [3)](#section3) <sub> $Xi^2_{alt}=2.228$, $Xi^2_{az}=60.30$ : [0.048826087003725455, -0.021142174069559417, 0.32598730818211297, 0.0682171007, 0.00310608468, -5.75141386e-05, 4.26865327e-06, -0.00415889519, 0.08741648813678929, -0.0022711518934522366, 724.59618727, 472.68750979, 0.82635545]\n",
    "\n",
    "- [4)](#section4) <sub> $Xi^2_{alt}=2.205$, $Xi^2_{az}=20.94$ : [0.048826087003725455, -0.021142174069559417, 0.32598730818211297, 0.0682171007, 0.00310608468, -5.75141386e-05, 4.26865327e-06, -0.00415889519, -0.0298275, -0.0022711518934522366, 724, 472, 0.75060687]\n",
    "    \n",
    "- [5)](#section5) <sub> $Xi^2_{alt}=3.120$, $Xi^2_{az}=15.75$ : [0.048826087003725455, -0.021142174069559417, 0.32598730818211297, 0.0682171007, 0.00310608468, -5.75141386e-05, 4.26865327e-06, -0.00415889519, -4.82552710e-03, -0.0022711518934522366, 7.28125200e+02,  4.78181845e+02, 7.73853421e-01]\n",
    "  \n",
    "- [6)](#section6) <sub> $Xi^2_{alt}=2.320$, $Xi^2_{az}=15.75$ : [0.04952671,  0.00310034, -1.04782185, 0.0682171007, 0.00310608468, -5.75141386e-05, 4.26865327e-06, -0.00415889519, -4.82552710e-03, -0.0022711518934522366, 7.28125200e+02,  4.78181845e+02, 7.73853421e-01]\n",
    "\n",
    "- [7)](#section7) <sub> $Xi^2_{alt}=2.236$, $Xi^2_{az}=15.75$ : [0.04952671,  0.00310034, -1.04782185, 9.61696411e-02, -3.11311558e+00,  8.47643783e-03,  5.83185714e-04, 7.66455100e-03, -4.82552710e-03, -0.0022711518934522366, 7.28125200e+02,  4.78181845e+02, 7.73853421e-01]\n",
    "    \n",
    "- [8)](#section8) <sub> $Xi^2_{alt}=2.142$, $Xi^2_{az}=15.89$ : [0.04933449,  0.00478405, -0.1298804, 9.61696411e-02, -3.11311558e+00,  8.47643783e-03,  5.83185714e-04, 7.66455100e-03, -4.82552710e-03, -0.0022711518934522366, 7.28125200e+02,  4.78181845e+02, 7.73853421e-01]\n",
    "    \n",
    "- [9)](#section9) <sub> $Xi^2_{alt}=2.147$, $Xi^2_{az}=15.89$ : [0.04933449,  0.00478405, -0.1298804, 9.44302225e-02, -3.90770908e+00,  6.47675936e-03,  1.99616127e-03, 5.31560995e-03, -4.82552710e-03, -0.0022711518934522366, 7.28125200e+02,  4.78181845e+02, 7.73853421e-01]\n",
    "\n",
    "\n",
    "Facts:\n",
    "- mover ep reduciendo azimut es super peligroso\n",
    "- hay que sumarle 90 al azimuth porque borovicka lo tiene entre \\[-90,90\\]\n",
    "- E no solo rota, si no, que tambien ensancha o agudiza el espacio que ocupan los grados\n",
    "- mover E,X0,Y0,a0 juntos reduciendo azimuth es muy bueno para encontrar el centro\n",
    "- mover V,S,D,P,Q no afecta al azimuth!\n",
    "\n",
    "\n",
    "\n",
    "[Greedy](#greedy) Intentamos reducir altura y azimut al mismo tiempo,\n",
    "los paramtros iniciales fueron los obtenidos en 6"
   ]
  },
  {
   "cell_type": "markdown",
   "metadata": {},
   "source": [
    "[subir](#index)<a id='pipeline'></a>\n",
    "## Intentemos un pipeline"
   ]
  },
  {
   "cell_type": "markdown",
   "metadata": {},
   "source": [
    "Solo podriamos conocer un V,S,D,P,Q aproximado dado del paper de Borovicka. Ademas sobre C,A,F podemos seguir el consejo de hacer A,F nulos, pero C tendra que ser un valor pequeño como 0.01. Para E,ep podemos hacerlos nulos. El centro X0,Y0 tendremos que aporximarlo al ojo, tener una idea, en este caso 724,472. Por ultimo el offset del azimut a0 podemos hacerlo nulo.\n",
    "\n",
    "Parametros iniciales:\n",
    "- [0)] <sub> $Xi^2_{alt}=2.142$, $Xi^2_{az}=15.89$ : [0.01, 0, 0, 0.03, 0.007, 0.09, 2.2e-06, 0.006, 0, 0, 724, 472, 0]\n"
   ]
  },
  {
   "cell_type": "code",
   "execution_count": 6,
   "metadata": {},
   "outputs": [],
   "source": [
    "results_list = []"
   ]
  },
  {
   "cell_type": "markdown",
   "metadata": {},
   "source": [
    "### Paso 1\n",
    "Primero haremos un acercamiento 314 para buscar parametros C,A,F,E,ep que nos ayuden a reducir mejor los datos outlayers\n",
    "\n",
    "Otra opcion era buscar E,X0,Y0,a0 desde el principio sin quitar datos outlayers, el problema es que E,ep al ser 0 tienen problemas en la funcion de azimut"
   ]
  },
  {
   "cell_type": "code",
   "execution_count": 7,
   "metadata": {
    "scrolled": true
   },
   "outputs": [
    {
     "name": "stderr",
     "output_type": "stream",
     "text": [
      "Droping Outlayers: 100%|███████████████████████████████████████████████████████| 80771/80771 [00:09<00:00, 8569.77it/s]\n",
      "Aproximando altura y azimuth:  14%|███████                                          | 317/2200 [00:08<00:49, 37.78it/s]"
     ]
    },
    {
     "name": "stdout",
     "output_type": "stream",
     "text": [
      "Optimization terminated successfully.\n",
      "         Current function value: 127.568683\n",
      "         Iterations: 191\n",
      "         Function evaluations: 317\n"
     ]
    },
    {
     "name": "stderr",
     "output_type": "stream",
     "text": [
      "Aproximando altura y azimuth:  14%|███████                                          | 317/2200 [00:08<00:50, 37.62it/s]\n"
     ]
    },
    {
     "data": {
      "text/plain": [
       "array([ 9.93531546e-02, -3.38790409e-02, -4.46769471e-02,  3.00000000e-02,\n",
       "        7.00000000e-03,  9.00000000e-02,  2.20000000e-06,  6.00000000e-03,\n",
       "        1.31141830e-02, -1.92129464e-03,  7.24000000e+02,  4.72000000e+02,\n",
       "        0.00000000e+00])"
      ]
     },
     "execution_count": 7,
     "metadata": {},
     "output_type": "execute_result"
    }
   ],
   "source": [
    "\"\"\"\n",
    "314 - V, S, D, P, Q, X0, Y0, a0\n",
    "\"\"\"\n",
    "\n",
    "def construct_acumulate_alt_xi(x_list, y_list, z_list, ctes = None):\n",
    "    def acumulate_xi(params):\n",
    "        V, S, D, P, Q, X0, Y0, a0 = ctes\n",
    "        C, A, F, E, ep, = params\n",
    "        suma_xi = 0\n",
    "        for x, y, z in zip(x_list, y_list, z_list):\n",
    "            xi = construct_alt_xi(int(x), int(y), int(z))\n",
    "            suma_xi += xi(C, A, F, V, S, D, P, Q, E, ep, float(X0), float(Y0), a0)\n",
    "        pbar.update()\n",
    "        return suma_xi\n",
    "    return acumulate_xi\n",
    "\n",
    "def construct_acumulate_az_xi(x_list, y_list, z_list, ctes = None):\n",
    "    def acumulate_xi(params):\n",
    "        V, S, D, P, Q, X0, Y0, a0 = ctes\n",
    "        C, A, F, E, ep, = params\n",
    "        suma_xi = 0\n",
    "        for x, y, z in zip(x_list, y_list, z_list):\n",
    "            xi = construct_az_xi(int(x), int(y), int(z))\n",
    "            suma_xi += xi(C, A, F, V, S, D, P, Q, E, ep, float(X0), float(Y0), a0)\n",
    "        pbar.update()\n",
    "        return suma_xi\n",
    "    return acumulate_xi\n",
    "\n",
    "######################################################################################################\n",
    "\n",
    "def amoeba(params, mega_alt_xi, mega_az_xi):\n",
    "    new_alt_params = optimize.fmin(mega_alt_xi, params, maxfun=1100)\n",
    "#     new_az_params = optimize.fmin(mega_az_xi, params, maxfun=1100)\n",
    "    return [new_alt_params]\n",
    "\n",
    "init_params = [1, 0, 0, 0, 0.001]\n",
    "ctes = [0.003, 0.0001, 0.00001, 0, 0,\n",
    "           724, 472, 0]\n",
    "\n",
    "data = pd.read_csv(\"Data.pixtab\", sep=\" \")\n",
    "data = data.dropna()\n",
    "data = drop_outlayers_by_borovicka(data, construct_altura_deg(*init_params[:3], *ctes[:-3], *init_params[-2:], *ctes[-3:]), 5)\n",
    "x_exp = data.x.values\n",
    "y_exp = data.y.values\n",
    "alt_catalogo = data.alt.values\n",
    "az_catalogo = np.rad2deg(np.arccos(np.cos(np.deg2rad(data.az.values))))\n",
    "mega_alt_xi = construct_acumulate_alt_xi(x_exp, y_exp, alt_catalogo, ctes)\n",
    "mega_az_xi = construct_acumulate_az_xi(x_exp, y_exp, az_catalogo, ctes)\n",
    "\n",
    "pbar = tqdm(total=2200, desc=\"Aproximando altura y azimuth\")\n",
    "results_list += amoeba(init_params, mega_alt_xi, mega_az_xi)\n",
    "pbar.close()\n",
    "results_list[-1]\n",
    "\n",
    "result_1 = np.array([*results_list[-1][:3], *ctes[:-3], *results_list[-1][-2:], *ctes[-3:]])\n",
    "result_1"
   ]
  },
  {
   "cell_type": "code",
   "execution_count": null,
   "metadata": {},
   "outputs": [],
   "source": [
    "temp_result_1 = np.array([ 9.93531546e-02, -3.38790409e-02, -4.46769471e-02,\n",
    "                          3.00000000e-02, 7.00000000e-03,  9.00000000e-02,  2.20000000e-06,  6.00000000e-03,\n",
    "                            1.31141830e-02, -1.92129464e-03,\n",
    "                              7.24000000e+02,  4.72000000e+02, 0.00000000e+00])"
   ]
  },
  {
   "cell_type": "markdown",
   "metadata": {},
   "source": [
    "[subir](#pipeline)<a id='paso2'></a>\n",
    "### Paso 2\n",
    "Ahora buscamos a0 quitando datos outlayers reduciendo azimut. Al ser solo a0 deberia ser mas fácil."
   ]
  },
  {
   "cell_type": "code",
   "execution_count": null,
   "metadata": {},
   "outputs": [],
   "source": [
    "\"\"\"\n",
    "311 - C, A, F, V, S, D, P, Q, ep, a0\n",
    "\"\"\"\n",
    "\n",
    "def construct_acumulate_alt_xi(x_list, y_list, z_list, ctes = None):\n",
    "    def acumulate_xi(params):\n",
    "        C, A, F, V, S, D, P, Q, E, ep, X0, Y0 = ctes\n",
    "        a0, = params\n",
    "        suma_xi = 0\n",
    "        for x, y, z in zip(x_list, y_list, z_list):\n",
    "            xi = construct_alt_xi(int(x), int(y), int(z))\n",
    "            suma_xi += xi(C, A, F, V, S, D, P, Q, E, ep, float(X0), float(Y0), a0)\n",
    "        pbar.update()\n",
    "        return suma_xi\n",
    "    return acumulate_xi\n",
    "\n",
    "def construct_acumulate_az_xi(x_list, y_list, z_list, ctes = None):\n",
    "    def acumulate_xi(params):\n",
    "        C, A, F, V, S, D, P, Q, E, ep, X0, Y0 = ctes\n",
    "        a0, = params\n",
    "        suma_xi = 0\n",
    "        for x, y, z in zip(x_list, y_list, z_list):\n",
    "            xi = construct_az_xi(int(x), int(y), int(z))\n",
    "            suma_xi += xi(C, A, F, V, S, D, P, Q, E, ep, float(X0), float(Y0), a0)\n",
    "        pbar.update()\n",
    "        return suma_xi\n",
    "    return acumulate_xi\n",
    "\n",
    "######################################################################################################\n",
    "\n",
    "def amoeba(params, mega_alt_xi, mega_az_xi):\n",
    "#     new_alt_params = optimize.fmin(mega_alt_xi, params, maxfun=1100)\n",
    "    new_az_params = optimize.fmin(mega_az_xi, params, maxfun=1100)\n",
    "    return [new_az_params]\n",
    "\n",
    "init_params = [result_1[-1]]\n",
    "ctes = [*result_1[:-1]]\n",
    "\n",
    "data = pd.read_csv(\"Data.pixtab\", sep=\" \")\n",
    "data = data.dropna()\n",
    "data = drop_outlayers_by_borovicka(data, construct_altura_deg(*ctes, *init_params), 5)\n",
    "x_exp = data.x.values\n",
    "y_exp = data.y.values\n",
    "alt_catalogo = data.alt.values\n",
    "az_catalogo = np.rad2deg(np.arccos(np.cos(np.deg2rad(data.az.values))))\n",
    "mega_alt_xi = construct_acumulate_alt_xi(x_exp, y_exp, alt_catalogo, ctes)\n",
    "mega_az_xi = construct_acumulate_az_xi(x_exp, y_exp, az_catalogo, ctes)\n",
    "\n",
    "pbar = tqdm(total=1100, desc=\"Aproximando altura y azimuth\")\n",
    "results_list += amoeba(init_params, mega_alt_xi, mega_az_xi)\n",
    "pbar.close()\n",
    "results_list[-1]\n",
    "\n",
    "result_2 = np.array([*ctes, *results_list[-1]])\n",
    "result_2"
   ]
  },
  {
   "cell_type": "code",
   "execution_count": null,
   "metadata": {},
   "outputs": [],
   "source": [
    "temp_result_2 = np.array([ 9.93531546e-02, -3.38790409e-02, -4.46769471e-02,\n",
    "                            3.00000000e-02, 7.00000000e-03,  9.00000000e-02,  2.20000000e-06,  6.00000000e-03,\n",
    "                            1.31141830e-02, -1.92129464e-03,\n",
    "                            7.24000000e+02,  4.72000000e+02, 7.82111328e-01])"
   ]
  },
  {
   "cell_type": "markdown",
   "metadata": {},
   "source": [
    "### Paso 3\n",
    "Ahora buscamos E,X0,Y0,a0 quitando datos outlayers."
   ]
  },
  {
   "cell_type": "code",
   "execution_count": 15,
   "metadata": {
    "scrolled": false
   },
   "outputs": [
    {
     "name": "stderr",
     "output_type": "stream",
     "text": [
      "Droping Outlayers: 100%|███████████████████████████████████████████████████████| 80771/80771 [00:11<00:00, 6884.98it/s]\n",
      "Aproximando altura y azimuth:  27%|████████████▌                                  | 590/2200 [54:15<2:24:53,  5.40s/it]"
     ]
    },
    {
     "name": "stdout",
     "output_type": "stream",
     "text": [
      "Optimization terminated successfully.\n",
      "         Current function value: 1130210.402173\n",
      "         Iterations: 359\n",
      "         Function evaluations: 590\n"
     ]
    },
    {
     "name": "stderr",
     "output_type": "stream",
     "text": [
      "Aproximando altura y azimuth:  27%|████████████▌                                  | 590/2200 [54:15<2:28:02,  5.52s/it]\n"
     ]
    },
    {
     "data": {
      "text/plain": [
       "array([ 9.93531546e-02, -3.38790409e-02, -4.46769471e-02,  3.00000000e-02,\n",
       "        7.00000000e-03,  9.00000000e-02,  2.20000000e-06,  6.00000000e-03,\n",
       "       -4.87658786e-03, -1.92129464e-03,  7.27249861e+02,  4.79074507e+02,\n",
       "        7.75939748e-01])"
      ]
     },
     "execution_count": 15,
     "metadata": {},
     "output_type": "execute_result"
    }
   ],
   "source": [
    "\"\"\"\n",
    "311 - C, A, F, V, S, D, P, Q, ep, a0\n",
    "\"\"\"\n",
    "\n",
    "def construct_acumulate_alt_xi(x_list, y_list, z_list, ctes = None):\n",
    "    def acumulate_xi(params):\n",
    "        C, A, F, V, S, D, P, Q, ep = ctes\n",
    "        E, X0, Y0, a0, = params\n",
    "        suma_xi = 0\n",
    "        for x, y, z in zip(x_list, y_list, z_list):\n",
    "            xi = construct_alt_xi(int(x), int(y), int(z))\n",
    "            suma_xi += xi(C, A, F, V, S, D, P, Q, E, ep, float(X0), float(Y0), a0)\n",
    "        pbar.update()\n",
    "        return suma_xi\n",
    "    return acumulate_xi\n",
    "\n",
    "def construct_acumulate_az_xi(x_list, y_list, z_list, ctes = None):\n",
    "    def acumulate_xi(params):\n",
    "        C, A, F, V, S, D, P, Q, ep = ctes\n",
    "        E, X0, Y0, a0, = params\n",
    "        suma_xi = 0\n",
    "        for x, y, z in zip(x_list, y_list, z_list):\n",
    "            xi = construct_az_xi(int(x), int(y), int(z))\n",
    "            suma_xi += xi(C, A, F, V, S, D, P, Q, E, ep, float(X0), float(Y0), a0)\n",
    "        pbar.update()\n",
    "        return suma_xi\n",
    "    return acumulate_xi\n",
    "\n",
    "######################################################################################################\n",
    "\n",
    "def amoeba(params, mega_alt_xi, mega_az_xi):\n",
    "#     new_alt_params = optimize.fmin(mega_alt_xi, params, maxfun=1100)\n",
    "    new_az_params = optimize.fmin(mega_az_xi, params, maxfun=1100)\n",
    "    return [new_az_params]\n",
    "\n",
    "init_params = [result_2[8], *result_2[-3:]]\n",
    "ctes = [*result_2[:8], result_2[9]]\n",
    "\n",
    "data = pd.read_csv(\"Data.pixtab\", sep=\" \")\n",
    "data = data.dropna()\n",
    "data = drop_outlayers_by_borovicka(data, construct_altura_deg(*ctes[:-1], init_params[0], ctes[-1], *init_params[-3:]), 5)\n",
    "x_exp = data.x.values\n",
    "y_exp = data.y.values\n",
    "alt_catalogo = data.alt.values\n",
    "az_catalogo = np.rad2deg(np.arccos(np.cos(np.deg2rad(data.az.values))))\n",
    "mega_alt_xi = construct_acumulate_alt_xi(x_exp, y_exp, alt_catalogo, ctes)\n",
    "mega_az_xi = construct_acumulate_az_xi(x_exp, y_exp, az_catalogo, ctes)\n",
    "\n",
    "pbar = tqdm(total=2200, desc=\"Aproximando altura y azimuth\")\n",
    "results_list += amoeba(init_params, mega_alt_xi, mega_az_xi)\n",
    "pbar.close()\n",
    "results_list[-1]\n",
    "\n",
    "result_3 = np.array([*ctes[:-1], results_list[-1][0], ctes[-1], *results_list[-1][-3:]])\n",
    "result_3"
   ]
  },
  {
   "cell_type": "code",
   "execution_count": null,
   "metadata": {},
   "outputs": [],
   "source": [
    "temp_result_3 = np.array([ 9.93531546e-02, -3.38790409e-02, -4.46769471e-02,\n",
    "                            3.00000000e-02, 7.00000000e-03,  9.00000000e-02,  2.20000000e-06,  6.00000000e-03,\n",
    "                            -4.87658786e-03, -1.92129464e-03,\n",
    "                            7.27249861e+02,  4.79074507e+02, 7.75939748e-01])"
   ]
  },
  {
   "cell_type": "code",
   "execution_count": null,
   "metadata": {},
   "outputs": [],
   "source": []
  },
  {
   "cell_type": "code",
   "execution_count": null,
   "metadata": {},
   "outputs": [],
   "source": []
  },
  {
   "cell_type": "code",
   "execution_count": null,
   "metadata": {},
   "outputs": [],
   "source": []
  },
  {
   "cell_type": "code",
   "execution_count": null,
   "metadata": {},
   "outputs": [],
   "source": []
  },
  {
   "cell_type": "markdown",
   "metadata": {},
   "source": [
    "### Paso ?\n",
    "Ahora buscamos C,A,F reduciendo la altura. Según lo que experimentamos no deberia afectar al azimut"
   ]
  },
  {
   "cell_type": "code",
   "execution_count": 43,
   "metadata": {
    "scrolled": true
   },
   "outputs": [
    {
     "name": "stderr",
     "output_type": "stream",
     "text": [
      "\n",
      "Aproximando altura y azimuth:   0%|                                                           | 0/1100 [00:00<?, ?it/s]\n",
      "Aproximando altura y azimuth:   0%|                                                 | 1/1100 [00:04<1:30:40,  4.95s/it]\n",
      "Aproximando altura y azimuth:   0%|                                                 | 2/1100 [00:10<1:31:52,  5.02s/it]\n",
      "Aproximando altura y azimuth:   0%|▏                                                | 3/1100 [00:15<1:33:21,  5.11s/it]\n",
      "Aproximando altura y azimuth:   0%|▏                                                | 4/1100 [00:20<1:32:58,  5.09s/it]\n",
      "Aproximando altura y azimuth:   0%|▏                                                | 5/1100 [00:25<1:32:26,  5.07s/it]\n",
      "Aproximando altura y azimuth:   1%|▎                                                | 6/1100 [00:30<1:31:20,  5.01s/it]\n",
      "Aproximando altura y azimuth:   1%|▎                                                | 7/1100 [00:35<1:30:45,  4.98s/it]\n",
      "Aproximando altura y azimuth:   1%|▎                                                | 8/1100 [00:40<1:30:52,  4.99s/it]\n",
      "Aproximando altura y azimuth:   1%|▍                                                | 9/1100 [00:45<1:30:59,  5.00s/it]\n",
      "Aproximando altura y azimuth:   1%|▍                                               | 10/1100 [00:50<1:32:58,  5.12s/it]\n",
      "Aproximando altura y azimuth:   1%|▍                                               | 11/1100 [00:55<1:32:18,  5.09s/it]\n",
      "Aproximando altura y azimuth:   1%|▌                                               | 12/1100 [01:00<1:31:11,  5.03s/it]\n",
      "Aproximando altura y azimuth:   1%|▌                                               | 13/1100 [01:05<1:29:58,  4.97s/it]\n",
      "Aproximando altura y azimuth:   1%|▌                                               | 14/1100 [01:10<1:29:41,  4.96s/it]\n",
      "Aproximando altura y azimuth:   1%|▋                                               | 15/1100 [01:15<1:29:45,  4.96s/it]\n",
      "Aproximando altura y azimuth:   1%|▋                                               | 16/1100 [01:20<1:29:22,  4.95s/it]\n",
      "Aproximando altura y azimuth:   2%|▋                                               | 17/1100 [01:25<1:28:35,  4.91s/it]\n",
      "Aproximando altura y azimuth:   2%|▊                                               | 18/1100 [01:29<1:28:12,  4.89s/it]\n",
      "Aproximando altura y azimuth:   2%|▊                                               | 19/1100 [01:34<1:28:00,  4.88s/it]\n",
      "Aproximando altura y azimuth:   2%|▊                                               | 20/1100 [01:39<1:27:34,  4.87s/it]\n",
      "Aproximando altura y azimuth:   2%|▉                                               | 21/1100 [01:44<1:27:07,  4.84s/it]\n",
      "Aproximando altura y azimuth:   2%|▉                                               | 22/1100 [01:49<1:27:02,  4.84s/it]\n",
      "Aproximando altura y azimuth:   2%|█                                               | 23/1100 [01:54<1:27:13,  4.86s/it]\n",
      "Aproximando altura y azimuth:   2%|█                                               | 24/1100 [01:59<1:27:00,  4.85s/it]\n",
      "Aproximando altura y azimuth:   2%|█                                               | 25/1100 [02:03<1:26:47,  4.84s/it]\n",
      "Aproximando altura y azimuth:   2%|█▏                                              | 26/1100 [02:08<1:26:40,  4.84s/it]\n",
      "Aproximando altura y azimuth:   2%|█▏                                              | 27/1100 [02:13<1:27:10,  4.87s/it]\n",
      "Aproximando altura y azimuth:   3%|█▏                                              | 28/1100 [02:18<1:26:48,  4.86s/it]\n",
      "Aproximando altura y azimuth:   3%|█▎                                              | 29/1100 [02:23<1:27:13,  4.89s/it]\n",
      "Aproximando altura y azimuth:   3%|█▎                                              | 30/1100 [02:28<1:27:01,  4.88s/it]\n",
      "Aproximando altura y azimuth:   3%|█▎                                              | 31/1100 [02:33<1:29:12,  5.01s/it]\n",
      "Aproximando altura y azimuth:   3%|█▍                                              | 32/1100 [02:38<1:30:08,  5.06s/it]\n",
      "Aproximando altura y azimuth:   3%|█▍                                              | 33/1100 [02:43<1:28:47,  4.99s/it]\n",
      "Aproximando altura y azimuth:   3%|█▍                                              | 34/1100 [02:48<1:27:42,  4.94s/it]\n",
      "Aproximando altura y azimuth:   3%|█▌                                              | 35/1100 [02:53<1:27:18,  4.92s/it]\n",
      "Aproximando altura y azimuth:   3%|█▌                                              | 36/1100 [02:58<1:26:43,  4.89s/it]\n",
      "Aproximando altura y azimuth:   3%|█▌                                              | 37/1100 [03:02<1:26:11,  4.87s/it]\n",
      "Aproximando altura y azimuth:   3%|█▋                                              | 38/1100 [03:08<1:27:50,  4.96s/it]\n",
      "Aproximando altura y azimuth:   4%|█▋                                              | 39/1100 [03:12<1:27:03,  4.92s/it]\n",
      "Aproximando altura y azimuth:   4%|█▋                                              | 40/1100 [03:17<1:27:11,  4.93s/it]\n",
      "Aproximando altura y azimuth:   4%|█▊                                              | 41/1100 [03:22<1:27:46,  4.97s/it]\n",
      "Aproximando altura y azimuth:   4%|█▊                                              | 42/1100 [03:27<1:27:05,  4.94s/it]\n",
      "Aproximando altura y azimuth:   4%|█▉                                              | 43/1100 [03:32<1:26:35,  4.92s/it]\n",
      "Aproximando altura y azimuth:   4%|█▉                                              | 44/1100 [03:37<1:26:50,  4.93s/it]\n",
      "Aproximando altura y azimuth:   4%|█▉                                              | 45/1100 [03:42<1:26:11,  4.90s/it]\n",
      "Aproximando altura y azimuth:   4%|██                                              | 46/1100 [03:47<1:26:04,  4.90s/it]\n",
      "Aproximando altura y azimuth:   4%|██                                              | 47/1100 [03:52<1:25:46,  4.89s/it]\n",
      "Aproximando altura y azimuth:   4%|██                                              | 48/1100 [03:57<1:25:55,  4.90s/it]\n",
      "Aproximando altura y azimuth:   4%|██▏                                             | 49/1100 [04:02<1:25:36,  4.89s/it]\n",
      "Aproximando altura y azimuth:   5%|██▏                                             | 50/1100 [04:06<1:25:17,  4.87s/it]\n",
      "Aproximando altura y azimuth:   5%|██▏                                             | 51/1100 [04:11<1:25:43,  4.90s/it]\n",
      "Aproximando altura y azimuth:   5%|██▎                                             | 52/1100 [04:16<1:25:09,  4.88s/it]\n",
      "Aproximando altura y azimuth:   5%|██▎                                             | 53/1100 [04:21<1:25:17,  4.89s/it]\n",
      "Aproximando altura y azimuth:   5%|██▎                                             | 54/1100 [04:26<1:25:16,  4.89s/it]\n",
      "Aproximando altura y azimuth:   5%|██▍                                             | 55/1100 [04:31<1:25:00,  4.88s/it]\n",
      "Aproximando altura y azimuth:   5%|██▍                                             | 56/1100 [04:36<1:25:13,  4.90s/it]\n",
      "Aproximando altura y azimuth:   5%|██▍                                             | 57/1100 [04:41<1:25:15,  4.91s/it]\n",
      "Aproximando altura y azimuth:   5%|██▌                                             | 58/1100 [04:46<1:25:13,  4.91s/it]\n",
      "Aproximando altura y azimuth:   5%|██▌                                             | 59/1100 [04:50<1:24:50,  4.89s/it]\n",
      "Aproximando altura y azimuth:   5%|██▌                                             | 60/1100 [04:55<1:25:16,  4.92s/it]\n",
      "Aproximando altura y azimuth:   6%|██▋                                             | 61/1100 [05:00<1:24:47,  4.90s/it]\n",
      "Aproximando altura y azimuth:   6%|██▋                                             | 62/1100 [05:05<1:24:24,  4.88s/it]\n",
      "Aproximando altura y azimuth:   6%|██▋                                             | 63/1100 [05:10<1:24:50,  4.91s/it]\n",
      "Aproximando altura y azimuth:   6%|██▊                                             | 64/1100 [05:15<1:24:28,  4.89s/it]\n",
      "Aproximando altura y azimuth:   6%|██▊                                             | 65/1100 [05:20<1:24:20,  4.89s/it]\n",
      "Aproximando altura y azimuth:   6%|██▉                                             | 66/1100 [05:25<1:24:10,  4.88s/it]\n",
      "Aproximando altura y azimuth:   6%|██▉                                             | 67/1100 [05:30<1:25:05,  4.94s/it]\n"
     ]
    },
    {
     "name": "stderr",
     "output_type": "stream",
     "text": [
      "Aproximando altura y azimuth:   6%|██▉                                             | 68/1100 [05:35<1:24:27,  4.91s/it]\n",
      "Aproximando altura y azimuth:   6%|███                                             | 69/1100 [05:39<1:24:05,  4.89s/it]\n",
      "Aproximando altura y azimuth:   6%|███                                             | 70/1100 [05:44<1:23:47,  4.88s/it]\n",
      "Aproximando altura y azimuth:   6%|███                                             | 71/1100 [05:49<1:23:25,  4.86s/it]\n",
      "Aproximando altura y azimuth:   7%|███▏                                            | 72/1100 [05:54<1:23:15,  4.86s/it]\n",
      "Aproximando altura y azimuth:   7%|███▏                                            | 73/1100 [05:59<1:23:01,  4.85s/it]\n",
      "Aproximando altura y azimuth:   7%|███▏                                            | 74/1100 [06:04<1:23:07,  4.86s/it]\n",
      "Aproximando altura y azimuth:   7%|███▎                                            | 75/1100 [06:09<1:23:08,  4.87s/it]\n",
      "Aproximando altura y azimuth:   7%|███▎                                            | 76/1100 [06:13<1:23:12,  4.88s/it]\n",
      "Aproximando altura y azimuth:   7%|███▎                                            | 77/1100 [06:18<1:22:59,  4.87s/it]\n",
      "Aproximando altura y azimuth:   7%|███▍                                            | 78/1100 [06:23<1:22:48,  4.86s/it]\n",
      "Aproximando altura y azimuth:   7%|███▍                                            | 79/1100 [06:28<1:23:01,  4.88s/it]\n",
      "Aproximando altura y azimuth:   7%|███▍                                            | 80/1100 [06:33<1:22:41,  4.86s/it]\n",
      "Aproximando altura y azimuth:   7%|███▌                                            | 81/1100 [06:38<1:22:50,  4.88s/it]\n",
      "Aproximando altura y azimuth:   7%|███▌                                            | 82/1100 [06:44<1:27:21,  5.15s/it]\n",
      "Aproximando altura y azimuth:   8%|███▌                                            | 83/1100 [06:48<1:25:47,  5.06s/it]\n",
      "Aproximando altura y azimuth:   8%|███▋                                            | 84/1100 [06:53<1:24:57,  5.02s/it]\n",
      "Aproximando altura y azimuth:   8%|███▋                                            | 85/1100 [06:58<1:24:05,  4.97s/it]\n",
      "Aproximando altura y azimuth:   8%|███▊                                            | 86/1100 [07:03<1:23:22,  4.93s/it]\n",
      "Aproximando altura y azimuth:   8%|███▊                                            | 87/1100 [07:08<1:22:43,  4.90s/it]\n",
      "Aproximando altura y azimuth:   8%|███▊                                            | 88/1100 [07:13<1:22:21,  4.88s/it]\n",
      "Aproximando altura y azimuth:   8%|███▉                                            | 89/1100 [07:18<1:22:10,  4.88s/it]\n",
      "Aproximando altura y azimuth:   8%|███▉                                            | 90/1100 [07:22<1:21:31,  4.84s/it]\n",
      "Aproximando altura y azimuth:   8%|███▉                                            | 91/1100 [07:27<1:21:10,  4.83s/it]\n",
      "Aproximando altura y azimuth:   8%|████                                            | 92/1100 [07:32<1:21:19,  4.84s/it]\n",
      "Aproximando altura y azimuth:   8%|████                                            | 93/1100 [07:37<1:20:59,  4.83s/it]\n",
      "Aproximando altura y azimuth:   9%|████                                            | 94/1100 [07:42<1:20:42,  4.81s/it]\n",
      "Aproximando altura y azimuth:   9%|████▏                                           | 95/1100 [07:46<1:20:51,  4.83s/it]\n",
      "Aproximando altura y azimuth:   9%|████▏                                           | 96/1100 [07:51<1:20:38,  4.82s/it]\n",
      "Aproximando altura y azimuth:   9%|████▏                                           | 97/1100 [07:56<1:20:25,  4.81s/it]\n",
      "Aproximando altura y azimuth:   9%|████▎                                           | 98/1100 [08:01<1:20:24,  4.82s/it]\n",
      "Aproximando altura y azimuth:   9%|████▎                                           | 99/1100 [08:06<1:20:34,  4.83s/it]\n",
      "Aproximando altura y azimuth:   9%|████▎                                          | 100/1100 [08:11<1:20:15,  4.82s/it]\n",
      "Aproximando altura y azimuth:   9%|████▎                                          | 101/1100 [08:15<1:20:06,  4.81s/it]\n",
      "Aproximando altura y azimuth:   9%|████▎                                          | 102/1100 [08:20<1:20:11,  4.82s/it]\n",
      "Aproximando altura y azimuth:   9%|████▍                                          | 103/1100 [08:25<1:19:50,  4.80s/it]\n",
      "Aproximando altura y azimuth:   9%|████▍                                          | 104/1100 [08:30<1:19:58,  4.82s/it]\n",
      "Aproximando altura y azimuth:  10%|████▍                                          | 105/1100 [08:35<1:19:45,  4.81s/it]\n",
      "Aproximando altura y azimuth:  10%|████▌                                          | 106/1100 [08:40<1:20:23,  4.85s/it]\n",
      "Aproximando altura y azimuth:  10%|████▌                                          | 107/1100 [08:45<1:20:49,  4.88s/it]\n",
      "Aproximando altura y azimuth:  10%|████▌                                          | 108/1100 [08:50<1:21:40,  4.94s/it]\n",
      "Aproximando altura y azimuth:  10%|████▋                                          | 109/1100 [08:54<1:21:27,  4.93s/it]\n",
      "Aproximando altura y azimuth:  10%|████▋                                          | 110/1100 [08:59<1:20:46,  4.90s/it]\n",
      "Aproximando altura y azimuth:  10%|████▋                                          | 111/1100 [09:04<1:20:20,  4.87s/it]\n",
      "Aproximando altura y azimuth:  10%|████▊                                          | 112/1100 [09:09<1:21:11,  4.93s/it]\n",
      "Aproximando altura y azimuth:  10%|████▊                                          | 113/1100 [09:14<1:20:44,  4.91s/it]\n",
      "Aproximando altura y azimuth:  10%|████▊                                          | 114/1100 [09:19<1:20:06,  4.87s/it]\n",
      "Aproximando altura y azimuth:  10%|████▉                                          | 115/1100 [09:24<1:21:02,  4.94s/it]\n",
      "Aproximando altura y azimuth:  11%|████▉                                          | 116/1100 [09:29<1:22:12,  5.01s/it]\n",
      "Aproximando altura y azimuth:  11%|████▉                                          | 117/1100 [09:34<1:21:00,  4.94s/it]\n",
      "Aproximando altura y azimuth:  11%|█████                                          | 118/1100 [09:39<1:20:01,  4.89s/it]\n",
      "Aproximando altura y azimuth:  11%|█████                                          | 119/1100 [09:44<1:19:42,  4.88s/it]\n",
      "Aproximando altura y azimuth:  11%|█████▏                                         | 120/1100 [09:48<1:19:10,  4.85s/it]\n",
      "Aproximando altura y azimuth:  11%|█████▏                                         | 121/1100 [09:53<1:18:47,  4.83s/it]\n",
      "Aproximando altura y azimuth:  11%|█████▏                                         | 122/1100 [09:58<1:18:36,  4.82s/it]\n",
      "Aproximando altura y azimuth:  11%|█████▎                                         | 123/1100 [10:03<1:18:21,  4.81s/it]\n",
      "Aproximando altura y azimuth:  11%|█████▎                                         | 124/1100 [10:08<1:18:34,  4.83s/it]\n",
      "Aproximando altura y azimuth:  11%|█████▎                                         | 125/1100 [10:12<1:18:43,  4.84s/it]\n",
      "Aproximando altura y azimuth:  11%|█████▍                                         | 126/1100 [10:17<1:18:24,  4.83s/it]\n",
      "Aproximando altura y azimuth:  12%|█████▍                                         | 127/1100 [10:22<1:19:13,  4.89s/it]\n",
      "Aproximando altura y azimuth:  12%|█████▍                                         | 128/1100 [10:27<1:20:05,  4.94s/it]\n",
      "Aproximando altura y azimuth:  12%|█████▌                                         | 129/1100 [10:33<1:21:14,  5.02s/it]\n",
      "Aproximando altura y azimuth:  12%|█████▌                                         | 130/1100 [10:37<1:20:06,  4.96s/it]\n",
      "Aproximando altura y azimuth:  12%|█████▌                                         | 131/1100 [10:42<1:19:38,  4.93s/it]\n",
      "Aproximando altura y azimuth:  12%|█████▋                                         | 132/1100 [10:47<1:19:05,  4.90s/it]\n",
      "Aproximando altura y azimuth:  12%|█████▋                                         | 133/1100 [10:52<1:18:32,  4.87s/it]\n",
      "Aproximando altura y azimuth:  12%|█████▋                                         | 134/1100 [10:57<1:19:30,  4.94s/it]\n",
      "Aproximando altura y azimuth:  12%|█████▊                                         | 135/1100 [11:02<1:19:14,  4.93s/it]\n"
     ]
    },
    {
     "name": "stderr",
     "output_type": "stream",
     "text": [
      "Aproximando altura y azimuth:  12%|█████▊                                         | 136/1100 [11:07<1:18:34,  4.89s/it]\n",
      "Aproximando altura y azimuth:  12%|█████▊                                         | 137/1100 [11:11<1:18:14,  4.88s/it]\n",
      "Aproximando altura y azimuth:  13%|█████▉                                         | 138/1100 [11:16<1:17:53,  4.86s/it]\n",
      "Aproximando altura y azimuth:  13%|█████▉                                         | 139/1100 [11:21<1:17:31,  4.84s/it]\n",
      "Aproximando altura y azimuth:  13%|█████▉                                         | 140/1100 [11:26<1:17:05,  4.82s/it]\n",
      "Aproximando altura y azimuth:  13%|██████                                         | 141/1100 [11:31<1:16:57,  4.82s/it]\n",
      "Aproximando altura y azimuth:  13%|██████                                         | 142/1100 [11:36<1:17:13,  4.84s/it]\n",
      "Aproximando altura y azimuth:  13%|██████                                         | 143/1100 [11:41<1:17:56,  4.89s/it]\n",
      "Aproximando altura y azimuth:  13%|██████▏                                        | 144/1100 [11:45<1:18:04,  4.90s/it]\n",
      "Aproximando altura y azimuth:  13%|██████▏                                        | 145/1100 [11:50<1:17:55,  4.90s/it]\n",
      "Aproximando altura y azimuth:  13%|██████▏                                        | 146/1100 [11:55<1:17:30,  4.88s/it]\n",
      "Aproximando altura y azimuth:  13%|██████▎                                        | 147/1100 [12:00<1:17:16,  4.86s/it]\n",
      "Aproximando altura y azimuth:  13%|██████▎                                        | 148/1100 [12:05<1:18:25,  4.94s/it]\n",
      "Aproximando altura y azimuth:  14%|██████▎                                        | 149/1100 [12:10<1:18:42,  4.97s/it]\n",
      "Aproximando altura y azimuth:  14%|██████▍                                        | 150/1100 [12:15<1:17:42,  4.91s/it]\n",
      "Aproximando altura y azimuth:  14%|██████▍                                        | 151/1100 [12:20<1:17:00,  4.87s/it]\n",
      "Aproximando altura y azimuth:  14%|██████▍                                        | 152/1100 [12:25<1:16:57,  4.87s/it]\n",
      "Aproximando altura y azimuth:  14%|██████▌                                        | 153/1100 [12:29<1:16:47,  4.87s/it]\n",
      "Aproximando altura y azimuth:  14%|██████▌                                        | 154/1100 [12:34<1:17:09,  4.89s/it]\n",
      "Aproximando altura y azimuth:  14%|██████▌                                        | 155/1100 [12:39<1:16:40,  4.87s/it]\n",
      "Aproximando altura y azimuth:  14%|██████▋                                        | 156/1100 [12:44<1:16:20,  4.85s/it]\n",
      "Aproximando altura y azimuth:  14%|██████▋                                        | 157/1100 [12:49<1:16:08,  4.84s/it]\n",
      "Aproximando altura y azimuth:  14%|██████▊                                        | 158/1100 [12:54<1:16:11,  4.85s/it]\n",
      "Aproximando altura y azimuth:  14%|██████▊                                        | 159/1100 [12:59<1:15:48,  4.83s/it]\n",
      "Aproximando altura y azimuth:  15%|██████▊                                        | 160/1100 [13:03<1:15:56,  4.85s/it]\n",
      "Aproximando altura y azimuth:  15%|██████▉                                        | 161/1100 [13:08<1:16:36,  4.90s/it]\n",
      "Aproximando altura y azimuth:  15%|██████▉                                        | 162/1100 [13:13<1:17:03,  4.93s/it]\n",
      "Aproximando altura y azimuth:  15%|██████▉                                        | 163/1100 [13:18<1:17:00,  4.93s/it]\n",
      "Aproximando altura y azimuth:  15%|███████                                        | 164/1100 [13:23<1:16:36,  4.91s/it]\n",
      "Aproximando altura y azimuth:  15%|███████                                        | 165/1100 [13:28<1:16:12,  4.89s/it]\n",
      "Aproximando altura y azimuth:  15%|███████                                        | 166/1100 [13:33<1:16:09,  4.89s/it]\n",
      "Aproximando altura y azimuth:  15%|███████▏                                       | 167/1100 [13:38<1:16:15,  4.90s/it]\n",
      "Aproximando altura y azimuth:  15%|███████▏                                       | 168/1100 [13:43<1:16:32,  4.93s/it]\n",
      "Aproximando altura y azimuth:  15%|███████▏                                       | 169/1100 [13:48<1:17:37,  5.00s/it]\n",
      "Aproximando altura y azimuth:  15%|███████▎                                       | 170/1100 [13:53<1:17:02,  4.97s/it]\n",
      "Aproximando altura y azimuth:  16%|███████▎                                       | 171/1100 [13:58<1:16:34,  4.95s/it]\n",
      "Aproximando altura y azimuth:  16%|███████▎                                       | 172/1100 [14:03<1:16:10,  4.92s/it]\n",
      "Aproximando altura y azimuth:  16%|███████▍                                       | 173/1100 [14:08<1:15:55,  4.91s/it]\n",
      "Aproximando altura y azimuth:  16%|███████▍                                       | 174/1100 [14:12<1:15:27,  4.89s/it]\n",
      "Aproximando altura y azimuth:  16%|███████▍                                       | 175/1100 [14:17<1:15:01,  4.87s/it]\n",
      "Aproximando altura y azimuth:  16%|███████▌                                       | 176/1100 [14:22<1:15:06,  4.88s/it]\n",
      "Aproximando altura y azimuth:  16%|███████▌                                       | 177/1100 [14:27<1:15:20,  4.90s/it]\n",
      "Aproximando altura y azimuth:  16%|███████▌                                       | 178/1100 [14:32<1:15:38,  4.92s/it]\n",
      "Aproximando altura y azimuth:  16%|███████▋                                       | 179/1100 [14:37<1:15:27,  4.92s/it]\n",
      "Aproximando altura y azimuth:  16%|███████▋                                       | 180/1100 [14:42<1:15:16,  4.91s/it]\n",
      "Aproximando altura y azimuth:  16%|███████▋                                       | 181/1100 [14:47<1:14:53,  4.89s/it]\n",
      "Aproximando altura y azimuth:  17%|███████▊                                       | 182/1100 [14:52<1:14:40,  4.88s/it]\n",
      "Aproximando altura y azimuth:  17%|███████▊                                       | 183/1100 [14:56<1:14:30,  4.88s/it]\n",
      "Aproximando altura y azimuth:  17%|███████▊                                       | 184/1100 [15:01<1:14:26,  4.88s/it]\n",
      "Aproximando altura y azimuth:  17%|███████▉                                       | 185/1100 [15:06<1:14:15,  4.87s/it]\n",
      "Aproximando altura y azimuth:  17%|███████▉                                       | 186/1100 [15:11<1:14:28,  4.89s/it]\n",
      "Aproximando altura y azimuth:  17%|███████▉                                       | 187/1100 [15:16<1:14:28,  4.89s/it]\n",
      "Aproximando altura y azimuth:  17%|████████                                       | 188/1100 [15:21<1:14:32,  4.90s/it]\n",
      "Aproximando altura y azimuth:  17%|████████                                       | 189/1100 [15:26<1:14:55,  4.93s/it]\n",
      "Aproximando altura y azimuth:  17%|████████                                       | 190/1100 [15:31<1:14:54,  4.94s/it]\n",
      "Aproximando altura y azimuth:  17%|████████▏                                      | 191/1100 [15:36<1:14:42,  4.93s/it]\n",
      "Aproximando altura y azimuth:  17%|████████▏                                      | 192/1100 [15:41<1:14:36,  4.93s/it]\n",
      "Aproximando altura y azimuth:  18%|████████▏                                      | 193/1100 [15:46<1:14:36,  4.94s/it]\n",
      "Aproximando altura y azimuth:  18%|████████▎                                      | 194/1100 [15:51<1:14:46,  4.95s/it]\n",
      "Aproximando altura y azimuth:  18%|████████▎                                      | 195/1100 [15:56<1:14:52,  4.96s/it]\n",
      "Aproximando altura y azimuth:  18%|████████▎                                      | 196/1100 [16:01<1:14:50,  4.97s/it]\n",
      "Aproximando altura y azimuth:  18%|████████▍                                      | 197/1100 [16:06<1:14:44,  4.97s/it]\n",
      "Aproximando altura y azimuth:  18%|████████▍                                      | 198/1100 [16:11<1:14:44,  4.97s/it]\n",
      "Aproximando altura y azimuth:  18%|████████▌                                      | 199/1100 [16:16<1:14:41,  4.97s/it]\n",
      "Aproximando altura y azimuth:  18%|████████▌                                      | 200/1100 [16:21<1:15:07,  5.01s/it]\n",
      "Aproximando altura y azimuth:  18%|████████▌                                      | 201/1100 [16:26<1:14:49,  4.99s/it]\n",
      "Aproximando altura y azimuth:  18%|████████▋                                      | 202/1100 [16:31<1:14:45,  4.99s/it]\n",
      "Aproximando altura y azimuth:  18%|████████▋                                      | 203/1100 [16:36<1:14:33,  4.99s/it]\n"
     ]
    },
    {
     "name": "stderr",
     "output_type": "stream",
     "text": [
      "Aproximando altura y azimuth:  19%|████████▋                                      | 204/1100 [16:40<1:13:51,  4.95s/it]\n",
      "Aproximando altura y azimuth:  19%|████████▊                                      | 205/1100 [16:45<1:14:00,  4.96s/it]\n",
      "Aproximando altura y azimuth:  19%|████████▊                                      | 206/1100 [16:50<1:13:43,  4.95s/it]\n",
      "Aproximando altura y azimuth:  19%|████████▊                                      | 207/1100 [16:55<1:13:48,  4.96s/it]\n",
      "Aproximando altura y azimuth:  19%|████████▉                                      | 208/1100 [17:00<1:14:19,  5.00s/it]\n",
      "Aproximando altura y azimuth:  19%|████████▉                                      | 209/1100 [17:05<1:14:21,  5.01s/it]\n",
      "Aproximando altura y azimuth:  19%|████████▉                                      | 210/1100 [17:10<1:14:09,  5.00s/it]\n",
      "Aproximando altura y azimuth:  19%|█████████                                      | 211/1100 [17:16<1:15:26,  5.09s/it]\n",
      "Aproximando altura y azimuth:  19%|█████████                                      | 212/1100 [17:21<1:14:53,  5.06s/it]\n",
      "Aproximando altura y azimuth:  19%|█████████                                      | 213/1100 [17:26<1:13:55,  5.00s/it]\n",
      "Aproximando altura y azimuth:  19%|█████████▏                                     | 214/1100 [17:31<1:13:51,  5.00s/it]\n",
      "Aproximando altura y azimuth:  20%|█████████▏                                     | 215/1100 [17:36<1:13:56,  5.01s/it]\n",
      "Aproximando altura y azimuth:  20%|█████████▏                                     | 216/1100 [17:41<1:13:47,  5.01s/it]\n",
      "Aproximando altura y azimuth:  20%|█████████▎                                     | 217/1100 [17:46<1:13:26,  4.99s/it]\n",
      "Aproximando altura y azimuth:  20%|█████████▎                                     | 218/1100 [17:51<1:13:19,  4.99s/it]\n",
      "Aproximando altura y azimuth:  20%|█████████▎                                     | 219/1100 [17:56<1:14:14,  5.06s/it]\n",
      "Aproximando altura y azimuth:  20%|█████████▍                                     | 220/1100 [18:02<1:17:16,  5.27s/it]\n",
      "Aproximando altura y azimuth:  20%|█████████▍                                     | 221/1100 [18:07<1:17:00,  5.26s/it]\n",
      "Aproximando altura y azimuth:  20%|█████████▍                                     | 222/1100 [18:12<1:16:52,  5.25s/it]\n",
      "Aproximando altura y azimuth:  20%|█████████▌                                     | 223/1100 [18:17<1:17:07,  5.28s/it]\n",
      "Aproximando altura y azimuth:  20%|█████████▌                                     | 224/1100 [18:22<1:15:17,  5.16s/it]\n",
      "Aproximando altura y azimuth:  20%|█████████▌                                     | 225/1100 [18:27<1:13:51,  5.07s/it]\n",
      "Aproximando altura y azimuth:  21%|█████████▋                                     | 226/1100 [18:32<1:13:20,  5.03s/it]\n",
      "Aproximando altura y azimuth:  21%|█████████▋                                     | 227/1100 [18:37<1:12:46,  5.00s/it]\n",
      "Aproximando altura y azimuth:  21%|█████████▋                                     | 228/1100 [18:42<1:13:01,  5.02s/it]\n",
      "Aproximando altura y azimuth:  21%|█████████▊                                     | 229/1100 [18:47<1:12:42,  5.01s/it]\n",
      "Aproximando altura y azimuth:  21%|█████████▊                                     | 230/1100 [18:52<1:12:12,  4.98s/it]\n",
      "Aproximando altura y azimuth:  21%|█████████▊                                     | 231/1100 [18:57<1:11:42,  4.95s/it]\n",
      "Aproximando altura y azimuth:  21%|█████████▉                                     | 232/1100 [19:02<1:11:19,  4.93s/it]\n",
      "Aproximando altura y azimuth:  21%|█████████▉                                     | 233/1100 [19:07<1:10:52,  4.90s/it]\n",
      "Aproximando altura y azimuth:  21%|█████████▉                                     | 234/1100 [19:12<1:11:21,  4.94s/it]\n",
      "Aproximando altura y azimuth:  21%|██████████                                     | 235/1100 [19:17<1:12:29,  5.03s/it]\n",
      "Aproximando altura y azimuth:  21%|██████████                                     | 236/1100 [19:22<1:11:41,  4.98s/it]\n",
      "Aproximando altura y azimuth:  22%|██████████▏                                    | 237/1100 [19:27<1:12:17,  5.03s/it]\n",
      "Aproximando altura y azimuth:  22%|██████████▏                                    | 238/1100 [19:32<1:11:44,  4.99s/it]\n",
      "Aproximando altura y azimuth:  22%|██████████▏                                    | 239/1100 [19:37<1:11:17,  4.97s/it]\n",
      "Aproximando altura y azimuth:  22%|██████████▎                                    | 240/1100 [19:42<1:11:33,  4.99s/it]\n",
      "Aproximando altura y azimuth:  22%|██████████▎                                    | 241/1100 [19:47<1:11:21,  4.98s/it]\n",
      "Aproximando altura y azimuth:  22%|██████████▎                                    | 242/1100 [19:52<1:11:00,  4.97s/it]\n",
      "Aproximando altura y azimuth:  22%|██████████▍                                    | 243/1100 [19:56<1:10:41,  4.95s/it]\n",
      "Aproximando altura y azimuth:  22%|██████████▍                                    | 244/1100 [20:01<1:10:18,  4.93s/it]\n",
      "Aproximando altura y azimuth:  22%|██████████▍                                    | 245/1100 [20:06<1:09:43,  4.89s/it]\n",
      "Aproximando altura y azimuth:  22%|██████████▌                                    | 246/1100 [20:11<1:09:26,  4.88s/it]\n",
      "Aproximando altura y azimuth:  22%|██████████▌                                    | 247/1100 [20:16<1:09:51,  4.91s/it]\n",
      "Aproximando altura y azimuth:  23%|██████████▌                                    | 248/1100 [20:21<1:09:43,  4.91s/it]\n",
      "Aproximando altura y azimuth:  23%|██████████▋                                    | 249/1100 [20:26<1:09:28,  4.90s/it]\n",
      "Aproximando altura y azimuth:  23%|██████████▋                                    | 250/1100 [20:31<1:09:04,  4.88s/it]\n",
      "Aproximando altura y azimuth:  23%|██████████▋                                    | 251/1100 [20:36<1:09:32,  4.91s/it]\n",
      "Aproximando altura y azimuth:  23%|██████████▊                                    | 252/1100 [20:41<1:09:29,  4.92s/it]\n",
      "Aproximando altura y azimuth:  23%|██████████▊                                    | 253/1100 [20:45<1:09:04,  4.89s/it]\n",
      "Aproximando altura y azimuth:  23%|██████████▊                                    | 254/1100 [20:50<1:08:46,  4.88s/it]\n",
      "Aproximando altura y azimuth:  23%|██████████▉                                    | 255/1100 [20:55<1:08:32,  4.87s/it]\n",
      "Aproximando altura y azimuth:  23%|██████████▉                                    | 256/1100 [21:00<1:08:13,  4.85s/it]\n",
      "Aproximando altura y azimuth:  23%|██████████▉                                    | 257/1100 [21:05<1:08:19,  4.86s/it]\n",
      "Aproximando altura y azimuth:  23%|███████████                                    | 258/1100 [21:10<1:08:12,  4.86s/it]\n",
      "Aproximando altura y azimuth:  24%|███████████                                    | 259/1100 [21:15<1:08:39,  4.90s/it]\n",
      "Aproximando altura y azimuth:  24%|███████████                                    | 260/1100 [21:20<1:08:47,  4.91s/it]\n",
      "Aproximando altura y azimuth:  24%|███████████▏                                   | 261/1100 [21:24<1:08:41,  4.91s/it]\n",
      "Aproximando altura y azimuth:  24%|███████████▏                                   | 262/1100 [21:29<1:08:52,  4.93s/it]\n",
      "Aproximando altura y azimuth:  24%|███████████▏                                   | 263/1100 [21:34<1:09:10,  4.96s/it]\n",
      "Aproximando altura y azimuth:  24%|███████████▎                                   | 264/1100 [21:40<1:10:16,  5.04s/it]\n",
      "Aproximando altura y azimuth:  24%|███████████▎                                   | 265/1100 [21:45<1:10:08,  5.04s/it]\n",
      "Aproximando altura y azimuth:  24%|███████████▎                                   | 266/1100 [21:50<1:09:41,  5.01s/it]\n",
      "Aproximando altura y azimuth:  24%|███████████▍                                   | 267/1100 [21:55<1:09:27,  5.00s/it]\n",
      "Aproximando altura y azimuth:  24%|███████████▍                                   | 268/1100 [22:00<1:08:57,  4.97s/it]\n",
      "Aproximando altura y azimuth:  24%|███████████▍                                   | 269/1100 [22:04<1:08:22,  4.94s/it]\n",
      "Aproximando altura y azimuth:  25%|███████████▌                                   | 270/1100 [22:09<1:08:26,  4.95s/it]\n",
      "Aproximando altura y azimuth:  25%|███████████▌                                   | 271/1100 [22:14<1:07:59,  4.92s/it]\n"
     ]
    },
    {
     "name": "stderr",
     "output_type": "stream",
     "text": [
      "Aproximando altura y azimuth:  25%|███████████▌                                   | 272/1100 [22:19<1:07:38,  4.90s/it]\n",
      "Aproximando altura y azimuth:  25%|███████████▋                                   | 273/1100 [22:24<1:07:42,  4.91s/it]\n",
      "Aproximando altura y azimuth:  25%|███████████▋                                   | 274/1100 [22:29<1:07:50,  4.93s/it]\n",
      "Aproximando altura y azimuth:  25%|███████████▊                                   | 275/1100 [22:35<1:10:23,  5.12s/it]\n",
      "Aproximando altura y azimuth:  25%|███████████▊                                   | 276/1100 [22:39<1:09:26,  5.06s/it]\n",
      "Aproximando altura y azimuth:  25%|███████████▊                                   | 277/1100 [22:44<1:08:26,  4.99s/it]\n",
      "Aproximando altura y azimuth:  25%|███████████▉                                   | 278/1100 [22:49<1:08:09,  4.98s/it]\n",
      "Aproximando altura y azimuth:  25%|███████████▉                                   | 279/1100 [22:55<1:10:02,  5.12s/it]\n",
      "Aproximando altura y azimuth:  25%|███████████▉                                   | 280/1100 [23:00<1:09:51,  5.11s/it]\n",
      "Aproximando altura y azimuth:  26%|████████████                                   | 281/1100 [23:05<1:09:01,  5.06s/it]\n",
      "Aproximando altura y azimuth:  26%|████████████                                   | 282/1100 [23:10<1:08:28,  5.02s/it]\n",
      "Aproximando altura y azimuth:  26%|████████████                                   | 283/1100 [23:15<1:08:09,  5.01s/it]\n",
      "Aproximando altura y azimuth:  26%|████████████▏                                  | 284/1100 [23:20<1:08:58,  5.07s/it]\n",
      "Aproximando altura y azimuth:  26%|████████████▏                                  | 285/1100 [23:25<1:08:11,  5.02s/it]\n",
      "Aproximando altura y azimuth:  26%|████████████▏                                  | 286/1100 [23:30<1:07:43,  4.99s/it]\n",
      "Aproximando altura y azimuth:  26%|████████████▎                                  | 287/1100 [23:35<1:07:44,  5.00s/it]\n",
      "Aproximando altura y azimuth:  26%|████████████▎                                  | 288/1100 [23:40<1:07:25,  4.98s/it]\n",
      "Aproximando altura y azimuth:  26%|████████████▎                                  | 289/1100 [23:45<1:07:16,  4.98s/it]\n",
      "Aproximando altura y azimuth:  26%|████████████▍                                  | 290/1100 [23:50<1:07:03,  4.97s/it]\n",
      "Aproximando altura y azimuth:  26%|████████████▍                                  | 291/1100 [23:54<1:06:49,  4.96s/it]\n",
      "Aproximando altura y azimuth:  27%|████████████▍                                  | 292/1100 [23:59<1:06:37,  4.95s/it]"
     ]
    },
    {
     "name": "stdout",
     "output_type": "stream",
     "text": [
      "Optimization terminated successfully.\n",
      "         Current function value: 1615009.452206\n",
      "         Iterations: 158\n",
      "         Function evaluations: 292\n"
     ]
    },
    {
     "name": "stderr",
     "output_type": "stream",
     "text": [
      "Aproximando altura y azimuth:  27%|████████████▍                                  | 292/1100 [23:59<1:06:24,  4.93s/it]\n"
     ]
    },
    {
     "data": {
      "text/plain": [
       "array([ 9.42968001e-02, -2.08470653e-02, -3.49599109e-01,  3.00000000e-02,\n",
       "        7.00000000e-03,  9.00000000e-02,  2.20000000e-06,  6.00000000e-03,\n",
       "       -4.87658786e-03, -1.92129464e-03,  7.27249861e+02,  4.79074507e+02,\n",
       "        7.75939748e-01])"
      ]
     },
     "execution_count": 43,
     "metadata": {},
     "output_type": "execute_result"
    }
   ],
   "source": [
    "\"\"\"\n",
    "314 - V, S, D, P, Q, X0, Y0, a0\n",
    "\"\"\"\n",
    "\n",
    "def construct_acumulate_alt_xi(x_list, y_list, z_list, ctes = None):\n",
    "    def acumulate_xi(params):\n",
    "        V, S, D, P, Q, E, ep, X0, Y0, a0 = ctes\n",
    "        C, A, F, = params\n",
    "        suma_xi = 0\n",
    "        for x, y, z in zip(x_list, y_list, z_list):\n",
    "            xi = construct_alt_xi(int(x), int(y), int(z))\n",
    "            suma_xi += xi(C, A, F, V, S, D, P, Q, E, ep, float(X0), float(Y0), a0)\n",
    "        pbar.update()\n",
    "        return suma_xi\n",
    "    return acumulate_xi\n",
    "\n",
    "def construct_acumulate_az_xi(x_list, y_list, z_list, ctes = None):\n",
    "    def acumulate_xi(params):\n",
    "        V, S, D, P, Q, E, ep, X0, Y0, a0 = ctes\n",
    "        C, A, F, = params\n",
    "        suma_xi = 0\n",
    "        for x, y, z in zip(x_list, y_list, z_list):\n",
    "            xi = construct_az_xi(int(x), int(y), int(z))\n",
    "            suma_xi += xi(C, A, F, V, S, D, P, Q, E, ep, float(X0), float(Y0), a0)\n",
    "        pbar.update()\n",
    "        return suma_xi\n",
    "    return acumulate_xi\n",
    "\n",
    "######################################################################################################\n",
    "\n",
    "def amoeba(params, mega_alt_xi, mega_az_xi):\n",
    "    new_alt_params = optimize.fmin(mega_alt_xi, params, maxfun=1100)\n",
    "#     new_az_params = optimize.fmin(mega_az_xi, params, maxfun=1100)\n",
    "    return [new_alt_params]\n",
    "\n",
    "init_params = [*result_2[:3]]\n",
    "ctes = [*result_2[3:]]\n",
    "\n",
    "data = pd.read_csv(\"Data.pixtab\", sep=\" \")\n",
    "data = data.dropna()\n",
    "# data = drop_outlayers_by_borovicka(data, construct_altura_deg(*init_params, *ctes), 5)\n",
    "x_exp = data.x.values\n",
    "y_exp = data.y.values\n",
    "alt_catalogo = data.alt.values\n",
    "az_catalogo = np.rad2deg(np.arccos(np.cos(np.deg2rad(data.az.values))))\n",
    "mega_alt_xi = construct_acumulate_alt_xi(x_exp, y_exp, alt_catalogo, ctes)\n",
    "mega_az_xi = construct_acumulate_az_xi(x_exp, y_exp, az_catalogo, ctes)\n",
    "\n",
    "pbar = tqdm(total=1100, desc=\"Aproximando altura y azimuth\")\n",
    "results_list += amoeba(init_params, mega_alt_xi, mega_az_xi)\n",
    "pbar.close()\n",
    "results_list[-1]\n",
    "\n",
    "result_3 = np.array([*results_list[-1], *ctes])\n",
    "result_3"
   ]
  },
  {
   "cell_type": "code",
   "execution_count": 31,
   "metadata": {},
   "outputs": [],
   "source": [
    "temp_result_3 = np.array([ 4.94264869e-02, -2.19922427e-02,  8.61214323e-02,\n",
    "                              3.00000000e-02, 7.00000000e-03,  9.00000000e-02,  2.20000000e-06,  6.00000000e-03,\n",
    "                               -4.87658786e-03, -1.92129464e-03,\n",
    "                                  7.27249861e+02,  4.79074507e+02, 7.75939748e-01])"
   ]
  },
  {
   "cell_type": "code",
   "execution_count": null,
   "metadata": {},
   "outputs": [],
   "source": []
  },
  {
   "cell_type": "code",
   "execution_count": null,
   "metadata": {},
   "outputs": [],
   "source": []
  },
  {
   "cell_type": "code",
   "execution_count": null,
   "metadata": {},
   "outputs": [],
   "source": []
  },
  {
   "cell_type": "code",
   "execution_count": null,
   "metadata": {},
   "outputs": [],
   "source": []
  },
  {
   "cell_type": "code",
   "execution_count": null,
   "metadata": {},
   "outputs": [],
   "source": []
  },
  {
   "cell_type": "code",
   "execution_count": null,
   "metadata": {},
   "outputs": [],
   "source": []
  },
  {
   "cell_type": "markdown",
   "metadata": {},
   "source": [
    "## Paso ?  (310) (mala)\n",
    "Intentamos buscar con la informacion que tenemos un mejor C"
   ]
  },
  {
   "cell_type": "code",
   "execution_count": 38,
   "metadata": {
    "scrolled": true
   },
   "outputs": [
    {
     "name": "stderr",
     "output_type": "stream",
     "text": [
      "\n",
      "Aproximando altura y azimuth:   0%|                                                           | 0/1100 [00:00<?, ?it/s]\n",
      "Aproximando altura y azimuth:   0%|                                                 | 1/1100 [00:05<1:31:34,  5.00s/it]\n",
      "Aproximando altura y azimuth:   0%|                                                 | 2/1100 [00:10<1:31:52,  5.02s/it]\n",
      "Aproximando altura y azimuth:   0%|▏                                                | 3/1100 [00:15<1:31:48,  5.02s/it]\n",
      "Aproximando altura y azimuth:   0%|▏                                                | 4/1100 [00:20<1:32:17,  5.05s/it]\n",
      "Aproximando altura y azimuth:   0%|▏                                                | 5/1100 [00:25<1:32:58,  5.09s/it]\n",
      "Aproximando altura y azimuth:   1%|▎                                                | 6/1100 [00:30<1:34:34,  5.19s/it]\n",
      "Aproximando altura y azimuth:   1%|▎                                                | 7/1100 [00:35<1:33:32,  5.14s/it]\n",
      "Aproximando altura y azimuth:   1%|▎                                                | 8/1100 [00:40<1:32:45,  5.10s/it]\n",
      "Aproximando altura y azimuth:   1%|▍                                                | 9/1100 [00:46<1:33:45,  5.16s/it]\n",
      "Aproximando altura y azimuth:   1%|▍                                               | 10/1100 [00:51<1:32:49,  5.11s/it]\n",
      "Aproximando altura y azimuth:   1%|▍                                               | 11/1100 [00:56<1:32:17,  5.08s/it]\n",
      "Aproximando altura y azimuth:   1%|▌                                               | 12/1100 [01:01<1:31:34,  5.05s/it]\n",
      "Aproximando altura y azimuth:   1%|▌                                               | 13/1100 [01:06<1:31:38,  5.06s/it]\n",
      "Aproximando altura y azimuth:   1%|▌                                               | 14/1100 [01:11<1:31:42,  5.07s/it]\n",
      "Aproximando altura y azimuth:   1%|▋                                               | 15/1100 [01:16<1:32:25,  5.11s/it]\n",
      "Aproximando altura y azimuth:   1%|▋                                               | 16/1100 [01:21<1:32:05,  5.10s/it]\n",
      "Aproximando altura y azimuth:   2%|▋                                               | 17/1100 [01:26<1:31:48,  5.09s/it]\n",
      "Aproximando altura y azimuth:   2%|▊                                               | 18/1100 [01:31<1:31:15,  5.06s/it]\n",
      "Aproximando altura y azimuth:   2%|▊                                               | 19/1100 [01:36<1:30:41,  5.03s/it]\n",
      "Aproximando altura y azimuth:   2%|▊                                               | 20/1100 [01:41<1:30:34,  5.03s/it]\n",
      "Aproximando altura y azimuth:   2%|▉                                               | 21/1100 [01:46<1:30:32,  5.03s/it]\n",
      "Aproximando altura y azimuth:   2%|▉                                               | 22/1100 [01:51<1:30:21,  5.03s/it]\n",
      "Aproximando altura y azimuth:   2%|█                                               | 23/1100 [01:56<1:30:14,  5.03s/it]\n",
      "Aproximando altura y azimuth:   2%|█                                               | 24/1100 [02:01<1:30:14,  5.03s/it]\n",
      "Aproximando altura y azimuth:   2%|█                                               | 25/1100 [02:06<1:29:37,  5.00s/it]\n",
      "Aproximando altura y azimuth:   2%|█▏                                              | 26/1100 [02:12<1:35:36,  5.34s/it]\n",
      "Aproximando altura y azimuth:   2%|█▏                                              | 27/1100 [02:17<1:33:44,  5.24s/it]\n",
      "Aproximando altura y azimuth:   3%|█▏                                              | 28/1100 [02:22<1:32:26,  5.17s/it]\n",
      "Aproximando altura y azimuth:   3%|█▎                                              | 29/1100 [02:27<1:31:20,  5.12s/it]\n",
      "Aproximando altura y azimuth:   3%|█▎                                              | 30/1100 [02:32<1:30:44,  5.09s/it]\n",
      "Aproximando altura y azimuth:   3%|█▎                                              | 31/1100 [02:37<1:29:50,  5.04s/it]\n",
      "Aproximando altura y azimuth:   3%|█▍                                              | 32/1100 [02:42<1:29:36,  5.03s/it]"
     ]
    },
    {
     "name": "stdout",
     "output_type": "stream",
     "text": [
      "Optimization terminated successfully.\n",
      "         Current function value: 1742483.748850\n",
      "         Iterations: 16\n",
      "         Function evaluations: 32\n"
     ]
    },
    {
     "name": "stderr",
     "output_type": "stream",
     "text": [
      "Aproximando altura y azimuth:   3%|█▍                                              | 32/1100 [02:42<1:30:33,  5.09s/it]\n"
     ]
    },
    {
     "data": {
      "text/plain": [
       "array([9.46611073e-02, 0.00000000e+00, 0.00000000e+00, 3.00000000e-02,\n",
       "       7.00000000e-03, 9.00000000e-02, 2.20000000e-06, 6.00000000e-03,\n",
       "       0.00000000e+00, 0.00000000e+00, 7.27249861e+02, 4.79074507e+02,\n",
       "       7.75939748e-01])"
      ]
     },
     "execution_count": 38,
     "metadata": {},
     "output_type": "execute_result"
    }
   ],
   "source": [
    "\"\"\"\n",
    "314 - V, S, D, P, Q, X0, Y0, a0\n",
    "\"\"\"\n",
    "\n",
    "def construct_acumulate_alt_xi(x_list, y_list, z_list, ctes = None):\n",
    "    def acumulate_xi(params):\n",
    "        A, F, V, S, D, P, Q, E, ep, X0, Y0, a0 = ctes\n",
    "        C, = params\n",
    "        suma_xi = 0\n",
    "        for x, y, z in zip(x_list, y_list, z_list):\n",
    "            xi = construct_alt_xi(int(x), int(y), int(z))\n",
    "            suma_xi += xi(C, A, F, V, S, D, P, Q, E, ep, float(X0), float(Y0), a0)\n",
    "        pbar.update()\n",
    "        return suma_xi\n",
    "    return acumulate_xi\n",
    "\n",
    "def construct_acumulate_az_xi(x_list, y_list, z_list, ctes = None):\n",
    "    def acumulate_xi(params):\n",
    "        A, F, V, S, D, P, Q, E, ep, X0, Y0, a0 = ctes\n",
    "        C, = params\n",
    "        suma_xi = 0\n",
    "        for x, y, z in zip(x_list, y_list, z_list):\n",
    "            xi = construct_az_xi(int(x), int(y), int(z))\n",
    "            suma_xi += xi(C, A, F, V, S, D, P, Q, E, ep, float(X0), float(Y0), a0)\n",
    "        pbar.update()\n",
    "        return suma_xi\n",
    "    return acumulate_xi\n",
    "\n",
    "######################################################################################################\n",
    "\n",
    "def amoeba(params, mega_alt_xi, mega_az_xi):\n",
    "    new_alt_params = optimize.fmin(mega_alt_xi, params, maxfun=1100)\n",
    "#     new_az_params = optimize.fmin(mega_az_xi, params, maxfun=1100)\n",
    "    return [new_alt_params]\n",
    "\n",
    "init_params = [result_2[0]]\n",
    "ctes = [0,0,*result_2[3:8],0,0,*result_2[10:]]\n",
    "\n",
    "data = pd.read_csv(\"Data.pixtab\", sep=\" \")\n",
    "data = data.dropna()\n",
    "# data = drop_outlayers_by_borovicka(data, construct_altura_deg(*init_params, *ctes), 5)\n",
    "x_exp = data.x.values\n",
    "y_exp = data.y.values\n",
    "alt_catalogo = data.alt.values\n",
    "az_catalogo = np.rad2deg(np.arccos(np.cos(np.deg2rad(data.az.values))))\n",
    "mega_alt_xi = construct_acumulate_alt_xi(x_exp, y_exp, alt_catalogo, ctes)\n",
    "mega_az_xi = construct_acumulate_az_xi(x_exp, y_exp, az_catalogo, ctes)\n",
    "\n",
    "pbar = tqdm(total=1100, desc=\"Aproximando altura y azimuth\")\n",
    "results_list += amoeba(init_params, mega_alt_xi, mega_az_xi)\n",
    "pbar.close()\n",
    "results_list[-1]\n",
    "\n",
    "result_3 = np.array([*results_list[-1], *ctes])\n",
    "result_3"
   ]
  },
  {
   "cell_type": "code",
   "execution_count": 39,
   "metadata": {},
   "outputs": [],
   "source": [
    "temp_result_3 = np.array([9.46611073e-02, -3.38790409e-02, -4.46769471e-02,\n",
    "                              3.00000000e-02, 7.00000000e-03, 9.00000000e-02, 2.20000000e-06, 6.00000000e-03,\n",
    "                               -4.87658786e-03, -1.92129464e-03,\n",
    "                                  7.27249861e+02, 4.79074507e+02, 7.75939748e-01])"
   ]
  },
  {
   "cell_type": "code",
   "execution_count": null,
   "metadata": {},
   "outputs": [],
   "source": []
  },
  {
   "cell_type": "code",
   "execution_count": null,
   "metadata": {},
   "outputs": [],
   "source": []
  },
  {
   "cell_type": "markdown",
   "metadata": {},
   "source": [
    "## Paso ?  (319)\n",
    "Intentamos buscar con la informacion que tenemos un mejor C"
   ]
  },
  {
   "cell_type": "code",
   "execution_count": 35,
   "metadata": {
    "scrolled": true
   },
   "outputs": [
    {
     "name": "stderr",
     "output_type": "stream",
     "text": [
      "\n",
      "Aproximando altura y azimuth:   0%|                                                           | 0/1100 [00:00<?, ?it/s]\n",
      "Aproximando altura y azimuth:   0%|                                                 | 1/1100 [00:04<1:28:29,  4.83s/it]\n",
      "Aproximando altura y azimuth:   0%|                                                 | 2/1100 [00:09<1:29:00,  4.86s/it]\n",
      "Aproximando altura y azimuth:   0%|▏                                                | 3/1100 [00:14<1:28:59,  4.87s/it]\n",
      "Aproximando altura y azimuth:   0%|▏                                                | 4/1100 [00:19<1:28:40,  4.85s/it]\n",
      "Aproximando altura y azimuth:   0%|▏                                                | 5/1100 [00:24<1:28:30,  4.85s/it]\n",
      "Aproximando altura y azimuth:   1%|▎                                                | 6/1100 [00:29<1:28:46,  4.87s/it]\n",
      "Aproximando altura y azimuth:   1%|▎                                                | 7/1100 [00:34<1:28:20,  4.85s/it]\n",
      "Aproximando altura y azimuth:   1%|▎                                                | 8/1100 [00:38<1:27:56,  4.83s/it]\n",
      "Aproximando altura y azimuth:   1%|▍                                                | 9/1100 [00:43<1:27:40,  4.82s/it]\n",
      "Aproximando altura y azimuth:   1%|▍                                               | 10/1100 [00:48<1:27:59,  4.84s/it]\n",
      "Aproximando altura y azimuth:   1%|▍                                               | 11/1100 [00:53<1:27:16,  4.81s/it]\n",
      "Aproximando altura y azimuth:   1%|▌                                               | 12/1100 [00:57<1:26:56,  4.79s/it]\n",
      "Aproximando altura y azimuth:   1%|▌                                               | 13/1100 [01:02<1:27:03,  4.81s/it]\n",
      "Aproximando altura y azimuth:   1%|▌                                               | 14/1100 [01:07<1:26:43,  4.79s/it]\n",
      "Aproximando altura y azimuth:   1%|▋                                               | 15/1100 [01:12<1:28:13,  4.88s/it]\n",
      "Aproximando altura y azimuth:   1%|▋                                               | 16/1100 [01:17<1:27:22,  4.84s/it]\n",
      "Aproximando altura y azimuth:   2%|▋                                               | 17/1100 [01:22<1:27:01,  4.82s/it]\n",
      "Aproximando altura y azimuth:   2%|▊                                               | 18/1100 [01:26<1:26:45,  4.81s/it]\n",
      "Aproximando altura y azimuth:   2%|▊                                               | 19/1100 [01:31<1:26:42,  4.81s/it]\n",
      "Aproximando altura y azimuth:   2%|▊                                               | 20/1100 [01:36<1:26:09,  4.79s/it]\n",
      "Aproximando altura y azimuth:   2%|▉                                               | 21/1100 [01:41<1:26:00,  4.78s/it]\n",
      "Aproximando altura y azimuth:   2%|▉                                               | 22/1100 [01:46<1:25:49,  4.78s/it]\n",
      "Aproximando altura y azimuth:   2%|█                                               | 23/1100 [01:50<1:25:33,  4.77s/it]\n",
      "Aproximando altura y azimuth:   2%|█                                               | 24/1100 [01:55<1:25:25,  4.76s/it]\n",
      "Aproximando altura y azimuth:   2%|█                                               | 25/1100 [02:00<1:25:34,  4.78s/it]\n",
      "Aproximando altura y azimuth:   2%|█▏                                              | 26/1100 [02:05<1:26:15,  4.82s/it]\n",
      "Aproximando altura y azimuth:   2%|█▏                                              | 27/1100 [02:10<1:26:15,  4.82s/it]\n",
      "Aproximando altura y azimuth:   3%|█▏                                              | 28/1100 [02:14<1:25:56,  4.81s/it]\n",
      "Aproximando altura y azimuth:   3%|█▎                                              | 29/1100 [02:19<1:26:50,  4.87s/it]\n",
      "Aproximando altura y azimuth:   3%|█▎                                              | 30/1100 [02:24<1:27:38,  4.91s/it]\n",
      "Aproximando altura y azimuth:   3%|█▎                                              | 31/1100 [02:29<1:26:50,  4.87s/it]\n",
      "Aproximando altura y azimuth:   3%|█▍                                              | 32/1100 [02:34<1:26:21,  4.85s/it]\n",
      "Aproximando altura y azimuth:   3%|█▍                                              | 33/1100 [02:39<1:26:30,  4.86s/it]\n",
      "Aproximando altura y azimuth:   3%|█▍                                              | 34/1100 [02:44<1:27:29,  4.92s/it]\n",
      "Aproximando altura y azimuth:   3%|█▌                                              | 35/1100 [02:49<1:26:51,  4.89s/it]\n",
      "Aproximando altura y azimuth:   3%|█▌                                              | 36/1100 [02:54<1:26:00,  4.85s/it]\n",
      "Aproximando altura y azimuth:   3%|█▌                                              | 37/1100 [02:58<1:26:01,  4.86s/it]\n",
      "Aproximando altura y azimuth:   3%|█▋                                              | 38/1100 [03:03<1:26:54,  4.91s/it]"
     ]
    },
    {
     "name": "stdout",
     "output_type": "stream",
     "text": [
      "Optimization terminated successfully.\n",
      "         Current function value: 1664578.964913\n",
      "         Iterations: 19\n",
      "         Function evaluations: 38\n"
     ]
    },
    {
     "name": "stderr",
     "output_type": "stream",
     "text": [
      "Aproximando altura y azimuth:   3%|█▋                                              | 38/1100 [03:03<1:25:40,  4.84s/it]\n"
     ]
    },
    {
     "data": {
      "text/plain": [
       "array([ 9.28603920e-02, -3.38790409e-02, -4.46769471e-02,  3.00000000e-02,\n",
       "        7.00000000e-03,  9.00000000e-02,  2.20000000e-06,  6.00000000e-03,\n",
       "       -4.87658786e-03, -1.92129464e-03,  7.27249861e+02,  4.79074507e+02,\n",
       "        7.75939748e-01])"
      ]
     },
     "execution_count": 35,
     "metadata": {},
     "output_type": "execute_result"
    }
   ],
   "source": [
    "\"\"\"\n",
    "314 - V, S, D, P, Q, X0, Y0, a0\n",
    "\"\"\"\n",
    "\n",
    "def construct_acumulate_alt_xi(x_list, y_list, z_list, ctes = None):\n",
    "    def acumulate_xi(params):\n",
    "        A, F, V, S, D, P, Q, E, ep, X0, Y0, a0 = ctes\n",
    "        C, = params\n",
    "        suma_xi = 0\n",
    "        for x, y, z in zip(x_list, y_list, z_list):\n",
    "            xi = construct_alt_xi(int(x), int(y), int(z))\n",
    "            suma_xi += xi(C, A, F, V, S, D, P, Q, E, ep, float(X0), float(Y0), a0)\n",
    "        pbar.update()\n",
    "        return suma_xi\n",
    "    return acumulate_xi\n",
    "\n",
    "def construct_acumulate_az_xi(x_list, y_list, z_list, ctes = None):\n",
    "    def acumulate_xi(params):\n",
    "        A, F, V, S, D, P, Q, E, ep, X0, Y0, a0 = ctes\n",
    "        C, = params\n",
    "        suma_xi = 0\n",
    "        for x, y, z in zip(x_list, y_list, z_list):\n",
    "            xi = construct_az_xi(int(x), int(y), int(z))\n",
    "            suma_xi += xi(C, A, F, V, S, D, P, Q, E, ep, float(X0), float(Y0), a0)\n",
    "        pbar.update()\n",
    "        return suma_xi\n",
    "    return acumulate_xi\n",
    "\n",
    "######################################################################################################\n",
    "\n",
    "def amoeba(params, mega_alt_xi, mega_az_xi):\n",
    "    new_alt_params = optimize.fmin(mega_alt_xi, params, maxfun=1100)\n",
    "#     new_az_params = optimize.fmin(mega_az_xi, params, maxfun=1100)\n",
    "    return [new_alt_params]\n",
    "\n",
    "init_params = [result_2[0]]\n",
    "ctes = [*result_2[1:]]\n",
    "\n",
    "data = pd.read_csv(\"Data.pixtab\", sep=\" \")\n",
    "data = data.dropna()\n",
    "# data = drop_outlayers_by_borovicka(data, construct_altura_deg(*init_params, *ctes), 5)\n",
    "x_exp = data.x.values\n",
    "y_exp = data.y.values\n",
    "alt_catalogo = data.alt.values\n",
    "az_catalogo = np.rad2deg(np.arccos(np.cos(np.deg2rad(data.az.values))))\n",
    "mega_alt_xi = construct_acumulate_alt_xi(x_exp, y_exp, alt_catalogo, ctes)\n",
    "mega_az_xi = construct_acumulate_az_xi(x_exp, y_exp, az_catalogo, ctes)\n",
    "\n",
    "pbar = tqdm(total=1100, desc=\"Aproximando altura y azimuth\")\n",
    "results_list += amoeba(init_params, mega_alt_xi, mega_az_xi)\n",
    "pbar.close()\n",
    "results_list[-1]\n",
    "\n",
    "result_3 = np.array([*results_list[-1], *ctes])\n",
    "result_3"
   ]
  },
  {
   "cell_type": "code",
   "execution_count": null,
   "metadata": {},
   "outputs": [],
   "source": [
    "temp_result_3 = np.array([ 9.28603920e-02, -3.38790409e-02, -4.46769471e-02,\n",
    "                              3.00000000e-02, 7.00000000e-03,  9.00000000e-02,  2.20000000e-06,  6.00000000e-03,\n",
    "                               -4.87658786e-03, -1.92129464e-03,\n",
    "                                  7.27249861e+02,  4.79074507e+02, 7.75939748e-01])"
   ]
  },
  {
   "cell_type": "code",
   "execution_count": null,
   "metadata": {},
   "outputs": [],
   "source": []
  },
  {
   "cell_type": "code",
   "execution_count": null,
   "metadata": {},
   "outputs": [],
   "source": []
  },
  {
   "cell_type": "markdown",
   "metadata": {},
   "source": [
    "### Paso ?\n",
    "Ahora buscamos C,A,F reduciendo la altura. Según lo que experimentamos no deberia afectar al azimut"
   ]
  },
  {
   "cell_type": "code",
   "execution_count": 28,
   "metadata": {
    "scrolled": true
   },
   "outputs": [
    {
     "name": "stderr",
     "output_type": "stream",
     "text": [
      "Droping Outlayers: 100%|███████████████████████████████████████████████████████| 80771/80771 [00:11<00:00, 6832.20it/s]\n",
      "Aproximando altura y azimuth:  13%|██████▌                                          | 146/1100 [09:06<59:57,  3.77s/it]"
     ]
    },
    {
     "name": "stdout",
     "output_type": "stream",
     "text": [
      "Optimization terminated successfully.\n",
      "         Current function value: 221691.663338\n",
      "         Iterations: 79\n",
      "         Function evaluations: 146\n"
     ]
    },
    {
     "name": "stderr",
     "output_type": "stream",
     "text": [
      "Aproximando altura y azimuth:  13%|██████▌                                          | 146/1100 [09:06<59:31,  3.74s/it]\n"
     ]
    },
    {
     "data": {
      "text/plain": [
       "array([ 9.94264869e-02, -2.19922427e-02,  8.61214323e-02,  3.00000000e-02,\n",
       "        7.00000000e-03,  9.00000000e-02,  2.20000000e-06,  6.00000000e-03,\n",
       "       -4.87658786e-03, -1.92129464e-03,  7.27249861e+02,  4.79074507e+02,\n",
       "        7.75939748e-01])"
      ]
     },
     "execution_count": 28,
     "metadata": {},
     "output_type": "execute_result"
    }
   ],
   "source": [
    "\"\"\"\n",
    "314 - V, S, D, P, Q, X0, Y0, a0\n",
    "\"\"\"\n",
    "\n",
    "def construct_acumulate_alt_xi(x_list, y_list, z_list, ctes = None):\n",
    "    def acumulate_xi(params):\n",
    "        V, S, D, P, Q, E, ep, X0, Y0, a0 = ctes\n",
    "        C, A, F, = params\n",
    "        suma_xi = 0\n",
    "        for x, y, z in zip(x_list, y_list, z_list):\n",
    "            xi = construct_alt_xi(int(x), int(y), int(z))\n",
    "            suma_xi += xi(C, A, F, V, S, D, P, Q, E, ep, float(X0), float(Y0), a0)\n",
    "        pbar.update()\n",
    "        return suma_xi\n",
    "    return acumulate_xi\n",
    "\n",
    "def construct_acumulate_az_xi(x_list, y_list, z_list, ctes = None):\n",
    "    def acumulate_xi(params):\n",
    "        V, S, D, P, Q, E, ep, X0, Y0, a0 = ctes\n",
    "        C, A, F, = params\n",
    "        suma_xi = 0\n",
    "        for x, y, z in zip(x_list, y_list, z_list):\n",
    "            xi = construct_az_xi(int(x), int(y), int(z))\n",
    "            suma_xi += xi(C, A, F, V, S, D, P, Q, E, ep, float(X0), float(Y0), a0)\n",
    "        pbar.update()\n",
    "        return suma_xi\n",
    "    return acumulate_xi\n",
    "\n",
    "######################################################################################################\n",
    "\n",
    "def amoeba(params, mega_alt_xi, mega_az_xi):\n",
    "    new_alt_params = optimize.fmin(mega_alt_xi, params, maxfun=1100)\n",
    "#     new_az_params = optimize.fmin(mega_az_xi, params, maxfun=1100)\n",
    "    return [new_alt_params]\n",
    "\n",
    "init_params = [*result_2[:3]]\n",
    "ctes = [*result_2[3:]]\n",
    "\n",
    "data = pd.read_csv(\"Data.pixtab\", sep=\" \")\n",
    "data = data.dropna()\n",
    "data = drop_outlayers_by_borovicka(data, construct_altura_deg(*init_params, *ctes), 5)\n",
    "x_exp = data.x.values\n",
    "y_exp = data.y.values\n",
    "alt_catalogo = data.alt.values\n",
    "az_catalogo = np.rad2deg(np.arccos(np.cos(np.deg2rad(data.az.values))))\n",
    "mega_alt_xi = construct_acumulate_alt_xi(x_exp, y_exp, alt_catalogo, ctes)\n",
    "mega_az_xi = construct_acumulate_az_xi(x_exp, y_exp, az_catalogo, ctes)\n",
    "\n",
    "pbar = tqdm(total=1100, desc=\"Aproximando altura y azimuth\")\n",
    "results_list += amoeba(init_params, mega_alt_xi, mega_az_xi)\n",
    "pbar.close()\n",
    "results_list[-1]\n",
    "\n",
    "result_3 = np.array([*results_list[-1], *ctes])\n",
    "result_3"
   ]
  },
  {
   "cell_type": "code",
   "execution_count": 31,
   "metadata": {},
   "outputs": [],
   "source": [
    "temp_result_3 = np.array([ 4.94264869e-02, -2.19922427e-02,  8.61214323e-02,\n",
    "                              3.00000000e-02, 7.00000000e-03,  9.00000000e-02,  2.20000000e-06,  6.00000000e-03,\n",
    "                               -4.87658786e-03, -1.92129464e-03,\n",
    "                                  7.27249861e+02,  4.79074507e+02, 7.75939748e-01])"
   ]
  },
  {
   "cell_type": "code",
   "execution_count": null,
   "metadata": {},
   "outputs": [],
   "source": []
  },
  {
   "cell_type": "markdown",
   "metadata": {},
   "source": [
    "### Paso ?, no hay que hacerlo con este C (funciona sin dejar outlayers de lado)\n",
    "Ahora buscamos V,S,D,P,Q reduciendo la altura. Según lo que experimentamos no deberia afectar al azimut"
   ]
  },
  {
   "cell_type": "code",
   "execution_count": 18,
   "metadata": {
    "scrolled": true
   },
   "outputs": [
    {
     "name": "stderr",
     "output_type": "stream",
     "text": [
      "Droping Outlayers: 100%|███████████████████████████████████████████████████████| 80771/80771 [00:12<00:00, 6699.24it/s]\n",
      "Aproximando altura y azimuth: 1101it [1:07:51,  3.66s/it]                                                              "
     ]
    },
    {
     "name": "stdout",
     "output_type": "stream",
     "text": [
      "Warning: Maximum number of function evaluations has been exceeded.\n"
     ]
    },
    {
     "name": "stderr",
     "output_type": "stream",
     "text": [
      "Aproximando altura y azimuth: 1101it [1:07:51,  3.70s/it]\n"
     ]
    },
    {
     "data": {
      "text/plain": [
       "array([ 9.93531546e-02, -3.38790409e-02, -4.46769471e-02, -4.87658786e-03,\n",
       "       -1.92129464e-03,  7.27249861e+02,  4.79074507e+02,  3.39463585e-02,\n",
       "        7.75939748e-01,  1.98730044e-02,  7.31226349e-06,  6.07823712e-03])"
      ]
     },
     "execution_count": 18,
     "metadata": {},
     "output_type": "execute_result"
    }
   ],
   "source": [
    "\"\"\"\n",
    "314 - V, S, D, P, Q, X0, Y0, a0\n",
    "\"\"\"\n",
    "\n",
    "def construct_acumulate_alt_xi(x_list, y_list, z_list, ctes = None):\n",
    "    def acumulate_xi(params):\n",
    "        C, A, F, E, ep, X0, Y0, a0 = ctes\n",
    "        V, S, D, P, Q, = params\n",
    "        suma_xi = 0\n",
    "        for x, y, z in zip(x_list, y_list, z_list):\n",
    "            xi = construct_alt_xi(int(x), int(y), int(z))\n",
    "            suma_xi += xi(C, A, F, V, S, D, P, Q, E, ep, float(X0), float(Y0), a0)\n",
    "        pbar.update()\n",
    "        return suma_xi\n",
    "    return acumulate_xi\n",
    "\n",
    "def construct_acumulate_az_xi(x_list, y_list, z_list, ctes = None):\n",
    "    def acumulate_xi(params):\n",
    "        C, A, F, E, ep, X0, Y0, a0 = ctes\n",
    "        V, S, D, P, Q, = params\n",
    "        suma_xi = 0\n",
    "        for x, y, z in zip(x_list, y_list, z_list):\n",
    "            xi = construct_az_xi(int(x), int(y), int(z))\n",
    "            suma_xi += xi(C, A, F, V, S, D, P, Q, E, ep, float(X0), float(Y0), a0)\n",
    "        pbar.update()\n",
    "        return suma_xi\n",
    "    return acumulate_xi\n",
    "\n",
    "######################################################################################################\n",
    "\n",
    "def amoeba(params, mega_alt_xi, mega_az_xi):\n",
    "    new_alt_params = optimize.fmin(mega_alt_xi, params, maxfun=1100)\n",
    "#     new_az_params = optimize.fmin(mega_az_xi, params, maxfun=1100)\n",
    "    return [new_alt_params]\n",
    "\n",
    "\n",
    "init_params = [*result_2[3:8]]\n",
    "ctes = [*result_2[:3], *result_2[8:]]\n",
    "\n",
    "data = pd.read_csv(\"Data.pixtab\", sep=\" \")\n",
    "data = data.dropna()\n",
    "data = drop_outlayers_by_borovicka(data, construct_altura_deg(*ctes[:3],*init_params, *ctes[3:]), 5)\n",
    "x_exp = data.x.values\n",
    "y_exp = data.y.values\n",
    "alt_catalogo = data.alt.values\n",
    "az_catalogo = np.rad2deg(np.arccos(np.cos(np.deg2rad(data.az.values))))\n",
    "mega_alt_xi = construct_acumulate_alt_xi(x_exp, y_exp, alt_catalogo, ctes)\n",
    "mega_az_xi = construct_acumulate_az_xi(x_exp, y_exp, az_catalogo, ctes)\n",
    "\n",
    "pbar = tqdm(total=1100, desc=\"Aproximando altura y azimuth\")\n",
    "results_list += amoeba(init_params, mega_alt_xi, mega_az_xi)\n",
    "pbar.close()\n",
    "results_list[-1]\n",
    "\n",
    "result_3 = np.array([*ctes[:3],*results_list[-1], *ctes[3:]])\n",
    "result_3"
   ]
  },
  {
   "cell_type": "code",
   "execution_count": 23,
   "metadata": {},
   "outputs": [],
   "source": [
    "temp_result_3 = np.array([9.93531546e-02, -3.38790409e-02, -4.46769471e-02,\n",
    "                             3.39463585e-02, -3.32816065e-02,  1.98730044e-02,  7.31226349e-06,  6.07823712e-03,\n",
    "                                -4.87658786e-03, -1.92129464e-03,\n",
    "                                    7.27249861e+02,  4.79074507e+02, 7.75939748e-01])"
   ]
  },
  {
   "cell_type": "markdown",
   "metadata": {},
   "source": [
    "# Desarrollo"
   ]
  },
  {
   "cell_type": "code",
   "execution_count": null,
   "metadata": {},
   "outputs": [],
   "source": [
    "\"\"\"\n",
    "314 - V, S, D, P, Q, X0, Y0, a0\n",
    "\"\"\"\n",
    "\n",
    "def construct_acumulate_alt_xi(x_list, y_list, z_list, ctes = None):\n",
    "    def acumulate_xi(params):\n",
    "        V, S, D, P, Q, X0, Y0, a0 = ctes\n",
    "        C, A, F, E, ep, = params\n",
    "        suma_xi = 0\n",
    "        for x, y, z in zip(x_list, y_list, z_list):\n",
    "            xi = construct_alt_xi(int(x), int(y), int(z))\n",
    "            suma_xi += xi(C, A, F, V, S, D, P, Q, E, ep, float(X0), float(Y0), a0)\n",
    "        pbar.update()\n",
    "        return suma_xi\n",
    "    return acumulate_xi\n",
    "\n",
    "def construct_acumulate_az_xi(x_list, y_list, z_list, ctes = None):\n",
    "    def acumulate_xi(params):\n",
    "        V, S, D, P, Q, X0, Y0, a0 = ctes\n",
    "        C, A, F, E, ep, = params\n",
    "        suma_xi = 0\n",
    "        for x, y, z in zip(x_list, y_list, z_list):\n",
    "            xi = construct_az_xi(int(x), int(y), int(z))\n",
    "            suma_xi += xi(C, A, F, V, S, D, P, Q, E, ep, float(X0), float(Y0), a0)\n",
    "        pbar.update()\n",
    "        return suma_xi\n",
    "    return acumulate_xi\n",
    "\n",
    "######################################################################################################\n",
    "\n",
    "def amoeba(params, mega_alt_xi, mega_az_xi):\n",
    "    new_alt_params = optimize.fmin(mega_alt_xi, params, maxfun=1100)\n",
    "#     new_az_params = optimize.fmin(mega_az_xi, params, maxfun=1100)\n",
    "    return [new_alt_params]"
   ]
  },
  {
   "cell_type": "code",
   "execution_count": null,
   "metadata": {},
   "outputs": [],
   "source": [
    "init_params = [0.01, 0, 0, 0, 0]\n",
    "ctes = [0.03, 0.007, 0.09, 2.2*10**-6, 0.006,\n",
    "           724, 472, 0]\n",
    "\n",
    "data = pd.read_csv(\"Data.pixtab\", sep=\" \")\n",
    "data = data.dropna()\n",
    "data = drop_outlayers_by_borovicka(data, construct_altura_deg(*init_params[:3], *ctes[:-3], *init_params[-2:], *ctes[-3:]), 5)\n",
    "x_exp = data.x.values\n",
    "y_exp = data.y.values\n",
    "alt_catalogo = data.alt.values\n",
    "az_catalogo = np.rad2deg(np.arccos(np.cos(np.deg2rad(data.az.values))))\n",
    "mega_alt_xi = construct_acumulate_alt_xi(x_exp, y_exp, alt_catalogo, ctes)\n",
    "mega_az_xi = construct_acumulate_az_xi(x_exp, y_exp, az_catalogo, ctes)\n",
    "results_list = []"
   ]
  },
  {
   "cell_type": "code",
   "execution_count": null,
   "metadata": {
    "scrolled": true
   },
   "outputs": [],
   "source": [
    "pbar = tqdm(total=2200, desc=\"Aproximando altura y azimuth\")\n",
    "results_list += amoeba(init_params, mega_alt_xi, mega_az_xi)\n",
    "pbar.close()\n",
    "results_list[-1]"
   ]
  },
  {
   "cell_type": "code",
   "execution_count": 45,
   "metadata": {
    "scrolled": false
   },
   "outputs": [
    {
     "data": {
      "image/png": "[encoded data removed]",
      "text/plain": [
       "<Figure size 432x288 with 2 Axes>"
      ]
     },
     "metadata": {
      "needs_background": "light"
     },
     "output_type": "display_data"
    },
    {
     "data": {
      "image/png": "[encoded data removed]",
      "text/plain": [
       "<Figure size 432x288 with 2 Axes>"
      ]
     },
     "metadata": {
      "needs_background": "light"
     },
     "output_type": "display_data"
    }
   ],
   "source": [
    "# result_3 = (0.09935315, -0.03387904, -0.04467695,\n",
    "#              0.03, 0.007, 0.09, 2.2*10**-6, 0.006,\n",
    "#             0.01311418, -0.00192129, 724, 472, 0)\n",
    "plot_altura(result_3)\n",
    "plot_azimuth(result_3)"
   ]
  },
  {
   "cell_type": "code",
   "execution_count": null,
   "metadata": {},
   "outputs": [],
   "source": [
    "(mega_az_xi(old_params)/len(x_exp), mega_az_xi(new_params)/len(x_exp))"
   ]
  },
  {
   "cell_type": "code",
   "execution_count": null,
   "metadata": {},
   "outputs": [],
   "source": []
  },
  {
   "cell_type": "code",
   "execution_count": null,
   "metadata": {},
   "outputs": [],
   "source": []
  },
  {
   "cell_type": "code",
   "execution_count": null,
   "metadata": {},
   "outputs": [],
   "source": []
  },
  {
   "cell_type": "code",
   "execution_count": null,
   "metadata": {
    "scrolled": true
   },
   "outputs": [],
   "source": [
    "data = pd.read_csv(\"Data.pixtab\", sep=\" \")\n",
    "data = data.dropna()\n",
    "# data = drop_outlayers_by_borovicka(data, construct_altura_deg(*init_params[:3], *ctes[:-3], *init_params[-2:], *ctes[-3:]), 5)\n",
    "x_exp = data.x.values\n",
    "y_exp = data.y.values\n",
    "alt_catalogo = data.alt.values\n",
    "az_catalogo = np.rad2deg(np.arccos(np.cos(np.deg2rad(data.az.values))))\n",
    "mega_alt_xi = construct_acumulate_alt_xi(x_exp, y_exp, alt_catalogo, ctes)\n",
    "mega_az_xi = construct_acumulate_az_xi(x_exp, y_exp, az_catalogo, ctes)\n",
    "\n",
    "old_params = np.array([0.01, 0, 0, 0, 0])\n",
    "new_params = np.array([0.09935315, -0.03387904, -0.04467695,  0.01311418, -0.00192129])\n",
    "(mega_alt_xi(old_params)/len(x_exp), mega_alt_xi(new_params)/len(x_exp))"
   ]
  },
  {
   "cell_type": "code",
   "execution_count": 10,
   "metadata": {
    "scrolled": true
   },
   "outputs": [
    {
     "data": {
      "text/plain": [
       "<matplotlib.collections.PathCollection at 0xb75790>"
      ]
     },
     "execution_count": 10,
     "metadata": {},
     "output_type": "execute_result"
    },
    {
     "data": {
      "image/png": "[encoded data removed]",
      "text/plain": [
       "<Figure size 432x288 with 1 Axes>"
      ]
     },
     "metadata": {
      "needs_background": "light"
     },
     "output_type": "display_data"
    }
   ],
   "source": [
    "plt.gca().invert_yaxis()\n",
    "plt.scatter(x_exp, y_exp, c=az_catalogo, s=0.01)"
   ]
  },
  {
   "cell_type": "code",
   "execution_count": 14,
   "metadata": {},
   "outputs": [
    {
     "data": {
      "text/html": [
       "<div>\n",
       "<style scoped>\n",
       "    .dataframe tbody tr th:only-of-type {\n",
       "        vertical-align: middle;\n",
       "    }\n",
       "\n",
       "    .dataframe tbody tr th {\n",
       "        vertical-align: top;\n",
       "    }\n",
       "\n",
       "    .dataframe thead th {\n",
       "        text-align: right;\n",
       "    }\n",
       "</style>\n",
       "<table border=\"1\" class=\"dataframe\">\n",
       "  <thead>\n",
       "    <tr style=\"text-align: right;\">\n",
       "      <th></th>\n",
       "      <th>x</th>\n",
       "      <th>y</th>\n",
       "      <th>alt</th>\n",
       "      <th>az</th>\n",
       "      <th>alt_err</th>\n",
       "      <th>az_err</th>\n",
       "      <th>sample_size</th>\n",
       "    </tr>\n",
       "  </thead>\n",
       "  <tbody>\n",
       "    <tr>\n",
       "      <td>695778</td>\n",
       "      <td>726</td>\n",
       "      <td>449</td>\n",
       "      <td>84.643762</td>\n",
       "      <td>318.032958</td>\n",
       "      <td>0.086691</td>\n",
       "      <td>1.112999</td>\n",
       "      <td>32</td>\n",
       "    </tr>\n",
       "    <tr>\n",
       "      <td>697325</td>\n",
       "      <td>725</td>\n",
       "      <td>450</td>\n",
       "      <td>84.791271</td>\n",
       "      <td>319.997049</td>\n",
       "      <td>0.076258</td>\n",
       "      <td>1.065524</td>\n",
       "      <td>30</td>\n",
       "    </tr>\n",
       "    <tr>\n",
       "      <td>697326</td>\n",
       "      <td>726</td>\n",
       "      <td>450</td>\n",
       "      <td>84.694510</td>\n",
       "      <td>318.678172</td>\n",
       "      <td>0.067542</td>\n",
       "      <td>0.879458</td>\n",
       "      <td>14</td>\n",
       "    </tr>\n",
       "    <tr>\n",
       "      <td>698871</td>\n",
       "      <td>723</td>\n",
       "      <td>451</td>\n",
       "      <td>85.065940</td>\n",
       "      <td>324.238712</td>\n",
       "      <td>0.070382</td>\n",
       "      <td>1.175749</td>\n",
       "      <td>20</td>\n",
       "    </tr>\n",
       "    <tr>\n",
       "      <td>698872</td>\n",
       "      <td>724</td>\n",
       "      <td>451</td>\n",
       "      <td>84.945373</td>\n",
       "      <td>322.262660</td>\n",
       "      <td>0.062005</td>\n",
       "      <td>0.940137</td>\n",
       "      <td>28</td>\n",
       "    </tr>\n",
       "    <tr>\n",
       "      <td>698873</td>\n",
       "      <td>725</td>\n",
       "      <td>451</td>\n",
       "      <td>84.855743</td>\n",
       "      <td>320.904016</td>\n",
       "      <td>0.051732</td>\n",
       "      <td>0.737186</td>\n",
       "      <td>9</td>\n",
       "    </tr>\n",
       "    <tr>\n",
       "      <td>698874</td>\n",
       "      <td>726</td>\n",
       "      <td>451</td>\n",
       "      <td>84.800315</td>\n",
       "      <td>320.109607</td>\n",
       "      <td>0.051051</td>\n",
       "      <td>0.735743</td>\n",
       "      <td>5</td>\n",
       "    </tr>\n",
       "    <tr>\n",
       "      <td>698875</td>\n",
       "      <td>727</td>\n",
       "      <td>451</td>\n",
       "      <td>84.755944</td>\n",
       "      <td>319.482317</td>\n",
       "      <td>0.006116</td>\n",
       "      <td>0.083301</td>\n",
       "      <td>2</td>\n",
       "    </tr>\n",
       "  </tbody>\n",
       "</table>\n",
       "</div>"
      ],
      "text/plain": [
       "          x    y        alt          az   alt_err    az_err  sample_size\n",
       "695778  726  449  84.643762  318.032958  0.086691  1.112999           32\n",
       "697325  725  450  84.791271  319.997049  0.076258  1.065524           30\n",
       "697326  726  450  84.694510  318.678172  0.067542  0.879458           14\n",
       "698871  723  451  85.065940  324.238712  0.070382  1.175749           20\n",
       "698872  724  451  84.945373  322.262660  0.062005  0.940137           28\n",
       "698873  725  451  84.855743  320.904016  0.051732  0.737186            9\n",
       "698874  726  451  84.800315  320.109607  0.051051  0.735743            5\n",
       "698875  727  451  84.755944  319.482317  0.006116  0.083301            2"
      ]
     },
     "execution_count": 14,
     "metadata": {},
     "output_type": "execute_result"
    }
   ],
   "source": [
    "data[:8]"
   ]
  },
  {
   "cell_type": "code",
   "execution_count": null,
   "metadata": {},
   "outputs": [],
   "source": []
  },
  {
   "cell_type": "code",
   "execution_count": null,
   "metadata": {},
   "outputs": [],
   "source": []
  },
  {
   "cell_type": "code",
   "execution_count": null,
   "metadata": {},
   "outputs": [],
   "source": []
  },
  {
   "cell_type": "code",
   "execution_count": null,
   "metadata": {},
   "outputs": [],
   "source": []
  },
  {
   "cell_type": "code",
   "execution_count": null,
   "metadata": {},
   "outputs": [],
   "source": []
  },
  {
   "cell_type": "code",
   "execution_count": null,
   "metadata": {},
   "outputs": [],
   "source": []
  },
  {
   "cell_type": "code",
   "execution_count": null,
   "metadata": {},
   "outputs": [],
   "source": [
    "\"\"\"\n",
    "311 - C, A, F, V, S, D, P, Q, ep, a0\n",
    "\"\"\"\n",
    "\n",
    "def construct_acumulate_alt_xi(x_list, y_list, z_list, ctes = None):\n",
    "    def acumulate_xi(params):\n",
    "        C, A, F, V, S, D, P, Q, ep = ctes\n",
    "        E, X0, Y0, a0, = params\n",
    "        suma_xi = 0\n",
    "        for x, y, z in zip(x_list, y_list, z_list):\n",
    "            xi = construct_alt_xi(int(x), int(y), int(z))\n",
    "            suma_xi += xi(C, A, F, V, S, D, P, Q, E, ep, float(X0), float(Y0), a0)\n",
    "        pbar.update()\n",
    "        return suma_xi\n",
    "    return acumulate_xi\n",
    "\n",
    "def construct_acumulate_az_xi(x_list, y_list, z_list, ctes = None):\n",
    "    def acumulate_xi(params):\n",
    "        C, A, F, V, S, D, P, Q, ep = ctes\n",
    "        E, X0, Y0, a0, = params\n",
    "        suma_xi = 0\n",
    "        for x, y, z in zip(x_list, y_list, z_list):\n",
    "            xi = construct_az_xi(int(x), int(y), int(z))\n",
    "            suma_xi += xi(C, A, F, V, S, D, P, Q, E, ep, float(X0), float(Y0), a0)\n",
    "        pbar.update()\n",
    "        return suma_xi\n",
    "    return acumulate_xi\n",
    "\n",
    "######################################################################################################\n",
    "\n",
    "def amoeba(params, mega_alt_xi, mega_az_xi):\n",
    "#     new_alt_params = optimize.fmin(mega_alt_xi, params, maxfun=1100)\n",
    "    new_az_params = optimize.fmin(mega_az_xi, params, maxfun=1100)\n",
    "    return [new_az_params]"
   ]
  },
  {
   "cell_type": "code",
   "execution_count": null,
   "metadata": {},
   "outputs": [],
   "source": [
    "init_params = [0, 724, 472, 0]\n",
    "ctes = [0.01, 0, 0,\n",
    "         0.03, 0.007, 0.09, 2.2*10**-6, 0.006,\n",
    "         0]\n",
    "\n",
    "data = pd.read_csv(\"Data.pixtab\", sep=\" \")\n",
    "data = data.dropna()\n",
    "# data = drop_outlayers_by_borovicka(data, construct_altura_deg(*ctes[:-1], init_params[0], ctes[-1], *init_params[-3:]), 5)\n",
    "x_exp = data.x.values\n",
    "y_exp = data.y.values\n",
    "alt_catalogo = data.alt.values\n",
    "az_catalogo = np.rad2deg(np.arccos(np.cos(np.deg2rad(data.az.values))))\n",
    "mega_alt_xi = construct_acumulate_alt_xi(x_exp, y_exp, alt_catalogo, ctes)\n",
    "mega_az_xi = construct_acumulate_az_xi(x_exp, y_exp, az_catalogo, ctes)\n",
    "results_list = []"
   ]
  },
  {
   "cell_type": "code",
   "execution_count": null,
   "metadata": {},
   "outputs": [],
   "source": [
    "pbar = tqdm(total=1100, desc=\"Aproximando altura y azimuth\")\n",
    "results_list += amoeba(init_params, mega_alt_xi, mega_az_xi)\n",
    "pbar.close()\n",
    "results_list[-1]"
   ]
  },
  {
   "cell_type": "code",
   "execution_count": null,
   "metadata": {},
   "outputs": [],
   "source": [
    "result_5 = (0.048826087003725455, -0.021142174069559417, 0.32598730818211297,\n",
    "             0.0682171007, 0.00310608468, -5.75141386e-05, 4.26865327e-06,\n",
    "             -0.00415889519, -4.82552710e-03, -0.0022711518934522366, 7.28125200e+02,  4.78181845e+02, 7.73853421e-01)\n",
    "plot_altura(result_5)\n",
    "plot_azimuth(result_5)"
   ]
  },
  {
   "cell_type": "code",
   "execution_count": null,
   "metadata": {},
   "outputs": [],
   "source": []
  },
  {
   "cell_type": "code",
   "execution_count": null,
   "metadata": {},
   "outputs": [],
   "source": []
  },
  {
   "cell_type": "code",
   "execution_count": 46,
   "metadata": {},
   "outputs": [
    {
     "name": "stdout",
     "output_type": "stream",
     "text": [
      "alt:  112.91104782748381 24.815668800263065\n",
      "az:  24.032880397829043 15.715946659087868\n"
     ]
    }
   ],
   "source": [
    "\"\"\"\n",
    "314 - V, S, D, P, Q, X0, Y0, a0\n",
    "\"\"\"\n",
    "\n",
    "def construct_acumulate_alt_xi(x_list, y_list, z_list, ctes = None):\n",
    "    def acumulate_xi(params):\n",
    "        C, A, F, V, S, D, P, Q, E, ep, X0, Y0, a0 = params\n",
    "        suma_xi = 0\n",
    "        for x, y, z in zip(x_list, y_list, z_list):\n",
    "            xi = construct_alt_xi(int(x), int(y), int(z))\n",
    "            suma_xi += xi(C, A, F, V, S, D, P, Q, E, ep, float(X0), float(Y0), a0)\n",
    "        pbar.update()\n",
    "        return suma_xi\n",
    "    return acumulate_xi\n",
    "\n",
    "def construct_acumulate_az_xi(x_list, y_list, z_list, ctes = None):\n",
    "    def acumulate_xi(params):\n",
    "        C, A, F, V, S, D, P, Q, E, ep, X0, Y0, a0 = params\n",
    "        suma_xi = 0\n",
    "        for x, y, z in zip(x_list, y_list, z_list):\n",
    "            xi = construct_az_xi(int(x), int(y), int(z))\n",
    "            suma_xi += xi(C, A, F, V, S, D, P, Q, E, ep, float(X0), float(Y0), a0)\n",
    "        pbar.update()\n",
    "        return suma_xi\n",
    "    return acumulate_xi\n",
    "\n",
    "data = pd.read_csv(\"Data.pixtab\", sep=\" \")\n",
    "data = data.dropna()\n",
    "# data = drop_outlayers_by_borovicka(data, construct_altura_deg(*ctes[:-1], init_params[0], ctes[-1], *init_params[-3:]), 5)\n",
    "x_exp = data.x.values\n",
    "y_exp = data.y.values\n",
    "alt_catalogo = data.alt.values\n",
    "az_catalogo = np.rad2deg(np.arccos(np.cos(np.deg2rad(data.az.values))))\n",
    "mega_alt_xi = construct_acumulate_alt_xi(x_exp, y_exp, alt_catalogo)\n",
    "mega_az_xi = construct_acumulate_az_xi(x_exp, y_exp, az_catalogo)\n",
    "\n",
    "print(\"alt: \",mega_alt_xi(result_2)/len(x_exp), mega_alt_xi(temp_result_3)/len(x_exp))\n",
    "print(\"az: \",mega_az_xi(result_2)/len(x_exp), mega_az_xi(temp_result_3)/len(x_exp))"
   ]
  },
  {
   "cell_type": "code",
   "execution_count": null,
   "metadata": {},
   "outputs": [],
   "source": []
  }
 ],
 "metadata": {
  "kernelspec": {
   "display_name": "Python 3",
   "language": "python",
   "name": "python3"
  },
  "language_info": {
   "codemirror_mode": {
    "name": "ipython",
    "version": 3
   },
   "file_extension": ".py",
   "mimetype": "text/x-python",
   "name": "python",
   "nbconvert_exporter": "python",
   "pygments_lexer": "ipython3",
   "version": "3.7.0"
  }
 },
 "nbformat": 4,
 "nbformat_minor": 2
}
