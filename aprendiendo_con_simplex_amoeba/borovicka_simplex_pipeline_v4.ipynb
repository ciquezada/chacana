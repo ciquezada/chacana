{
 "cells": [
  {
   "cell_type": "markdown",
   "metadata": {},
   "source": [
    "# Amoeba en Borovicka"
   ]
  },
  {
   "cell_type": "markdown",
   "metadata": {},
   "source": [
    "[subir](#pipeline)<a id='pipeline'></a>\n",
    "## Intentemos un pipeline\n",
    "\n",
    "Solo podriamos conocer un V,S,D,P,Q aproximado dado del paper de Borovicka. Ademas sobre C,A,F podemos seguir el consejo de hacer A,F nulos, pero C tendra que ser un valor pequeño como 0.01. Para E,ep podemos hacerlos nulos. El centro X0,Y0 tendremos que aproximarlo al ojo, tener una idea, en este caso 724,472. Por ultimo el offset del azimut a0 podemos hacerlo nulo.\n",
    "\n",
    "El principal problema es reducir los datos en un principio porque no sabemos qué es lo que estamos descartando\n",
    "El paso 2-3 es bueno separarlo para hacer la reduccion mas eficientemente\n",
    "\n",
    "Parametros iniciales:\n",
    "- [0)] <sub> $Xi^2_{alt}=46.65$, $Xi^2_{az}=1629$ : [1, 0, 0, 0.003, 0.0001, 0.00001, 0, 0, 0, 0.001, 724, 472, 0]\n",
    "\n",
    "Luego el orden que mejor nos resultó fué:\n",
    "- [1)](#paso1) Reducir altura con C,A,F,E,ep usando TODOS los datos (1:08:18) <sub> $Xi^2_{alt}=2.19$, $Xi^2_{az}=2632$ : [1.11503969e+00, -1.56658228e-02, -2.27822274e-01,  3.00000000e-03, 1.00000000e-04,  1.00000000e-05,  0.00000000e+00,  0.00000000e+00, 2.86383222e-01, -6.84149304e-03,  7.24000000e+02,  4.72000000e+02, 0.00000000e+00]\n",
    "    \n",
    "- [2)](#paso2) Reducir azimut con a0 usando datos discriminados (0:07:54) <sub> $Xi^2_{alt}=3.29$, $Xi^2_{az}=307.2$ : [1.11503969e+00, -1.56658228e-02, -2.27822274e-01,  3.00000000e-03, 1.00000000e-04,  1.00000000e-05,  0.00000000e+00,  0.00000000e+00, 2.86383222e-01, -6.84149304e-03,  7.24000000e+02,  4.72000000e+02, 9.56142578e-01]\n",
    "    \n",
    "- [3)](#paso3) Reducir azimut con E,X0,Y0,a0 usando datos discriminados (0:55:19) <sub> $Xi^2_{alt}=2.84$, $Xi^2_{az}=15.70$ : [1.11503969e+00, -1.56658228e-02, -2.27822274e-01,  3.00000000e-03, 1.00000000e-04,  1.00000000e-05,  0.00000000e+00,  0.00000000e+00, -6.06531026e-03, -6.84149304e-03,  7.26230277e+02,  4.79906209e+02, 7.73715459e-01]\n",
    "    \n",
    "- [4)](#paso4) Reducir altura con V,S,D,P,Q usando datos discriminados (0:19:05) <sub> $Xi^2_{alt}=2.78$, $Xi^2_{az}=15.69$ : [1.11503969e+00, -1.56658228e-02, -2.27822274e-01,  2.99517405e-03, 1.41721867e-04,  1.56466343e-05, -3.94352535e-03, -3.82198376e-03, -6.06531026e-03, -6.84149304e-03,  7.26230277e+02,  4.79906209e+02, 7.73715459e-01]\n",
    "    \n",
    "- [5)](#paso5) Reducir altura con C,A,F usando datos discriminados (0:21:58) <sub> $Xi^2_{alt}=2.28$, $Xi^2_{az}=15.73$ : [1.12716604e+00,  2.47858246e-03,  7.04388456e-01,  2.99517405e-03, 1.41721867e-04,  1.56466343e-05, -3.94352535e-03, -3.82198376e-03, -6.06531026e-03, -6.84149304e-03,  7.26230277e+02,  4.79906209e+02, 7.73715459e-01]\n",
    "    \n",
    "Demoró como 3 horas y el resultado fue el mas preciso"
   ]
  },
  {
   "cell_type": "code",
   "execution_count": 17,
   "metadata": {},
   "outputs": [],
   "source": [
    "from scipy import optimize, stats\n",
    "import matplotlib.pyplot as plt\n",
    "import pandas as pd\n",
    "import numpy as np\n",
    "from tqdm import tqdm"
   ]
  },
  {
   "cell_type": "markdown",
   "metadata": {},
   "source": [
    "## Funciones"
   ]
  },
  {
   "cell_type": "code",
   "execution_count": 18,
   "metadata": {},
   "outputs": [],
   "source": [
    "\"\"\"\n",
    "Funciones de Borovicka que\n",
    "dependen de [C, A, F, V, S, D, P, Q, E, ep, X0, Y0, a0]\n",
    "\"\"\"\n",
    "\n",
    "def construct_radio(C, A, F, X0, Y0, a0):\n",
    "    def r(x, y):\n",
    "        return C * ( np.sqrt( (x-X0)**2 + (y-Y0)**2 ) + A*(y-X0)*np.cos(F-a0) - A*(x-X0)*np.sin(F-a0) )\n",
    "    return r\n",
    "\n",
    "def construct_u(C, A, F, V, S, D, P, Q, X0, Y0, a0):\n",
    "    def u(x, y):\n",
    "        r = construct_radio(C, A, F, X0, Y0, a0)\n",
    "        return V*r(x, y) + S*(np.e**(D*r(x,y)) - 1) + P*(np.e**(Q*r(x,y)**2) - 1) \n",
    "    return u\n",
    "\n",
    "def construct_b(E, X0, Y0, a0):\n",
    "    def b(x, y):\n",
    "        return a0 - E + np.arctan2((y - Y0),(x - X0))\n",
    "    return b\n",
    "\n",
    "def construct_altura(C, A, F, V, S, D, P, Q, E, ep, X0, Y0, a0):\n",
    "    def z(x, y):\n",
    "        u = construct_u(C, A, F, V, S, D, P, Q, X0, Y0, a0)\n",
    "        b = construct_b(E, X0, Y0, a0)\n",
    "        return np.arccos( np.cos(u(x,y))*np.cos(ep) - np.sin(u(x,y))*np.sin(ep)*np.cos(b(x,y)) )\n",
    "    return z\n",
    "\n",
    "def construct_altura_deg(C, A, F, V, S, D, P, Q, E, ep, X0, Y0, a0):\n",
    "    def z(x, y):\n",
    "        u = construct_u(C, A, F, V, S, D, P, Q, X0, Y0, a0)\n",
    "        b = construct_b(E, X0, Y0, a0)\n",
    "        return 90 - np.rad2deg( np.arccos( np.cos(u(x,y))*np.cos(ep) - np.sin(u(x,y))*np.sin(ep)*np.cos(b(x,y)) ) )\n",
    "    return z\n",
    "\n",
    "def construct_azimuth(C, A, F, V, S, D, P, Q, E, ep, X0, Y0, a0):\n",
    "    def az(x, y):\n",
    "        u = construct_u(C, A, F, V, S, D, P, Q, X0, Y0, a0)\n",
    "        b = construct_b(E, X0, Y0, a0)\n",
    "        z = construct_altura(C, A, F, V, S, D, P, Q, E, ep, X0, Y0, a0)\n",
    "        return np.arcsin( np.sin(b(x,y))*np.sin(u(x,y))/np.sin(z(x,y)) ) + E\n",
    "    return az\n",
    "\n",
    "def construct_azimuth_deg(C, A, F, V, S, D, P, Q, E, ep, X0, Y0, a0):\n",
    "    def az(x, y):\n",
    "        u = construct_u(C, A, F, V, S, D, P, Q, X0, Y0, a0)\n",
    "        b = construct_b(E, X0, Y0, a0)\n",
    "        z = construct_altura(C, A, F, V, S, D, P, Q, E, ep, X0, Y0, a0)\n",
    "        return np.rad2deg( np.arcsin( np.sin(b(x,y))*np.sin(u(x,y))/np.sin(z(x,y)) ) + E ) + 90\n",
    "    return az\n",
    "\n",
    "\"\"\"\n",
    "Estos son constructores de una funcion de Xi**2\n",
    "\"\"\"\n",
    "\n",
    "def construct_alt_xi(x, y, z):\n",
    "    def xi(C, A, F, V, S, D, P, Q, E, ep, X0, Y0, a0):\n",
    "        alt_teorico = construct_altura_deg(C, A, F, V, S, D, P, Q, E, ep, X0, Y0, a0)\n",
    "        return (z - alt_teorico(x, y))**2\n",
    "    return xi\n",
    "\n",
    "def construct_az_xi(x, y, z):\n",
    "    def xi(C, A, F, V, S, D, P, Q, E, ep, X0, Y0, a0):\n",
    "        az_teorico = construct_azimuth_deg(C, A, F, V, S, D, P, Q, E, ep, X0, Y0, a0)\n",
    "        return (z - az_teorico(x, y))**2\n",
    "    return xi"
   ]
  },
  {
   "cell_type": "code",
   "execution_count": 19,
   "metadata": {},
   "outputs": [],
   "source": [
    "\"\"\"\n",
    "Para reducir los datos outlayers segun que tan lejos quedan de la primera\n",
    "aproximacion por Borovicka\n",
    "\"\"\"\n",
    "def drop_outlayers_by_borovicka(pixtab_df, plano, diff = 1):\n",
    "    \n",
    "    X_MIN = 250\n",
    "    X_MAX = 1250\n",
    "    Y_MIN = 0\n",
    "    Y_MAX = 950\n",
    "    MAX_RADIO = 500\n",
    "    RADIO_STEPS = 2000\n",
    "    query_str = \"{}<=x<={} and {}<=y<={}\".format(X_MIN, X_MAX,\n",
    "                                                            Y_MIN, Y_MAX)\n",
    "    data = pixtab_df.dropna(thresh = 7).query(query_str)\n",
    "    \n",
    "    pbar = tqdm(total=len(data.x.values), desc=\"Droping Outlayers\")\n",
    "    new_df_indx = []\n",
    "    for indx in data.index:\n",
    "        x = data.at[indx,\"x\"]\n",
    "        y = data.at[indx,\"y\"]\n",
    "        alt = data.at[indx,\"alt\"]\n",
    "        if np.abs(plano(x,y)-alt) < diff:\n",
    "            new_df_indx.append(indx)\n",
    "        pbar.update()\n",
    "    pbar.close()\n",
    "    return data.loc[new_df_indx]\n",
    "\n",
    "# Por si queremos exportar los datos para visualizarlos \n",
    "# out = drop_outlayers_by_borovicka(data, X0, Y0)\n",
    "# out\n",
    "# out[\"xcentroid\"] = out[\"x\"]\n",
    "# out[\"ycentroid\"] = out[\"y\"]\n",
    "# out.to_csv(\"drop_outlayer.dat\", sep=' ', index=False)\n",
    "# plt.gca().invert_yaxis()\n",
    "# plt.scatter(out.x.values, out.y.values, c=out.alt.values, s=0.01)"
   ]
  },
  {
   "cell_type": "code",
   "execution_count": 20,
   "metadata": {},
   "outputs": [],
   "source": [
    "\"\"\"\n",
    "Para plotear la altura o el azimut, es necesaria\n",
    "una lista con todos los parametros \n",
    "[C, A, F, V, S, D, P, Q, E, ep, X0, Y0, a0]\n",
    "\"\"\"\n",
    "\n",
    "def plot_plano(plano):\n",
    "    x = np.linspace(0, 1200, 100)\n",
    "    y = np.linspace(0, 900, 100)\n",
    "    X, Y = np.meshgrid(x, y)\n",
    "    Z = plano(X, Y)\n",
    "    fig,ax=plt.subplots(1,1)\n",
    "    cp = ax.contourf(X, Y, Z, 10)\n",
    "    fig.colorbar(cp) # Add a colorbar to a plot\n",
    "    ax.set_title('Toda una linea que minimiza y=mx+n')\n",
    "    plt.gca().invert_yaxis()\n",
    "    ax.set_xlabel('x')\n",
    "    ax.set_ylabel('y')\n",
    "    plt.show()\n",
    "\n",
    "def plot_altura(vector):\n",
    "    plano = construct_altura_deg(*vector)\n",
    "    plot_plano(plano)\n",
    "    \n",
    "def plot_azimuth(vector):\n",
    "    plano = construct_azimuth_deg(*vector)\n",
    "    plot_plano(plano)"
   ]
  },
  {
   "cell_type": "code",
   "execution_count": 21,
   "metadata": {},
   "outputs": [],
   "source": [
    "\"\"\"\n",
    "Esto lo definimos por cada intento segun los parametros constantes que\n",
    "queramos dejar\n",
    "\"\"\"\n",
    "\n",
    "def construct_acumulate_alt_xi(x_list, y_list, z_list, ctes = None):\n",
    "    def acumulate_xi(params):\n",
    "        V, S, D, P, Q, a0 = ctes\n",
    "        C, A, F, E, ep, X0, Y0 = params\n",
    "        suma_xi = 0\n",
    "        for x, y, z in zip(x_list, y_list, z_list):\n",
    "            xi = construct_alt_xi(int(x), int(y), int(z))\n",
    "            suma_xi += xi(C, A, F, V, S, D, P, Q, E, ep, float(X0), float(Y0), a0)\n",
    "        pbar.update()\n",
    "        return suma_xi\n",
    "    return acumulate_xi\n",
    "\n",
    "def construct_acumulate_az_xi(x_list, y_list, z_list, ctes = None):\n",
    "    def acumulate_xi(params):\n",
    "        V, S, D, P, Q, a0 = ctes\n",
    "        C, A, F, E, ep, X0, Y0 = params\n",
    "        suma_xi = 0\n",
    "        for x, y, z in zip(x_list, y_list, z_list):\n",
    "            xi = construct_az_xi(int(x), int(y), int(z))\n",
    "            suma_xi += xi(C, A, F, V, S, D, P, Q, E, ep, float(X0), float(Y0), a0)\n",
    "        pbar.update()\n",
    "        return suma_xii\n",
    "    return acumulate_xi\n",
    "\n",
    "######################################################################################################\n",
    "\n",
    "def amoeba(params, mega_alt_xi, mega_az_xi):\n",
    "    new_alt_params = optimize.fmin(mega_alt_xi, params, maxfun=1100)\n",
    "    new_az_params = optimize.fmin(mega_az_xi, params, maxfun=1100)\n",
    "    return [new_alt_params, new_az_params]\n",
    "\n",
    "def amoeba2(params, mega_alt_xi, mega_az_xi):\n",
    "    new_alt_params = optimize.least_squares(mega_alt_xi, params)\n",
    "    new_az_params = optimize.least_squares(mega_az_xi, params)\n",
    "    return [new_alt_params, new_az_params]"
   ]
  },
  {
   "cell_type": "markdown",
   "metadata": {},
   "source": [
    "[subir](#pipeline)<a id='pipelinechico'></a>\n",
    "## Intentemos un pipeline por pasos pequeños\n",
    "\n",
    "Intentaremos el paso 1 y 2 para hacer un ciclo entre 3-4-5... daremos pasos de 10 iteraciones cada uno 100 veces... veremos que pasa"
   ]
  },
  {
   "cell_type": "code",
   "execution_count": 22,
   "metadata": {},
   "outputs": [],
   "source": [
    "results_list = []"
   ]
  },
  {
   "cell_type": "markdown",
   "metadata": {},
   "source": [
    "[subir](#pipeline)<a id='paso1'></a>\n",
    "### Paso 1\n",
    "Primero haremos un acercamiento 314 para buscar parametros C,A,F,E,ep que nos ayuden a reducir mejor los datos outlayers\n",
    "\n",
    "Otra opcion era buscar E,X0,Y0,a0 desde el principio sin quitar datos outlayers, el problema es que E,ep al ser 0 tienen problemas en la funcion de azimut"
   ]
  },
  {
   "cell_type": "code",
   "execution_count": 23,
   "metadata": {
    "scrolled": true
   },
   "outputs": [],
   "source": [
    "def paso1(params):\n",
    "    \"\"\"\n",
    "    314 - V, S, D, P, Q, X0, Y0, a0\n",
    "    \"\"\"\n",
    "\n",
    "    def construct_acumulate_alt_xi(x_list, y_list, z_list, ctes = None):\n",
    "        def acumulate_xi(params):\n",
    "            V, S, D, P, Q, X0, Y0, a0 = ctes\n",
    "            C, A, F, E, ep, = params\n",
    "            suma_xi = 0\n",
    "            for x, y, z in zip(x_list, y_list, z_list):\n",
    "                xi = construct_alt_xi(int(x), int(y), int(z))\n",
    "                suma_xi += xi(C, A, F, V, S, D, P, Q, E, ep, float(X0), float(Y0), a0)\n",
    "            pbar.update()\n",
    "            return suma_xi\n",
    "        return acumulate_xi\n",
    "\n",
    "    def construct_acumulate_az_xi(x_list, y_list, z_list, ctes = None):\n",
    "        def acumulate_xi(params):\n",
    "            V, S, D, P, Q, X0, Y0, a0 = ctes\n",
    "            C, A, F, E, ep, = params\n",
    "            suma_xi = 0\n",
    "            for x, y, z in zip(x_list, y_list, z_list):\n",
    "                xi = construct_az_xi(int(x), int(y), int(z))\n",
    "                suma_xi += xi(C, A, F, V, S, D, P, Q, E, ep, float(X0), float(Y0), a0)\n",
    "            pbar.update()\n",
    "            return suma_xi\n",
    "        return acumulate_xi\n",
    "\n",
    "    ######################################################################################################\n",
    "\n",
    "    def amoeba(params, mega_alt_xi, mega_az_xi):\n",
    "        new_alt_params = optimize.fmin(mega_alt_xi, params, maxfun=100)\n",
    "    #     new_az_params = optimize.fmin(mega_az_xi, params, maxfun=1100)\n",
    "        return new_alt_params\n",
    "\n",
    "    C, A, F, V, S, D, P, Q, E, ep, X0, Y0, a0 = params\n",
    "    init_params = [C, A, F, E, ep]\n",
    "    ctes = [V, S, D, P, Q, X0, Y0, a0]\n",
    "\n",
    "    data = pd.read_csv(\"Data.pixtab\", sep=\" \")\n",
    "    data = data.dropna()\n",
    "    # data = drop_outlayers_by_borovicka(data, construct_altura_deg(*init_params[:3], *ctes[:-3], *init_params[-2:], *ctes[-3:]), 5)\n",
    "    x_exp = data.x.values\n",
    "    y_exp = data.y.values\n",
    "    alt_catalogo = data.alt.values\n",
    "    az_catalogo = np.rad2deg(np.arccos(np.cos(np.deg2rad(data.az.values))))\n",
    "    mega_alt_xi = construct_acumulate_alt_xi(x_exp, y_exp, alt_catalogo, ctes)\n",
    "    mega_az_xi = construct_acumulate_az_xi(x_exp, y_exp, az_catalogo, ctes)\n",
    "\n",
    "    pbar = tqdm(total=100, desc=\"C, A, F, E, ep\")\n",
    "    result = amoeba(init_params, mega_alt_xi, mega_az_xi)\n",
    "    pbar.close()\n",
    "\n",
    "    result_1 =  np.array([*result[:3], *ctes[:-3], *result[-2:], *ctes[-3:]])\n",
    "    print(result_1)\n",
    "    return [result_1]\n",
    "    "
   ]
  },
  {
   "cell_type": "code",
   "execution_count": 24,
   "metadata": {},
   "outputs": [],
   "source": [
    "temp_result_1 = np.array([ 1.11503969e+00, -1.56658228e-02, -2.27822274e-01,  3.00000000e-03,\n",
    "        1.00000000e-04,  1.00000000e-05,  0.00000000e+00,  0.00000000e+00,\n",
    "        2.86383222e-01, -6.84149304e-03,  7.24000000e+02,  4.72000000e+02,\n",
    "        0.00000000e+00])"
   ]
  },
  {
   "cell_type": "markdown",
   "metadata": {},
   "source": [
    "[subir](#pipeline)<a id='paso2'></a>\n",
    "### Paso 2\n",
    "Ahora buscamos a0 quitando datos outlayers reduciendo azimut. Al ser solo a0 deberia ser mas fácil."
   ]
  },
  {
   "cell_type": "code",
   "execution_count": 25,
   "metadata": {
    "scrolled": true
   },
   "outputs": [],
   "source": [
    "def paso2(params):\n",
    "    \"\"\"\n",
    "    311 - C, A, F, V, S, D, P, Q, ep, a0\n",
    "    \"\"\"\n",
    "\n",
    "    def construct_acumulate_alt_xi(x_list, y_list, z_list, ctes = None):\n",
    "        def acumulate_xi(params):\n",
    "            C, A, F, V, S, D, P, Q, E, ep, X0, Y0 = ctes\n",
    "            a0, = params\n",
    "            suma_xi = 0\n",
    "            for x, y, z in zip(x_list, y_list, z_list):\n",
    "                xi = construct_alt_xi(int(x), int(y), int(z))\n",
    "                suma_xi += xi(C, A, F, V, S, D, P, Q, E, ep, float(X0), float(Y0), a0)\n",
    "            pbar.update()\n",
    "            return suma_xi\n",
    "        return acumulate_xi\n",
    "\n",
    "    def construct_acumulate_az_xi(x_list, y_list, z_list, ctes = None):\n",
    "        def acumulate_xi(params):\n",
    "            C, A, F, V, S, D, P, Q, E, ep, X0, Y0 = ctes\n",
    "            a0, = params\n",
    "            suma_xi = 0\n",
    "            for x, y, z in zip(x_list, y_list, z_list):\n",
    "                xi = construct_az_xi(int(x), int(y), int(z))\n",
    "                suma_xi += xi(C, A, F, V, S, D, P, Q, E, ep, float(X0), float(Y0), a0)\n",
    "            pbar.update()\n",
    "            return suma_xi\n",
    "        return acumulate_xi\n",
    "\n",
    "    ######################################################################################################\n",
    "\n",
    "    def amoeba(params, mega_alt_xi, mega_az_xi):\n",
    "    #     new_alt_params = optimize.fmin(mega_alt_xi, params, maxfun=1100)\n",
    "        new_az_params = optimize.fmin(mega_az_xi, params, maxfun=100)\n",
    "        return new_az_params\n",
    "\n",
    "    C, A, F, V, S, D, P, Q, E, ep, X0, Y0, a0 = params\n",
    "    init_params = [a0]\n",
    "    ctes = [C, A, F, V, S, D, P, Q, E, ep, X0, Y0]\n",
    "\n",
    "    data = pd.read_csv(\"Data.pixtab\", sep=\" \")\n",
    "    data = data.dropna()\n",
    "    data = drop_outlayers_by_borovicka(data, construct_altura_deg(*ctes, *init_params), 5)\n",
    "    x_exp = data.x.values\n",
    "    y_exp = data.y.values\n",
    "    alt_catalogo = data.alt.values\n",
    "    az_catalogo = np.rad2deg(np.arccos(np.cos(np.deg2rad(data.az.values))))\n",
    "    mega_alt_xi = construct_acumulate_alt_xi(x_exp, y_exp, alt_catalogo, ctes)\n",
    "    mega_az_xi = construct_acumulate_az_xi(x_exp, y_exp, az_catalogo, ctes)\n",
    "\n",
    "    pbar = tqdm(total=100, desc=\"a0\")\n",
    "    result = amoeba(init_params, mega_alt_xi, mega_az_xi)\n",
    "    pbar.close()\n",
    "\n",
    "    \n",
    "    result_2 = np.array([*ctes, *result])\n",
    "    print(result_2)\n",
    "    return [result_2]"
   ]
  },
  {
   "cell_type": "code",
   "execution_count": 26,
   "metadata": {},
   "outputs": [],
   "source": [
    "temp_result_2 = np.array([ 1.11503969e+00, -1.56658228e-02, -2.27822274e-01,  3.00000000e-03,\n",
    "        1.00000000e-04,  1.00000000e-05,  0.00000000e+00,  0.00000000e+00,\n",
    "        2.86383222e-01, -6.84149304e-03,  7.24000000e+02,  4.72000000e+02,\n",
    "        9.56142578e-01])"
   ]
  },
  {
   "cell_type": "markdown",
   "metadata": {},
   "source": [
    "[subir](#pipeline)<a id='paso3'></a>\n",
    "### Paso 3\n",
    "Ahora buscamos E,X0,Y0,a0 quitando datos outlayers reduciendo azimut. Como a0 esta más cerca del resultado pude que se demore menos. (19min menos y mejor resultado)"
   ]
  },
  {
   "cell_type": "code",
   "execution_count": 27,
   "metadata": {
    "scrolled": true
   },
   "outputs": [],
   "source": [
    "def paso3(params):\n",
    "    \"\"\"\n",
    "    311 - C, A, F, V, S, D, P, Q, ep, a0\n",
    "    \"\"\"\n",
    "\n",
    "    def construct_acumulate_alt_xi(x_list, y_list, z_list, ctes = None):\n",
    "        def acumulate_xi(params):\n",
    "            C, A, F, V, S, D, P, Q, ep = ctes\n",
    "            E, X0, Y0, a0, = params\n",
    "            suma_xi = 0\n",
    "            for x, y, z in zip(x_list, y_list, z_list):\n",
    "                xi = construct_alt_xi(int(x), int(y), int(z))\n",
    "                suma_xi += xi(C, A, F, V, S, D, P, Q, E, ep, float(X0), float(Y0), a0)\n",
    "            pbar.update()\n",
    "            return suma_xi\n",
    "        return acumulate_xi\n",
    "\n",
    "    def construct_acumulate_az_xi(x_list, y_list, z_list, ctes = None):\n",
    "        def acumulate_xi(params):\n",
    "            C, A, F, V, S, D, P, Q, ep = ctes\n",
    "            E, X0, Y0, a0, = params\n",
    "            suma_xi = 0\n",
    "            for x, y, z in zip(x_list, y_list, z_list):\n",
    "                xi = construct_az_xi(int(x), int(y), int(z))\n",
    "                suma_xi += xi(C, A, F, V, S, D, P, Q, E, ep, float(X0), float(Y0), a0)\n",
    "            pbar.update()\n",
    "            return suma_xi\n",
    "        return acumulate_xi\n",
    "\n",
    "    ######################################################################################################\n",
    "\n",
    "    def amoeba(params, mega_alt_xi, mega_az_xi):\n",
    "    #     new_alt_params = optimize.fmin(mega_alt_xi, params, maxfun=1100)\n",
    "        new_az_params = optimize.fmin(mega_az_xi, params, maxfun=100)\n",
    "        return new_az_params\n",
    "\n",
    "    C, A, F, V, S, D, P, Q, E, ep, X0, Y0, a0 = params\n",
    "    init_params = [E, X0, Y0, a0]\n",
    "    ctes = [C, A, F, V, S, D, P, Q, ep]\n",
    "\n",
    "    data = pd.read_csv(\"Data.pixtab\", sep=\" \")\n",
    "    data = data.dropna()\n",
    "    data = drop_outlayers_by_borovicka(data, construct_altura_deg(*ctes[:-1], init_params[0], ctes[-1], *init_params[-3:]), 5)\n",
    "    x_exp = data.x.values\n",
    "    y_exp = data.y.values\n",
    "    alt_catalogo = data.alt.values\n",
    "    az_catalogo = np.rad2deg(np.arccos(np.cos(np.deg2rad(data.az.values))))\n",
    "    mega_alt_xi = construct_acumulate_alt_xi(x_exp, y_exp, alt_catalogo, ctes)\n",
    "    mega_az_xi = construct_acumulate_az_xi(x_exp, y_exp, az_catalogo, ctes)\n",
    "\n",
    "    pbar = tqdm(total=100, desc=\"E, X0, Y0, a0\")\n",
    "    result = amoeba(init_params, mega_alt_xi, mega_az_xi)\n",
    "    pbar.close()\n",
    "\n",
    "    \n",
    "    result_3 = np.array([*ctes[:-1], result[0], ctes[-1], *result[-3:]])\n",
    "    print(result_3)\n",
    "    return [result_3]"
   ]
  },
  {
   "cell_type": "code",
   "execution_count": 28,
   "metadata": {},
   "outputs": [],
   "source": [
    "temp_result_3 = np.array([ 1.11503969e+00, -1.56658228e-02, -2.27822274e-01,  3.00000000e-03,\n",
    "        1.00000000e-04,  1.00000000e-05,  0.00000000e+00,  0.00000000e+00,\n",
    "       -6.06531026e-03, -6.84149304e-03,  7.26230277e+02,  4.79906209e+02,\n",
    "        7.73715459e-01])"
   ]
  },
  {
   "cell_type": "markdown",
   "metadata": {},
   "source": [
    "[subir](#pipeline)<a id='paso4'></a>\n",
    "### Paso 4\n",
    "Ahora buscamos V,S,D,P,Q reduciendo la altura. Según lo que experimentamos no deberia afectar al azimut\n",
    "\n",
    "Algo particular es que si reducimos discriminando datos apunta mal, debe ser que necesita mas datos en el horizonte"
   ]
  },
  {
   "cell_type": "code",
   "execution_count": 29,
   "metadata": {
    "scrolled": true
   },
   "outputs": [],
   "source": [
    "def paso4(params):\n",
    "    \"\"\"\n",
    "    314 - V, S, D, P, Q\n",
    "    \"\"\"\n",
    "\n",
    "    def construct_acumulate_alt_xi(x_list, y_list, z_list, ctes = None):\n",
    "        def acumulate_xi(params):\n",
    "            C, A, F, E, ep, X0, Y0, a0 = ctes\n",
    "            V, S, D, P, Q, = params\n",
    "            suma_xi = 0\n",
    "            for x, y, z in zip(x_list, y_list, z_list):\n",
    "                xi = construct_alt_xi(int(x), int(y), int(z))\n",
    "                suma_xi += xi(C, A, F, V, S, D, P, Q, E, ep, float(X0), float(Y0), a0)\n",
    "            pbar.update()\n",
    "            return suma_xi\n",
    "        return acumulate_xi\n",
    "\n",
    "    def construct_acumulate_az_xi(x_list, y_list, z_list, ctes = None):\n",
    "        def acumulate_xi(params):\n",
    "            C, A, F, E, ep, X0, Y0, a0 = ctes\n",
    "            V, S, D, P, Q, = params\n",
    "            suma_xi = 0\n",
    "            for x, y, z in zip(x_list, y_list, z_list):\n",
    "                xi = construct_az_xi(int(x), int(y), int(z))\n",
    "                suma_xi += xi(C, A, F, V, S, D, P, Q, E, ep, float(X0), float(Y0), a0)\n",
    "            pbar.update()\n",
    "            return suma_xi\n",
    "        return acumulate_xi\n",
    "\n",
    "    ######################################################################################################\n",
    "\n",
    "    def amoeba(params, mega_alt_xi, mega_az_xi):\n",
    "        new_alt_params = optimize.fmin(mega_alt_xi, params, maxfun=100)\n",
    "    #     new_az_params = optimize.fmin(mega_az_xi, params, maxfun=1100)\n",
    "        return new_alt_params\n",
    "\n",
    "    \n",
    "    C, A, F, V, S, D, P, Q, E, ep, X0, Y0, a0 = params\n",
    "    init_params = [V, S, D, P, Q]\n",
    "    ctes = [C, A, F, E, ep, X0, Y0, a0]\n",
    "\n",
    "    data = pd.read_csv(\"Data.pixtab\", sep=\" \")\n",
    "    data = data.dropna()\n",
    "    data = drop_outlayers_by_borovicka(data, construct_altura_deg(*ctes[:3],*init_params, *ctes[3:]), 5)\n",
    "    x_exp = data.x.values\n",
    "    y_exp = data.y.values\n",
    "    alt_catalogo = data.alt.values\n",
    "    az_catalogo = np.rad2deg(np.arccos(np.cos(np.deg2rad(data.az.values))))\n",
    "    mega_alt_xi = construct_acumulate_alt_xi(x_exp, y_exp, alt_catalogo, ctes)\n",
    "    mega_az_xi = construct_acumulate_az_xi(x_exp, y_exp, az_catalogo, ctes)\n",
    "\n",
    "    pbar = tqdm(total=100, desc=\"V, S, D, P, Q\")\n",
    "    result = amoeba(init_params, mega_alt_xi, mega_az_xi)\n",
    "    pbar.close()\n",
    "\n",
    "    \n",
    "    result_4 = np.array([*ctes[:3],*result, *ctes[3:]])\n",
    "    print(result_4)\n",
    "    return [result_4]"
   ]
  },
  {
   "cell_type": "code",
   "execution_count": 30,
   "metadata": {},
   "outputs": [],
   "source": [
    "temp_result_4 = np.array([1.11503969e+00, -1.56658228e-02, -2.27822274e-01,  2.99517405e-03,\n",
    "        1.41721867e-04,  1.56466343e-05, -3.94352535e-03, -3.82198376e-03,\n",
    "       -6.06531026e-03, -6.84149304e-03,  7.26230277e+02,  4.79906209e+02,\n",
    "        7.73715459e-01])"
   ]
  },
  {
   "cell_type": "markdown",
   "metadata": {},
   "source": [
    "[subir](#pipeline)<a id='paso5'></a>\n",
    "## Paso 5\n",
    "Ahora buscamos C,A,F reduciendo la altura. Según lo que experimentamos no deberia afectar al azimut"
   ]
  },
  {
   "cell_type": "code",
   "execution_count": 31,
   "metadata": {},
   "outputs": [],
   "source": [
    "def paso5(params):\n",
    "    \"\"\"\n",
    "    314 - V, S, D, P, Q, X0, Y0, a0\n",
    "    \"\"\"\n",
    "\n",
    "    def construct_acumulate_alt_xi(x_list, y_list, z_list, ctes = None):\n",
    "        def acumulate_xi(params):\n",
    "            V, S, D, P, Q, E, ep, X0, Y0, a0 = ctes\n",
    "            C, A, F, = params\n",
    "            suma_xi = 0\n",
    "            for x, y, z in zip(x_list, y_list, z_list):\n",
    "                xi = construct_alt_xi(int(x), int(y), int(z))\n",
    "                suma_xi += xi(C, A, F, V, S, D, P, Q, E, ep, float(X0), float(Y0), a0)\n",
    "            pbar.update()\n",
    "            return suma_xi\n",
    "        return acumulate_xi\n",
    "\n",
    "    def construct_acumulate_az_xi(x_list, y_list, z_list, ctes = None):\n",
    "        def acumulate_xi(params):\n",
    "            V, S, D, P, Q, E, ep, X0, Y0, a0 = ctes\n",
    "            C, A, F, = params\n",
    "            suma_xi = 0\n",
    "            for x, y, z in zip(x_list, y_list, z_list):\n",
    "                xi = construct_az_xi(int(x), int(y), int(z))\n",
    "                suma_xi += xi(C, A, F, V, S, D, P, Q, E, ep, float(X0), float(Y0), a0)\n",
    "            pbar.update()\n",
    "            return suma_xi\n",
    "        return acumulate_xi\n",
    "\n",
    "    ######################################################################################################\n",
    "\n",
    "    def amoeba(params, mega_alt_xi, mega_az_xi):\n",
    "        new_alt_params = optimize.fmin(mega_alt_xi, params, maxfun=100)\n",
    "    #     new_az_params = optimize.fmin(mega_az_xi, params, maxfun=1100)\n",
    "        return new_alt_params\n",
    "\n",
    "    C, A, F, V, S, D, P, Q, E, ep, X0, Y0, a0 = params\n",
    "    init_params = [C, A, F]\n",
    "    ctes = [V, S, D, P, Q, E, ep, X0, Y0, a0]\n",
    "\n",
    "    data = pd.read_csv(\"Data.pixtab\", sep=\" \")\n",
    "    data = data.dropna()\n",
    "    data = drop_outlayers_by_borovicka(data, construct_altura_deg(*init_params, *ctes), 5)\n",
    "    x_exp = data.x.values\n",
    "    y_exp = data.y.values\n",
    "    alt_catalogo = data.alt.values\n",
    "    az_catalogo = np.rad2deg(np.arccos(np.cos(np.deg2rad(data.az.values))))\n",
    "    mega_alt_xi = construct_acumulate_alt_xi(x_exp, y_exp, alt_catalogo, ctes)\n",
    "    mega_az_xi = construct_acumulate_az_xi(x_exp, y_exp, az_catalogo, ctes)\n",
    "\n",
    "    pbar = tqdm(total=100, desc=\"C, A, F\")\n",
    "    result = amoeba(init_params, mega_alt_xi, mega_az_xi)\n",
    "    pbar.close()\n",
    "\n",
    "    \n",
    "    result_5 = np.array([*result, *ctes])\n",
    "    print(result_5)\n",
    "    return [result_5]"
   ]
  },
  {
   "cell_type": "code",
   "execution_count": 32,
   "metadata": {},
   "outputs": [],
   "source": [
    "temp_result_5 = np.array([ 1.12716604e+00,  2.47858246e-03,  7.04388456e-01,  2.99517405e-03,\n",
    "        1.41721867e-04,  1.56466343e-05, -3.94352535e-03, -3.82198376e-03,\n",
    "       -6.06531026e-03, -6.84149304e-03,  7.26230277e+02,  4.79906209e+02,\n",
    "        7.73715459e-01])"
   ]
  },
  {
   "cell_type": "code",
   "execution_count": null,
   "metadata": {},
   "outputs": [],
   "source": []
  },
  {
   "cell_type": "code",
   "execution_count": 33,
   "metadata": {},
   "outputs": [
    {
     "name": "stderr",
     "output_type": "stream",
     "text": [
      "C, A, F, E, ep: 100%|████████████████████████████████████████████████████████████████| 100/100 [08:34<00:00,  5.18s/it]"
     ]
    },
    {
     "name": "stdout",
     "output_type": "stream",
     "text": [
      "Warning: Maximum number of function evaluations has been exceeded.\n"
     ]
    },
    {
     "name": "stderr",
     "output_type": "stream",
     "text": [
      "C, A, F, E, ep: 100%|████████████████████████████████████████████████████████████████| 100/100 [08:34<00:00,  5.15s/it]\n"
     ]
    },
    {
     "name": "stdout",
     "output_type": "stream",
     "text": [
      "[ 1.11918551e+00 -9.52409217e-03  8.96064038e-03  3.00000000e-03\n",
      "  1.00000000e-04  1.00000000e-05  0.00000000e+00  0.00000000e+00\n",
      " -1.08204331e-03 -1.23802454e-03  7.24000000e+02  4.72000000e+02\n",
      "  0.00000000e+00]\n"
     ]
    },
    {
     "name": "stderr",
     "output_type": "stream",
     "text": [
      "Droping Outlayers: 100%|███████████████████████████████████████████████████████| 80771/80771 [00:11<00:00, 6775.45it/s]\n",
      "a0:  60%|██████████████████████████████████████████████▏                              | 60/100 [07:26<04:55,  7.39s/it]"
     ]
    },
    {
     "name": "stdout",
     "output_type": "stream",
     "text": [
      "Optimization terminated successfully.\n",
      "         Current function value: 1820950.819910\n",
      "         Iterations: 30\n",
      "         Function evaluations: 60\n"
     ]
    },
    {
     "name": "stderr",
     "output_type": "stream",
     "text": [
      "a0:  60%|██████████████████████████████████████████████▏                              | 60/100 [07:26<04:57,  7.44s/it]\n"
     ]
    },
    {
     "name": "stdout",
     "output_type": "stream",
     "text": [
      "[ 1.11918551e+00 -9.52409217e-03  8.96064038e-03  3.00000000e-03\n",
      "  1.00000000e-04  1.00000000e-05  0.00000000e+00  0.00000000e+00\n",
      " -1.08204331e-03 -1.23802454e-03  7.24000000e+02  4.72000000e+02\n",
      "  7.68679688e-01]\n"
     ]
    },
    {
     "name": "stderr",
     "output_type": "stream",
     "text": [
      "Droping Outlayers: 100%|███████████████████████████████████████████████████████| 80771/80771 [00:11<00:00, 6888.99it/s]\n",
      "E, X0, Y0, a0: 100%|█████████████████████████████████████████████████████████████████| 100/100 [12:19<00:00,  7.48s/it]"
     ]
    },
    {
     "name": "stdout",
     "output_type": "stream",
     "text": [
      "Warning: Maximum number of function evaluations has been exceeded.\n"
     ]
    },
    {
     "name": "stderr",
     "output_type": "stream",
     "text": [
      "E, X0, Y0, a0: 100%|█████████████████████████████████████████████████████████████████| 100/100 [12:19<00:00,  7.40s/it]\n"
     ]
    },
    {
     "name": "stdout",
     "output_type": "stream",
     "text": [
      "[ 1.11918551e+00 -9.52409217e-03  8.96064038e-03  3.00000000e-03\n",
      "  1.00000000e-04  1.00000000e-05  0.00000000e+00  0.00000000e+00\n",
      " -1.10622227e-03 -1.23802454e-03  7.28955587e+02  4.77963259e+02\n",
      "  7.76832139e-01]\n"
     ]
    },
    {
     "name": "stderr",
     "output_type": "stream",
     "text": [
      "Droping Outlayers: 100%|███████████████████████████████████████████████████████| 80771/80771 [00:12<00:00, 6699.23it/s]\n",
      "V, S, D, P, Q: 100%|█████████████████████████████████████████████████████████████████| 100/100 [07:56<00:00,  4.74s/it]"
     ]
    },
    {
     "name": "stdout",
     "output_type": "stream",
     "text": [
      "Warning: Maximum number of function evaluations has been exceeded.\n"
     ]
    },
    {
     "name": "stderr",
     "output_type": "stream",
     "text": [
      "V, S, D, P, Q: 100%|█████████████████████████████████████████████████████████████████| 100/100 [07:56<00:00,  4.76s/it]\n"
     ]
    },
    {
     "name": "stdout",
     "output_type": "stream",
     "text": [
      "[ 1.11918551e+00 -9.52409217e-03  8.96064038e-03  3.00235088e-03\n",
      "  1.00167129e-04  1.00729745e-05  1.78968400e-05  1.87863268e-05\n",
      " -1.10622227e-03 -1.23802454e-03  7.28955587e+02  4.77963259e+02\n",
      "  7.76832139e-01]\n"
     ]
    },
    {
     "name": "stderr",
     "output_type": "stream",
     "text": [
      "Droping Outlayers: 100%|███████████████████████████████████████████████████████| 80771/80771 [00:11<00:00, 6946.90it/s]\n",
      "C, A, F: 100%|███████████████████████████████████████████████████████████████████████| 100/100 [08:03<00:00,  4.93s/it]"
     ]
    },
    {
     "name": "stdout",
     "output_type": "stream",
     "text": [
      "Warning: Maximum number of function evaluations has been exceeded.\n"
     ]
    },
    {
     "name": "stderr",
     "output_type": "stream",
     "text": [
      "C, A, F: 100%|███████████████████████████████████████████████████████████████████████| 100/100 [08:03<00:00,  4.84s/it]\n"
     ]
    },
    {
     "name": "stdout",
     "output_type": "stream",
     "text": [
      "[ 1.12910886e+00  2.83699436e-03  1.62385935e-02  3.00235088e-03\n",
      "  1.00167129e-04  1.00729745e-05  1.78968400e-05  1.87863268e-05\n",
      " -1.10622227e-03 -1.23802454e-03  7.28955587e+02  4.77963259e+02\n",
      "  7.76832139e-01]\n"
     ]
    },
    {
     "name": "stderr",
     "output_type": "stream",
     "text": [
      "Droping Outlayers: 100%|███████████████████████████████████████████████████████| 80771/80771 [00:12<00:00, 6700.34it/s]\n",
      "E, X0, Y0, a0: 100%|█████████████████████████████████████████████████████████████████| 100/100 [12:20<00:00,  7.58s/it]"
     ]
    },
    {
     "name": "stdout",
     "output_type": "stream",
     "text": [
      "Warning: Maximum number of function evaluations has been exceeded.\n"
     ]
    },
    {
     "name": "stderr",
     "output_type": "stream",
     "text": [
      "E, X0, Y0, a0: 100%|█████████████████████████████████████████████████████████████████| 100/100 [12:20<00:00,  7.41s/it]\n"
     ]
    },
    {
     "name": "stdout",
     "output_type": "stream",
     "text": [
      "[ 1.12910886e+00  2.83699436e-03  1.62385935e-02  3.00235088e-03\n",
      "  1.00167129e-04  1.00729745e-05  1.78968400e-05  1.87863268e-05\n",
      " -5.19146509e-03 -1.23802454e-03  7.28482462e+02  4.77572700e+02\n",
      "  7.73591993e-01]\n"
     ]
    },
    {
     "name": "stderr",
     "output_type": "stream",
     "text": [
      "Droping Outlayers: 100%|███████████████████████████████████████████████████████| 80771/80771 [00:12<00:00, 6603.65it/s]\n",
      "V, S, D, P, Q: 100%|█████████████████████████████████████████████████████████████████| 100/100 [08:22<00:00,  4.87s/it]"
     ]
    },
    {
     "name": "stdout",
     "output_type": "stream",
     "text": [
      "Warning: Maximum number of function evaluations has been exceeded.\n"
     ]
    },
    {
     "name": "stderr",
     "output_type": "stream",
     "text": [
      "V, S, D, P, Q: 100%|█████████████████████████████████████████████████████████████████| 100/100 [08:22<00:00,  5.02s/it]\n"
     ]
    },
    {
     "name": "stdout",
     "output_type": "stream",
     "text": [
      "[ 1.12910886e+00  2.83699436e-03  1.62385935e-02  3.00456575e-03\n",
      "  1.58246142e-04  1.21604287e-05  2.01838741e-05 -5.78424195e-06\n",
      " -5.19146509e-03 -1.23802454e-03  7.28482462e+02  4.77572700e+02\n",
      "  7.73591993e-01]\n"
     ]
    },
    {
     "name": "stderr",
     "output_type": "stream",
     "text": [
      "Droping Outlayers: 100%|███████████████████████████████████████████████████████| 80771/80771 [00:11<00:00, 6774.89it/s]\n",
      "C, A, F: 100%|███████████████████████████████████████████████████████████████████████| 100/100 [08:06<00:00,  4.81s/it]"
     ]
    },
    {
     "name": "stdout",
     "output_type": "stream",
     "text": [
      "Warning: Maximum number of function evaluations has been exceeded.\n"
     ]
    },
    {
     "name": "stderr",
     "output_type": "stream",
     "text": [
      "C, A, F: 100%|███████████████████████████████████████████████████████████████████████| 100/100 [08:06<00:00,  4.86s/it]\n"
     ]
    },
    {
     "name": "stdout",
     "output_type": "stream",
     "text": [
      "[ 1.12776711e+00  1.18919318e-03  1.03155121e-02  3.00456575e-03\n",
      "  1.58246142e-04  1.21604287e-05  2.01838741e-05 -5.78424195e-06\n",
      " -5.19146509e-03 -1.23802454e-03  7.28482462e+02  4.77572700e+02\n",
      "  7.73591993e-01]\n"
     ]
    },
    {
     "name": "stderr",
     "output_type": "stream",
     "text": [
      "Droping Outlayers: 100%|███████████████████████████████████████████████████████| 80771/80771 [00:11<00:00, 6817.09it/s]\n",
      "E, X0, Y0, a0: 100%|█████████████████████████████████████████████████████████████████| 100/100 [12:18<00:00,  7.43s/it]"
     ]
    },
    {
     "name": "stdout",
     "output_type": "stream",
     "text": [
      "Warning: Maximum number of function evaluations has been exceeded.\n"
     ]
    },
    {
     "name": "stderr",
     "output_type": "stream",
     "text": [
      "E, X0, Y0, a0: 100%|█████████████████████████████████████████████████████████████████| 100/100 [12:18<00:00,  7.39s/it]\n"
     ]
    },
    {
     "name": "stdout",
     "output_type": "stream",
     "text": [
      "[ 1.12776711e+00  1.18919318e-03  1.03155121e-02  3.00456575e-03\n",
      "  1.58246142e-04  1.21604287e-05  2.01838741e-05 -5.78424195e-06\n",
      " -4.95192868e-03 -1.23802454e-03  7.28608947e+02  4.77611290e+02\n",
      "  7.73928718e-01]\n"
     ]
    },
    {
     "name": "stderr",
     "output_type": "stream",
     "text": [
      "Droping Outlayers: 100%|███████████████████████████████████████████████████████| 80771/80771 [00:11<00:00, 6761.31it/s]\n",
      "V, S, D, P, Q: 101it [08:05,  4.81s/it]                                                                                "
     ]
    },
    {
     "name": "stdout",
     "output_type": "stream",
     "text": [
      "Warning: Maximum number of function evaluations has been exceeded.\n"
     ]
    },
    {
     "name": "stderr",
     "output_type": "stream",
     "text": [
      "V, S, D, P, Q: 101it [08:05,  4.81s/it]\n"
     ]
    },
    {
     "name": "stdout",
     "output_type": "stream",
     "text": [
      "[ 1.12776711e+00  1.18919318e-03  1.03155121e-02  3.00445129e-03\n",
      " -1.38070859e-04  1.47936214e-05  4.76105580e-05 -1.02802622e-05\n",
      " -4.95192868e-03 -1.23802454e-03  7.28608947e+02  4.77611290e+02\n",
      "  7.73928718e-01]\n"
     ]
    },
    {
     "name": "stderr",
     "output_type": "stream",
     "text": [
      "Droping Outlayers: 100%|███████████████████████████████████████████████████████| 80771/80771 [00:12<00:00, 6728.72it/s]\n",
      "C, A, F: 101it [08:05,  4.76s/it]                                                                                      "
     ]
    },
    {
     "name": "stdout",
     "output_type": "stream",
     "text": [
      "Warning: Maximum number of function evaluations has been exceeded.\n"
     ]
    },
    {
     "name": "stderr",
     "output_type": "stream",
     "text": [
      "C, A, F: 101it [08:05,  4.81s/it]\n"
     ]
    },
    {
     "name": "stdout",
     "output_type": "stream",
     "text": [
      "[ 1.12840603e+00  2.28744941e-03 -6.51562582e-02  3.00445129e-03\n",
      " -1.38070859e-04  1.47936214e-05  4.76105580e-05 -1.02802622e-05\n",
      " -4.95192868e-03 -1.23802454e-03  7.28608947e+02  4.77611290e+02\n",
      "  7.73928718e-01]\n"
     ]
    },
    {
     "name": "stderr",
     "output_type": "stream",
     "text": [
      "Droping Outlayers: 100%|███████████████████████████████████████████████████████| 80771/80771 [00:11<00:00, 6888.99it/s]\n",
      "E, X0, Y0, a0: 100%|█████████████████████████████████████████████████████████████████| 100/100 [12:12<00:00,  7.23s/it]"
     ]
    },
    {
     "name": "stdout",
     "output_type": "stream",
     "text": [
      "Warning: Maximum number of function evaluations has been exceeded.\n"
     ]
    },
    {
     "name": "stderr",
     "output_type": "stream",
     "text": [
      "E, X0, Y0, a0: 100%|█████████████████████████████████████████████████████████████████| 100/100 [12:12<00:00,  7.33s/it]\n"
     ]
    },
    {
     "name": "stdout",
     "output_type": "stream",
     "text": [
      "[ 1.12840603e+00  2.28744941e-03 -6.51562582e-02  3.00445129e-03\n",
      " -1.38070859e-04  1.47936214e-05  4.76105580e-05 -1.02802622e-05\n",
      " -4.92130769e-03 -1.23802454e-03  7.28608380e+02  4.77616516e+02\n",
      "  7.73949024e-01]\n"
     ]
    },
    {
     "name": "stderr",
     "output_type": "stream",
     "text": [
      "Droping Outlayers: 100%|███████████████████████████████████████████████████████| 80771/80771 [00:11<00:00, 6978.36it/s]\n",
      "V, S, D, P, Q: 100%|█████████████████████████████████████████████████████████████████| 100/100 [07:56<00:00,  4.84s/it]"
     ]
    },
    {
     "name": "stdout",
     "output_type": "stream",
     "text": [
      "Warning: Maximum number of function evaluations has been exceeded.\n"
     ]
    },
    {
     "name": "stderr",
     "output_type": "stream",
     "text": [
      "V, S, D, P, Q: 100%|█████████████████████████████████████████████████████████████████| 100/100 [07:56<00:00,  4.77s/it]\n"
     ]
    },
    {
     "name": "stdout",
     "output_type": "stream",
     "text": [
      "[ 1.12840603e+00  2.28744941e-03 -6.51562582e-02  3.00469470e-03\n",
      " -1.42497714e-04 -4.81926572e-05  1.90386533e-04 -4.11856301e-06\n",
      " -4.92130769e-03 -1.23802454e-03  7.28608380e+02  4.77616516e+02\n",
      "  7.73949024e-01]\n"
     ]
    },
    {
     "name": "stderr",
     "output_type": "stream",
     "text": [
      "Droping Outlayers: 100%|███████████████████████████████████████████████████████| 80771/80771 [00:11<00:00, 6907.21it/s]\n",
      "C, A, F: 100%|███████████████████████████████████████████████████████████████████████| 100/100 [08:13<00:00,  4.85s/it]"
     ]
    },
    {
     "name": "stdout",
     "output_type": "stream",
     "text": [
      "Warning: Maximum number of function evaluations has been exceeded.\n"
     ]
    },
    {
     "name": "stderr",
     "output_type": "stream",
     "text": [
      "C, A, F: 100%|███████████████████████████████████████████████████████████████████████| 100/100 [08:13<00:00,  4.93s/it]\n"
     ]
    },
    {
     "name": "stdout",
     "output_type": "stream",
     "text": [
      "[ 1.12386159e+00  4.10780949e-03 -1.21877425e+00  3.00469470e-03\n",
      " -1.42497714e-04 -4.81926572e-05  1.90386533e-04 -4.11856301e-06\n",
      " -4.92130769e-03 -1.23802454e-03  7.28608380e+02  4.77616516e+02\n",
      "  7.73949024e-01]\n"
     ]
    },
    {
     "name": "stderr",
     "output_type": "stream",
     "text": [
      "Droping Outlayers: 100%|███████████████████████████████████████████████████████| 80771/80771 [00:11<00:00, 6755.55it/s]\n",
      "E, X0, Y0, a0: 101it [12:34,  7.27s/it]                                                                                "
     ]
    },
    {
     "name": "stdout",
     "output_type": "stream",
     "text": [
      "Warning: Maximum number of function evaluations has been exceeded.\n"
     ]
    },
    {
     "name": "stderr",
     "output_type": "stream",
     "text": [
      "E, X0, Y0, a0: 101it [12:34,  7.47s/it]\n"
     ]
    },
    {
     "name": "stdout",
     "output_type": "stream",
     "text": [
      "[ 1.12386159e+00  4.10780949e-03 -1.21877425e+00  3.00469470e-03\n",
      " -1.42497714e-04 -4.81926572e-05  1.90386533e-04 -4.11856301e-06\n",
      " -4.90153576e-03 -1.23802454e-03  7.28624994e+02  4.77610089e+02\n",
      "  7.73978261e-01]\n"
     ]
    },
    {
     "name": "stderr",
     "output_type": "stream",
     "text": [
      "Droping Outlayers: 100%|███████████████████████████████████████████████████████| 80771/80771 [00:12<00:00, 6550.76it/s]\n",
      "V, S, D, P, Q: 100%|█████████████████████████████████████████████████████████████████| 100/100 [07:58<00:00,  4.74s/it]"
     ]
    },
    {
     "name": "stdout",
     "output_type": "stream",
     "text": [
      "Warning: Maximum number of function evaluations has been exceeded.\n"
     ]
    },
    {
     "name": "stderr",
     "output_type": "stream",
     "text": [
      "V, S, D, P, Q: 100%|█████████████████████████████████████████████████████████████████| 100/100 [07:58<00:00,  4.79s/it]\n"
     ]
    },
    {
     "name": "stdout",
     "output_type": "stream",
     "text": [
      "[ 1.12386159e+00  4.10780949e-03 -1.21877425e+00  3.00585039e-03\n",
      "  3.30731657e-04  8.76608546e-05  1.02467484e-03 -9.98654208e-06\n",
      " -4.90153576e-03 -1.23802454e-03  7.28624994e+02  4.77610089e+02\n",
      "  7.73978261e-01]\n"
     ]
    },
    {
     "name": "stderr",
     "output_type": "stream",
     "text": [
      "Droping Outlayers: 100%|███████████████████████████████████████████████████████| 80771/80771 [00:11<00:00, 6978.63it/s]\n",
      "C, A, F:  85%|█████████████████████████████████████████████████████████████▏          | 85/100 [06:58<01:14,  5.00s/it]"
     ]
    },
    {
     "name": "stdout",
     "output_type": "stream",
     "text": [
      "Optimization terminated successfully.\n",
      "         Current function value: 39928.926783\n",
      "         Iterations: 43\n",
      "         Function evaluations: 85\n"
     ]
    },
    {
     "name": "stderr",
     "output_type": "stream",
     "text": [
      "C, A, F:  85%|█████████████████████████████████████████████████████████████▏          | 85/100 [06:58<01:13,  4.92s/it]\n"
     ]
    },
    {
     "name": "stdout",
     "output_type": "stream",
     "text": [
      "[ 1.12396336e+00  4.25154039e-03 -1.19901345e+00  3.00585039e-03\n",
      "  3.30731657e-04  8.76608546e-05  1.02467484e-03 -9.98654208e-06\n",
      " -4.90153576e-03 -1.23802454e-03  7.28624994e+02  4.77610089e+02\n",
      "  7.73978261e-01]\n"
     ]
    },
    {
     "name": "stderr",
     "output_type": "stream",
     "text": [
      "Droping Outlayers: 100%|███████████████████████████████████████████████████████| 80771/80771 [00:11<00:00, 6768.08it/s]\n",
      "E, X0, Y0, a0: 100%|█████████████████████████████████████████████████████████████████| 100/100 [12:20<00:00,  7.54s/it]"
     ]
    },
    {
     "name": "stdout",
     "output_type": "stream",
     "text": [
      "Warning: Maximum number of function evaluations has been exceeded.\n"
     ]
    },
    {
     "name": "stderr",
     "output_type": "stream",
     "text": [
      "E, X0, Y0, a0: 100%|█████████████████████████████████████████████████████████████████| 100/100 [12:20<00:00,  7.40s/it]\n"
     ]
    },
    {
     "name": "stdout",
     "output_type": "stream",
     "text": [
      "[ 1.12396336e+00  4.25154039e-03 -1.19901345e+00  3.00585039e-03\n",
      "  3.30731657e-04  8.76608546e-05  1.02467484e-03 -9.98654208e-06\n",
      " -4.90153576e-03 -1.23802454e-03  7.28624994e+02  4.77610089e+02\n",
      "  7.73978261e-01]\n"
     ]
    },
    {
     "name": "stderr",
     "output_type": "stream",
     "text": [
      "Droping Outlayers: 100%|███████████████████████████████████████████████████████| 80771/80771 [00:11<00:00, 6859.24it/s]\n",
      "V, S, D, P, Q: 100%|█████████████████████████████████████████████████████████████████| 100/100 [08:11<00:00,  4.81s/it]"
     ]
    },
    {
     "name": "stdout",
     "output_type": "stream",
     "text": [
      "Warning: Maximum number of function evaluations has been exceeded.\n"
     ]
    },
    {
     "name": "stderr",
     "output_type": "stream",
     "text": [
      "V, S, D, P, Q: 100%|█████████████████████████████████████████████████████████████████| 100/100 [08:11<00:00,  4.91s/it]\n"
     ]
    },
    {
     "name": "stdout",
     "output_type": "stream",
     "text": [
      "[ 1.12396336e+00  4.25154039e-03 -1.19901345e+00  3.00967397e-03\n",
      "  5.80256527e-04 -2.39030459e-04  4.19911841e-03 -6.01712122e-06\n",
      " -4.90153576e-03 -1.23802454e-03  7.28624994e+02  4.77610089e+02\n",
      "  7.73978261e-01]\n"
     ]
    },
    {
     "name": "stderr",
     "output_type": "stream",
     "text": [
      "Droping Outlayers: 100%|███████████████████████████████████████████████████████| 80771/80771 [00:11<00:00, 6867.38it/s]\n",
      "C, A, F:  95%|████████████████████████████████████████████████████████████████████▍   | 95/100 [07:43<00:25,  5.16s/it]"
     ]
    },
    {
     "name": "stdout",
     "output_type": "stream",
     "text": [
      "Optimization terminated successfully.\n",
      "         Current function value: 39589.637589\n",
      "         Iterations: 49\n",
      "         Function evaluations: 95\n"
     ]
    },
    {
     "name": "stderr",
     "output_type": "stream",
     "text": [
      "C, A, F:  95%|████████████████████████████████████████████████████████████████████▍   | 95/100 [07:43<00:24,  4.88s/it]\n"
     ]
    },
    {
     "name": "stdout",
     "output_type": "stream",
     "text": [
      "[ 1.12428482e+00  4.24656648e-03 -1.17541302e+00  3.00967397e-03\n",
      "  5.80256527e-04 -2.39030459e-04  4.19911841e-03 -6.01712122e-06\n",
      " -4.90153576e-03 -1.23802454e-03  7.28624994e+02  4.77610089e+02\n",
      "  7.73978261e-01]\n"
     ]
    },
    {
     "name": "stderr",
     "output_type": "stream",
     "text": [
      "Droping Outlayers: 100%|███████████████████████████████████████████████████████| 80771/80771 [00:12<00:00, 6466.54it/s]\n",
      "E, X0, Y0, a0: 100%|█████████████████████████████████████████████████████████████████| 100/100 [12:51<00:00,  7.46s/it]"
     ]
    },
    {
     "name": "stdout",
     "output_type": "stream",
     "text": [
      "Warning: Maximum number of function evaluations has been exceeded.\n"
     ]
    },
    {
     "name": "stderr",
     "output_type": "stream",
     "text": [
      "E, X0, Y0, a0: 100%|█████████████████████████████████████████████████████████████████| 100/100 [12:51<00:00,  7.71s/it]\n"
     ]
    },
    {
     "name": "stdout",
     "output_type": "stream",
     "text": [
      "[ 1.12428482e+00  4.24656648e-03 -1.17541302e+00  3.00967397e-03\n",
      "  5.80256527e-04 -2.39030459e-04  4.19911841e-03 -6.01712122e-06\n",
      " -4.90153576e-03 -1.23802454e-03  7.28624994e+02  4.77610089e+02\n",
      "  7.73978261e-01]\n"
     ]
    },
    {
     "name": "stderr",
     "output_type": "stream",
     "text": [
      "Droping Outlayers: 100%|███████████████████████████████████████████████████████| 80771/80771 [00:11<00:00, 6811.92it/s]\n",
      "V, S, D, P, Q: 100%|█████████████████████████████████████████████████████████████████| 100/100 [08:28<00:00,  4.84s/it]"
     ]
    },
    {
     "name": "stdout",
     "output_type": "stream",
     "text": [
      "Warning: Maximum number of function evaluations has been exceeded.\n"
     ]
    },
    {
     "name": "stderr",
     "output_type": "stream",
     "text": [
      "V, S, D, P, Q: 100%|█████████████████████████████████████████████████████████████████| 100/100 [08:28<00:00,  5.09s/it]\n"
     ]
    },
    {
     "name": "stdout",
     "output_type": "stream",
     "text": [
      "[ 1.12428482e+00  4.24656648e-03 -1.17541302e+00  3.06716387e-03\n",
      "  1.43370756e-03  8.51279291e-04  4.17941009e-02 -7.20468500e-06\n",
      " -4.90153576e-03 -1.23802454e-03  7.28624994e+02  4.77610089e+02\n",
      "  7.73978261e-01]\n"
     ]
    },
    {
     "name": "stderr",
     "output_type": "stream",
     "text": [
      "Droping Outlayers: 100%|███████████████████████████████████████████████████████| 80771/80771 [00:12<00:00, 6656.27it/s]\n",
      "C, A, F: 100%|███████████████████████████████████████████████████████████████████████| 100/100 [08:10<00:00,  5.10s/it]"
     ]
    },
    {
     "name": "stdout",
     "output_type": "stream",
     "text": [
      "Warning: Maximum number of function evaluations has been exceeded.\n"
     ]
    },
    {
     "name": "stderr",
     "output_type": "stream",
     "text": [
      "C, A, F: 100%|███████████████████████████████████████████████████████████████████████| 100/100 [08:10<00:00,  4.90s/it]\n"
     ]
    },
    {
     "name": "stdout",
     "output_type": "stream",
     "text": [
      "[ 1.12659022e+00  4.08238493e-03 -9.45769574e-01  3.06716387e-03\n",
      "  1.43370756e-03  8.51279291e-04  4.17941009e-02 -7.20468500e-06\n",
      " -4.90153576e-03 -1.23802454e-03  7.28624994e+02  4.77610089e+02\n",
      "  7.73978261e-01]\n"
     ]
    },
    {
     "name": "stderr",
     "output_type": "stream",
     "text": [
      "Droping Outlayers: 100%|███████████████████████████████████████████████████████| 80771/80771 [00:11<00:00, 6840.35it/s]\n",
      "E, X0, Y0, a0: 100%|█████████████████████████████████████████████████████████████████| 100/100 [12:32<00:00,  7.44s/it]"
     ]
    },
    {
     "name": "stdout",
     "output_type": "stream",
     "text": [
      "Warning: Maximum number of function evaluations has been exceeded.\n"
     ]
    },
    {
     "name": "stderr",
     "output_type": "stream",
     "text": [
      "E, X0, Y0, a0: 100%|█████████████████████████████████████████████████████████████████| 100/100 [12:32<00:00,  7.52s/it]\n"
     ]
    },
    {
     "name": "stdout",
     "output_type": "stream",
     "text": [
      "[ 1.12659022e+00  4.08238493e-03 -9.45769574e-01  3.06716387e-03\n",
      "  1.43370756e-03  8.51279291e-04  4.17941009e-02 -7.20468500e-06\n",
      " -4.89875796e-03 -1.23802454e-03  7.28622101e+02  4.77608958e+02\n",
      "  7.73957963e-01]\n"
     ]
    },
    {
     "name": "stderr",
     "output_type": "stream",
     "text": [
      "Droping Outlayers: 100%|███████████████████████████████████████████████████████| 80771/80771 [00:11<00:00, 6835.50it/s]\n",
      "V, S, D, P, Q: 100%|█████████████████████████████████████████████████████████████████| 100/100 [08:07<00:00,  5.04s/it]"
     ]
    },
    {
     "name": "stdout",
     "output_type": "stream",
     "text": [
      "Warning: Maximum number of function evaluations has been exceeded.\n"
     ]
    },
    {
     "name": "stderr",
     "output_type": "stream",
     "text": [
      "V, S, D, P, Q: 100%|█████████████████████████████████████████████████████████████████| 100/100 [08:07<00:00,  4.87s/it]\n"
     ]
    },
    {
     "name": "stdout",
     "output_type": "stream",
     "text": [
      "[ 1.12659022e+00  4.08238493e-03 -9.45769574e-01  3.09348234e-03\n",
      "  2.17591995e-03  1.48646825e-03  6.39342017e-02 -6.46240560e-06\n",
      " -4.89875796e-03 -1.23802454e-03  7.28622101e+02  4.77608958e+02\n",
      "  7.73957963e-01]\n"
     ]
    },
    {
     "name": "stderr",
     "output_type": "stream",
     "text": [
      "Droping Outlayers: 100%|███████████████████████████████████████████████████████| 80771/80771 [00:12<00:00, 6617.67it/s]\n",
      "C, A, F: 100%|███████████████████████████████████████████████████████████████████████| 100/100 [08:31<00:00,  5.19s/it]"
     ]
    },
    {
     "name": "stdout",
     "output_type": "stream",
     "text": [
      "Warning: Maximum number of function evaluations has been exceeded.\n"
     ]
    },
    {
     "name": "stderr",
     "output_type": "stream",
     "text": [
      "C, A, F: 100%|███████████████████████████████████████████████████████████████████████| 100/100 [08:31<00:00,  5.11s/it]\n"
     ]
    },
    {
     "name": "stdout",
     "output_type": "stream",
     "text": [
      "[ 1.12760428e+00  4.21860665e-03 -7.94573373e-01  3.09348234e-03\n",
      "  2.17591995e-03  1.48646825e-03  6.39342017e-02 -6.46240560e-06\n",
      " -4.89875796e-03 -1.23802454e-03  7.28622101e+02  4.77608958e+02\n",
      "  7.73957963e-01]\n"
     ]
    },
    {
     "name": "stderr",
     "output_type": "stream",
     "text": [
      "Droping Outlayers: 100%|███████████████████████████████████████████████████████| 80771/80771 [00:12<00:00, 6327.10it/s]\n",
      "E, X0, Y0, a0: 100%|█████████████████████████████████████████████████████████████████| 100/100 [12:30<00:00,  7.52s/it]"
     ]
    },
    {
     "name": "stdout",
     "output_type": "stream",
     "text": [
      "Warning: Maximum number of function evaluations has been exceeded.\n"
     ]
    },
    {
     "name": "stderr",
     "output_type": "stream",
     "text": [
      "E, X0, Y0, a0: 100%|█████████████████████████████████████████████████████████████████| 100/100 [12:30<00:00,  7.50s/it]\n"
     ]
    },
    {
     "name": "stdout",
     "output_type": "stream",
     "text": [
      "[ 1.12760428e+00  4.21860665e-03 -7.94573373e-01  3.09348234e-03\n",
      "  2.17591995e-03  1.48646825e-03  6.39342017e-02 -6.46240560e-06\n",
      " -4.89835865e-03 -1.23802454e-03  7.28619761e+02  4.77609377e+02\n",
      "  7.73973974e-01]\n"
     ]
    },
    {
     "name": "stderr",
     "output_type": "stream",
     "text": [
      "Droping Outlayers: 100%|███████████████████████████████████████████████████████| 80771/80771 [00:11<00:00, 6802.20it/s]\n",
      "V, S, D, P, Q: 100%|█████████████████████████████████████████████████████████████████| 100/100 [08:01<00:00,  4.74s/it]"
     ]
    },
    {
     "name": "stdout",
     "output_type": "stream",
     "text": [
      "Warning: Maximum number of function evaluations has been exceeded.\n"
     ]
    },
    {
     "name": "stderr",
     "output_type": "stream",
     "text": [
      "V, S, D, P, Q: 100%|█████████████████████████████████████████████████████████████████| 100/100 [08:01<00:00,  4.81s/it]\n"
     ]
    },
    {
     "name": "stdout",
     "output_type": "stream",
     "text": [
      "[ 1.12760428e+00  4.21860665e-03 -7.94573373e-01  3.13247470e-03\n",
      "  2.12872741e-03  7.35589867e-04  8.24779567e-02 -7.22113469e-06\n",
      " -4.89835865e-03 -1.23802454e-03  7.28619761e+02  4.77609377e+02\n",
      "  7.73973974e-01]\n"
     ]
    },
    {
     "name": "stderr",
     "output_type": "stream",
     "text": [
      "Droping Outlayers: 100%|███████████████████████████████████████████████████████| 80771/80771 [00:11<00:00, 7038.66it/s]\n",
      "C, A, F:  99%|███████████████████████████████████████████████████████████████████████▎| 99/100 [07:59<00:04,  4.81s/it]"
     ]
    },
    {
     "name": "stdout",
     "output_type": "stream",
     "text": [
      "Optimization terminated successfully.\n",
      "         Current function value: 35754.852368\n",
      "         Iterations: 53\n",
      "         Function evaluations: 99\n"
     ]
    },
    {
     "name": "stderr",
     "output_type": "stream",
     "text": [
      "C, A, F:  99%|███████████████████████████████████████████████████████████████████████▎| 99/100 [07:59<00:04,  4.84s/it]\n"
     ]
    },
    {
     "name": "stdout",
     "output_type": "stream",
     "text": [
      "[ 1.12827409e+00  4.17939112e-03 -6.84751887e-01  3.13247470e-03\n",
      "  2.12872741e-03  7.35589867e-04  8.24779567e-02 -7.22113469e-06\n",
      " -4.89835865e-03 -1.23802454e-03  7.28619761e+02  4.77609377e+02\n",
      "  7.73973974e-01]\n"
     ]
    },
    {
     "name": "stderr",
     "output_type": "stream",
     "text": [
      "Droping Outlayers: 100%|███████████████████████████████████████████████████████| 80771/80771 [00:11<00:00, 6841.83it/s]\n",
      "E, X0, Y0, a0: 100%|█████████████████████████████████████████████████████████████████| 100/100 [12:08<00:00,  7.21s/it]"
     ]
    },
    {
     "name": "stdout",
     "output_type": "stream",
     "text": [
      "Warning: Maximum number of function evaluations has been exceeded.\n"
     ]
    },
    {
     "name": "stderr",
     "output_type": "stream",
     "text": [
      "E, X0, Y0, a0: 100%|█████████████████████████████████████████████████████████████████| 100/100 [12:08<00:00,  7.29s/it]\n"
     ]
    },
    {
     "name": "stdout",
     "output_type": "stream",
     "text": [
      "[ 1.12827409e+00  4.17939112e-03 -6.84751887e-01  3.13247470e-03\n",
      "  2.12872741e-03  7.35589867e-04  8.24779567e-02 -7.22113469e-06\n",
      " -4.92018266e-03 -1.23802454e-03  7.28617422e+02  4.77603775e+02\n",
      "  7.73955862e-01]\n"
     ]
    },
    {
     "name": "stderr",
     "output_type": "stream",
     "text": [
      "Droping Outlayers: 100%|███████████████████████████████████████████████████████| 80771/80771 [00:11<00:00, 6955.27it/s]\n",
      "V, S, D, P, Q: 101it [07:58,  4.72s/it]                                                                                "
     ]
    },
    {
     "name": "stdout",
     "output_type": "stream",
     "text": [
      "Warning: Maximum number of function evaluations has been exceeded.\n"
     ]
    },
    {
     "name": "stderr",
     "output_type": "stream",
     "text": [
      "V, S, D, P, Q: 101it [07:58,  4.74s/it]\n"
     ]
    },
    {
     "name": "stdout",
     "output_type": "stream",
     "text": [
      "[ 1.12827409e+00  4.17939112e-03 -6.84751887e-01  3.13480598e-03\n",
      "  2.15742967e-03  7.40732289e-04  8.39575408e-02 -7.21502667e-06\n",
      " -4.92018266e-03 -1.23802454e-03  7.28617422e+02  4.77603775e+02\n",
      "  7.73955862e-01]\n"
     ]
    },
    {
     "name": "stderr",
     "output_type": "stream",
     "text": [
      "Droping Outlayers: 100%|███████████████████████████████████████████████████████| 80771/80771 [00:11<00:00, 7006.39it/s]\n",
      "C, A, F:  85%|█████████████████████████████████████████████████████████████▏          | 85/100 [06:42<01:10,  4.72s/it]"
     ]
    },
    {
     "name": "stdout",
     "output_type": "stream",
     "text": [
      "Optimization terminated successfully.\n",
      "         Current function value: 35750.814801\n",
      "         Iterations: 46\n",
      "         Function evaluations: 85\n"
     ]
    },
    {
     "name": "stderr",
     "output_type": "stream",
     "text": [
      "C, A, F:  85%|█████████████████████████████████████████████████████████████▏          | 85/100 [06:42<01:11,  4.74s/it]\n"
     ]
    },
    {
     "name": "stdout",
     "output_type": "stream",
     "text": [
      "[ 1.12830285e+00  4.18049889e-03 -6.79165404e-01  3.13480598e-03\n",
      "  2.15742967e-03  7.40732289e-04  8.39575408e-02 -7.21502667e-06\n",
      " -4.92018266e-03 -1.23802454e-03  7.28617422e+02  4.77603775e+02\n",
      "  7.73955862e-01]\n"
     ]
    }
   ],
   "source": [
    "result_list = []\n",
    "result_0 = [1, 0, 0, 0.003, 0.0001, 0.00001, 0, 0, 0, 0.001, 724, 472, 0]\n",
    "result_list += paso1(result_0)\n",
    "result_list += paso2(result_list[-1])\n",
    "for i in range(10):\n",
    "    result_list += paso3(result_list[-1])\n",
    "    result_list += paso4(result_list[-1])\n",
    "    result_list += paso5(result_list[-1])"
   ]
  },
  {
   "cell_type": "code",
   "execution_count": null,
   "metadata": {},
   "outputs": [],
   "source": []
  },
  {
   "cell_type": "markdown",
   "metadata": {},
   "source": [
    "# Desarrollo"
   ]
  },
  {
   "cell_type": "code",
   "execution_count": null,
   "metadata": {},
   "outputs": [],
   "source": [
    "\"\"\"\n",
    "314 - V, S, D, P, Q, X0, Y0, a0\n",
    "\"\"\"\n",
    "\n",
    "def construct_acumulate_alt_xi(x_list, y_list, z_list, ctes = None):\n",
    "    def acumulate_xi(params):\n",
    "        V, S, D, P, Q, X0, Y0, a0 = ctes\n",
    "        C, A, F, E, ep, = params\n",
    "        suma_xi = 0\n",
    "        for x, y, z in zip(x_list, y_list, z_list):\n",
    "            xi = construct_alt_xi(int(x), int(y), int(z))\n",
    "            suma_xi += xi(C, A, F, V, S, D, P, Q, E, ep, float(X0), float(Y0), a0)\n",
    "        pbar.update()\n",
    "        return suma_xi\n",
    "    return acumulate_xi\n",
    "\n",
    "def construct_acumulate_az_xi(x_list, y_list, z_list, ctes = None):\n",
    "    def acumulate_xi(params):\n",
    "        V, S, D, P, Q, X0, Y0, a0 = ctes\n",
    "        C, A, F, E, ep, = params\n",
    "        suma_xi = 0\n",
    "        for x, y, z in zip(x_list, y_list, z_list):\n",
    "            xi = construct_az_xi(int(x), int(y), int(z))\n",
    "            suma_xi += xi(C, A, F, V, S, D, P, Q, E, ep, float(X0), float(Y0), a0)\n",
    "        pbar.update()\n",
    "        return suma_xi\n",
    "    return acumulate_xi\n",
    "\n",
    "######################################################################################################\n",
    "\n",
    "def amoeba(params, mega_alt_xi, mega_az_xi):\n",
    "    new_alt_params = optimize.fmin(mega_alt_xi, params, maxfun=1100)\n",
    "#     new_az_params = optimize.fmin(mega_az_xi, params, maxfun=1100)\n",
    "    return [new_alt_params]"
   ]
  },
  {
   "cell_type": "code",
   "execution_count": null,
   "metadata": {},
   "outputs": [],
   "source": [
    "init_params = [0.01, 0, 0, 0, 0]\n",
    "ctes = [0.03, 0.007, 0.09, 2.2*10**-6, 0.006,\n",
    "           724, 472, 0]\n",
    "\n",
    "data = pd.read_csv(\"Data.pixtab\", sep=\" \")\n",
    "data = data.dropna()\n",
    "data = drop_outlayers_by_borovicka(data, construct_altura_deg(*init_params[:3], *ctes[:-3], *init_params[-2:], *ctes[-3:]), 5)\n",
    "x_exp = data.x.values\n",
    "y_exp = data.y.values\n",
    "alt_catalogo = data.alt.values\n",
    "az_catalogo = np.rad2deg(np.arccos(np.cos(np.deg2rad(data.az.values))))\n",
    "mega_alt_xi = construct_acumulate_alt_xi(x_exp, y_exp, alt_catalogo, ctes)\n",
    "mega_az_xi = construct_acumulate_az_xi(x_exp, y_exp, az_catalogo, ctes)\n",
    "results_list = []"
   ]
  },
  {
   "cell_type": "code",
   "execution_count": null,
   "metadata": {
    "scrolled": true
   },
   "outputs": [],
   "source": [
    "pbar = tqdm(total=2200, desc=\"Aproximando altura y azimuth\")\n",
    "results_list += amoeba(init_params, mega_alt_xi, mega_az_xi)\n",
    "pbar.close()\n",
    "results_list[-1]"
   ]
  },
  {
   "cell_type": "code",
   "execution_count": 88,
   "metadata": {
    "scrolled": false
   },
   "outputs": [
    {
     "data": {
      "image/png": "[encoded data removed]",
      "text/plain": [
       "<Figure size 432x288 with 2 Axes>"
      ]
     },
     "metadata": {
      "needs_background": "light"
     },
     "output_type": "display_data"
    },
    {
     "data": {
      "image/png": "[encoded data removed]",
      "text/plain": [
       "<Figure size 432x288 with 2 Axes>"
      ]
     },
     "metadata": {
      "needs_background": "light"
     },
     "output_type": "display_data"
    }
   ],
   "source": [
    "# result_3 = (0.09935315, -0.03387904, -0.04467695,\n",
    "#              0.03, 0.007, 0.09, 2.2*10**-6, 0.006,\n",
    "#             0.01311418, -0.00192129, 724, 472, 0)\n",
    "plot_altura(result_5)\n",
    "plot_azimuth(result_5)"
   ]
  },
  {
   "cell_type": "code",
   "execution_count": null,
   "metadata": {},
   "outputs": [],
   "source": []
  },
  {
   "cell_type": "code",
   "execution_count": null,
   "metadata": {},
   "outputs": [],
   "source": []
  },
  {
   "cell_type": "code",
   "execution_count": null,
   "metadata": {},
   "outputs": [],
   "source": []
  },
  {
   "cell_type": "code",
   "execution_count": 56,
   "metadata": {
    "scrolled": true
   },
   "outputs": [
    {
     "data": {
      "text/plain": [
       "(3097.2029313855865, 2606.152930003487)"
      ]
     },
     "execution_count": 56,
     "metadata": {},
     "output_type": "execute_result"
    }
   ],
   "source": [
    "data = pd.read_csv(\"Data.pixtab\", sep=\" \")\n",
    "data = data.dropna()\n",
    "# data = drop_outlayers_by_borovicka(data, construct_altura_deg(*init_params[:3], *ctes[:-3], *init_params[-2:], *ctes[-3:]), 5)\n",
    "x_exp = data.x.values\n",
    "y_exp = data.y.values\n",
    "alt_catalogo = data.alt.values\n",
    "az_catalogo = np.rad2deg(np.arccos(np.cos(np.deg2rad(data.az.values))))\n",
    "mega_alt_xi = construct_acumulate_alt_xi(x_exp, y_exp, alt_catalogo, ctes)\n",
    "mega_az_xi = construct_acumulate_az_xi(x_exp, y_exp, az_catalogo, ctes)\n",
    "\n",
    "old_params = np.array([0.01, 0, 0, 0, 0])\n",
    "new_params = np.array([0.09935315, -0.03387904, -0.04467695,  0.01311418, -0.00192129])\n",
    "(mega_alt_xi(old_params)/len(x_exp), mega_alt_xi(new_params)/len(x_exp))"
   ]
  },
  {
   "cell_type": "code",
   "execution_count": 83,
   "metadata": {
    "scrolled": true
   },
   "outputs": [
    {
     "data": {
      "text/plain": [
       "<matplotlib.collections.PathCollection at 0x26f12c30>"
      ]
     },
     "execution_count": 83,
     "metadata": {},
     "output_type": "execute_result"
    },
    {
     "data": {
      "image/png": "[encoded data removed]",
      "text/plain": [
       "<Figure size 432x288 with 1 Axes>"
      ]
     },
     "metadata": {
      "needs_background": "light"
     },
     "output_type": "display_data"
    }
   ],
   "source": [
    "plt.gca().invert_yaxis()\n",
    "plt.scatter(x_exp, y_exp, c=alt_catalogo, s=0.01)"
   ]
  },
  {
   "cell_type": "code",
   "execution_count": 82,
   "metadata": {},
   "outputs": [
    {
     "data": {
      "text/html": [
       "<div>\n",
       "<style scoped>\n",
       "    .dataframe tbody tr th:only-of-type {\n",
       "        vertical-align: middle;\n",
       "    }\n",
       "\n",
       "    .dataframe tbody tr th {\n",
       "        vertical-align: top;\n",
       "    }\n",
       "\n",
       "    .dataframe thead th {\n",
       "        text-align: right;\n",
       "    }\n",
       "</style>\n",
       "<table border=\"1\" class=\"dataframe\">\n",
       "  <thead>\n",
       "    <tr style=\"text-align: right;\">\n",
       "      <th></th>\n",
       "      <th>x</th>\n",
       "      <th>y</th>\n",
       "      <th>alt</th>\n",
       "      <th>az</th>\n",
       "      <th>alt_err</th>\n",
       "      <th>az_err</th>\n",
       "      <th>sample_size</th>\n",
       "    </tr>\n",
       "  </thead>\n",
       "  <tbody>\n",
       "    <tr>\n",
       "      <td>23996</td>\n",
       "      <td>776</td>\n",
       "      <td>15</td>\n",
       "      <td>0.937309</td>\n",
       "      <td>308.149175</td>\n",
       "      <td>0.000000</td>\n",
       "      <td>0.000000</td>\n",
       "      <td>1</td>\n",
       "    </tr>\n",
       "    <tr>\n",
       "      <td>28635</td>\n",
       "      <td>771</td>\n",
       "      <td>18</td>\n",
       "      <td>0.887168</td>\n",
       "      <td>308.106391</td>\n",
       "      <td>0.000000</td>\n",
       "      <td>0.000000</td>\n",
       "      <td>1</td>\n",
       "    </tr>\n",
       "    <tr>\n",
       "      <td>30185</td>\n",
       "      <td>773</td>\n",
       "      <td>19</td>\n",
       "      <td>0.987568</td>\n",
       "      <td>308.191987</td>\n",
       "      <td>0.000000</td>\n",
       "      <td>0.000000</td>\n",
       "      <td>1</td>\n",
       "    </tr>\n",
       "    <tr>\n",
       "      <td>31742</td>\n",
       "      <td>782</td>\n",
       "      <td>20</td>\n",
       "      <td>1.388334</td>\n",
       "      <td>308.531775</td>\n",
       "      <td>0.000000</td>\n",
       "      <td>0.000000</td>\n",
       "      <td>1</td>\n",
       "    </tr>\n",
       "    <tr>\n",
       "      <td>31743</td>\n",
       "      <td>783</td>\n",
       "      <td>20</td>\n",
       "      <td>1.263402</td>\n",
       "      <td>308.426099</td>\n",
       "      <td>0.025442</td>\n",
       "      <td>0.021529</td>\n",
       "      <td>2</td>\n",
       "    </tr>\n",
       "    <tr>\n",
       "      <td>...</td>\n",
       "      <td>...</td>\n",
       "      <td>...</td>\n",
       "      <td>...</td>\n",
       "      <td>...</td>\n",
       "      <td>...</td>\n",
       "      <td>...</td>\n",
       "      <td>...</td>\n",
       "    </tr>\n",
       "    <tr>\n",
       "      <td>1347413</td>\n",
       "      <td>653</td>\n",
       "      <td>870</td>\n",
       "      <td>13.191352</td>\n",
       "      <td>124.805800</td>\n",
       "      <td>0.054763</td>\n",
       "      <td>0.030512</td>\n",
       "      <td>10</td>\n",
       "    </tr>\n",
       "    <tr>\n",
       "      <td>1348961</td>\n",
       "      <td>653</td>\n",
       "      <td>871</td>\n",
       "      <td>13.060703</td>\n",
       "      <td>124.878720</td>\n",
       "      <td>0.047067</td>\n",
       "      <td>0.026309</td>\n",
       "      <td>8</td>\n",
       "    </tr>\n",
       "    <tr>\n",
       "      <td>1348962</td>\n",
       "      <td>654</td>\n",
       "      <td>871</td>\n",
       "      <td>12.965081</td>\n",
       "      <td>124.932251</td>\n",
       "      <td>0.031301</td>\n",
       "      <td>0.017547</td>\n",
       "      <td>3</td>\n",
       "    </tr>\n",
       "    <tr>\n",
       "      <td>1350509</td>\n",
       "      <td>653</td>\n",
       "      <td>872</td>\n",
       "      <td>12.975848</td>\n",
       "      <td>124.926209</td>\n",
       "      <td>0.000000</td>\n",
       "      <td>0.000000</td>\n",
       "      <td>1</td>\n",
       "    </tr>\n",
       "    <tr>\n",
       "      <td>1350510</td>\n",
       "      <td>654</td>\n",
       "      <td>872</td>\n",
       "      <td>12.903021</td>\n",
       "      <td>124.967067</td>\n",
       "      <td>0.026221</td>\n",
       "      <td>0.014724</td>\n",
       "      <td>5</td>\n",
       "    </tr>\n",
       "  </tbody>\n",
       "</table>\n",
       "<p>80771 rows × 7 columns</p>\n",
       "</div>"
      ],
      "text/plain": [
       "           x    y        alt          az   alt_err    az_err  sample_size\n",
       "23996    776   15   0.937309  308.149175  0.000000  0.000000            1\n",
       "28635    771   18   0.887168  308.106391  0.000000  0.000000            1\n",
       "30185    773   19   0.987568  308.191987  0.000000  0.000000            1\n",
       "31742    782   20   1.388334  308.531775  0.000000  0.000000            1\n",
       "31743    783   20   1.263402  308.426099  0.025442  0.021529            2\n",
       "...      ...  ...        ...         ...       ...       ...          ...\n",
       "1347413  653  870  13.191352  124.805800  0.054763  0.030512           10\n",
       "1348961  653  871  13.060703  124.878720  0.047067  0.026309            8\n",
       "1348962  654  871  12.965081  124.932251  0.031301  0.017547            3\n",
       "1350509  653  872  12.975848  124.926209  0.000000  0.000000            1\n",
       "1350510  654  872  12.903021  124.967067  0.026221  0.014724            5\n",
       "\n",
       "[80771 rows x 7 columns]"
      ]
     },
     "execution_count": 82,
     "metadata": {},
     "output_type": "execute_result"
    }
   ],
   "source": [
    "data"
   ]
  },
  {
   "cell_type": "code",
   "execution_count": null,
   "metadata": {},
   "outputs": [],
   "source": []
  },
  {
   "cell_type": "code",
   "execution_count": null,
   "metadata": {},
   "outputs": [],
   "source": []
  },
  {
   "cell_type": "code",
   "execution_count": null,
   "metadata": {},
   "outputs": [],
   "source": []
  },
  {
   "cell_type": "code",
   "execution_count": null,
   "metadata": {},
   "outputs": [],
   "source": []
  },
  {
   "cell_type": "code",
   "execution_count": null,
   "metadata": {},
   "outputs": [],
   "source": []
  },
  {
   "cell_type": "code",
   "execution_count": null,
   "metadata": {},
   "outputs": [],
   "source": []
  },
  {
   "cell_type": "code",
   "execution_count": null,
   "metadata": {},
   "outputs": [],
   "source": [
    "\"\"\"\n",
    "311 - C, A, F, V, S, D, P, Q, ep, a0\n",
    "\"\"\"\n",
    "\n",
    "def construct_acumulate_alt_xi(x_list, y_list, z_list, ctes = None):\n",
    "    def acumulate_xi(params):\n",
    "        C, A, F, V, S, D, P, Q, ep = ctes\n",
    "        E, X0, Y0, a0, = params\n",
    "        suma_xi = 0\n",
    "        for x, y, z in zip(x_list, y_list, z_list):\n",
    "            xi = construct_alt_xi(int(x), int(y), int(z))\n",
    "            suma_xi += xi(C, A, F, V, S, D, P, Q, E, ep, float(X0), float(Y0), a0)\n",
    "        pbar.update()\n",
    "        return suma_xi\n",
    "    return acumulate_xi\n",
    "\n",
    "def construct_acumulate_az_xi(x_list, y_list, z_list, ctes = None):\n",
    "    def acumulate_xi(params):\n",
    "        C, A, F, V, S, D, P, Q, ep = ctes\n",
    "        E, X0, Y0, a0, = params\n",
    "        suma_xi = 0\n",
    "        for x, y, z in zip(x_list, y_list, z_list):\n",
    "            xi = construct_az_xi(int(x), int(y), int(z))\n",
    "            suma_xi += xi(C, A, F, V, S, D, P, Q, E, ep, float(X0), float(Y0), a0)\n",
    "        pbar.update()\n",
    "        return suma_xi\n",
    "    return acumulate_xi\n",
    "\n",
    "######################################################################################################\n",
    "\n",
    "def amoeba(params, mega_alt_xi, mega_az_xi):\n",
    "#     new_alt_params = optimize.fmin(mega_alt_xi, params, maxfun=1100)\n",
    "    new_az_params = optimize.fmin(mega_az_xi, params, maxfun=1100)\n",
    "    return [new_az_params]"
   ]
  },
  {
   "cell_type": "code",
   "execution_count": null,
   "metadata": {},
   "outputs": [],
   "source": [
    "init_params = [0, 724, 472, 0]\n",
    "ctes = [0.01, 0, 0,\n",
    "         0.03, 0.007, 0.09, 2.2*10**-6, 0.006,\n",
    "         0]\n",
    "\n",
    "data = pd.read_csv(\"Data.pixtab\", sep=\" \")\n",
    "data = data.dropna()\n",
    "# data = drop_outlayers_by_borovicka(data, construct_altura_deg(*ctes[:-1], init_params[0], ctes[-1], *init_params[-3:]), 5)\n",
    "x_exp = data.x.values\n",
    "y_exp = data.y.values\n",
    "alt_catalogo = data.alt.values\n",
    "az_catalogo = np.rad2deg(np.arccos(np.cos(np.deg2rad(data.az.values))))\n",
    "mega_alt_xi = construct_acumulate_alt_xi(x_exp, y_exp, alt_catalogo, ctes)\n",
    "mega_az_xi = construct_acumulate_az_xi(x_exp, y_exp, az_catalogo, ctes)\n",
    "results_list = []"
   ]
  },
  {
   "cell_type": "code",
   "execution_count": null,
   "metadata": {},
   "outputs": [],
   "source": [
    "pbar = tqdm(total=1100, desc=\"Aproximando altura y azimuth\")\n",
    "results_list += amoeba(init_params, mega_alt_xi, mega_az_xi)\n",
    "pbar.close()\n",
    "results_list[-1]"
   ]
  },
  {
   "cell_type": "code",
   "execution_count": null,
   "metadata": {},
   "outputs": [],
   "source": [
    "result_5 = (0.048826087003725455, -0.021142174069559417, 0.32598730818211297,\n",
    "             0.0682171007, 0.00310608468, -5.75141386e-05, 4.26865327e-06,\n",
    "             -0.00415889519, -4.82552710e-03, -0.0022711518934522366, 7.28125200e+02,  4.78181845e+02, 7.73853421e-01)\n",
    "plot_altura(result_5)\n",
    "plot_azimuth(result_5)"
   ]
  },
  {
   "cell_type": "code",
   "execution_count": null,
   "metadata": {},
   "outputs": [],
   "source": []
  },
  {
   "cell_type": "code",
   "execution_count": null,
   "metadata": {},
   "outputs": [],
   "source": []
  },
  {
   "cell_type": "code",
   "execution_count": 89,
   "metadata": {},
   "outputs": [
    {
     "name": "stdout",
     "output_type": "stream",
     "text": [
      "alt:  2.789771895493573 2.289967075700726\n",
      "az:  15.697777076109274 15.733131874659382\n"
     ]
    }
   ],
   "source": [
    "\"\"\"\n",
    "314 - V, S, D, P, Q, X0, Y0, a0\n",
    "\"\"\"\n",
    "\n",
    "def construct_acumulate_alt_xi(x_list, y_list, z_list, ctes = None):\n",
    "    def acumulate_xi(params):\n",
    "        C, A, F, V, S, D, P, Q, E, ep, X0, Y0, a0 = params\n",
    "        suma_xi = 0\n",
    "        for x, y, z in zip(x_list, y_list, z_list):\n",
    "            xi = construct_alt_xi(int(x), int(y), int(z))\n",
    "            suma_xi += xi(C, A, F, V, S, D, P, Q, E, ep, float(X0), float(Y0), a0)\n",
    "        pbar.update()\n",
    "        return suma_xi\n",
    "    return acumulate_xi\n",
    "\n",
    "def construct_acumulate_az_xi(x_list, y_list, z_list, ctes = None):\n",
    "    def acumulate_xi(params):\n",
    "        C, A, F, V, S, D, P, Q, E, ep, X0, Y0, a0 = params\n",
    "        suma_xi = 0\n",
    "        for x, y, z in zip(x_list, y_list, z_list):\n",
    "            xi = construct_az_xi(int(x), int(y), int(z))\n",
    "            suma_xi += xi(C, A, F, V, S, D, P, Q, E, ep, float(X0), float(Y0), a0)\n",
    "        pbar.update()\n",
    "        return suma_xi\n",
    "    return acumulate_xi\n",
    "\n",
    "data = pd.read_csv(\"Data.pixtab\", sep=\" \")\n",
    "data = data.dropna()\n",
    "# data = drop_outlayers_by_borovicka(data, construct_altura_deg(*ctes[:3],*init_params, *ctes[3:]), 5)\n",
    "x_exp = data.x.values\n",
    "y_exp = data.y.values\n",
    "alt_catalogo = data.alt.values\n",
    "az_catalogo = np.rad2deg(np.arccos(np.cos(np.deg2rad(data.az.values))))\n",
    "mega_alt_xi = construct_acumulate_alt_xi(x_exp, y_exp, alt_catalogo)\n",
    "mega_az_xi = construct_acumulate_az_xi(x_exp, y_exp, az_catalogo)\n",
    "\n",
    "print(\"alt: \",mega_alt_xi(result_4)/len(x_exp), mega_alt_xi(result_5)/len(x_exp))\n",
    "print(\"az: \",mega_az_xi(result_4)/len(x_exp), mega_az_xi(result_5)/len(x_exp))"
   ]
  },
  {
   "cell_type": "code",
   "execution_count": null,
   "metadata": {},
   "outputs": [],
   "source": []
  }
 ],
 "metadata": {
  "kernelspec": {
   "display_name": "Python 3",
   "language": "python",
   "name": "python3"
  },
  "language_info": {
   "codemirror_mode": {
    "name": "ipython",
    "version": 3
   },
   "file_extension": ".py",
   "mimetype": "text/x-python",
   "name": "python",
   "nbconvert_exporter": "python",
   "pygments_lexer": "ipython3",
   "version": "3.7.0"
  }
 },
 "nbformat": 4,
 "nbformat_minor": 2
}
