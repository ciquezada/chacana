{
 "cells": [
  {
   "cell_type": "markdown",
   "metadata": {},
   "source": [
    "# Comparación datos experimentales vs interpolados"
   ]
  },
  {
   "cell_type": "markdown",
   "metadata": {},
   "source": [
    "### Imports necesarios"
   ]
  },
  {
   "cell_type": "code",
   "execution_count": 1,
   "metadata": {},
   "outputs": [],
   "source": [
    "import sys\n",
    "import os\n",
    "cwd = os.getcwd()\n",
    "sys.path.append(cwd + os.sep + \"..\")\n",
    "from class_pixeltable import PixelTable"
   ]
  },
  {
   "cell_type": "markdown",
   "metadata": {},
   "source": [
    "### Cargamos datos experimentales e interpolados"
   ]
  },
  {
   "cell_type": "markdown",
   "metadata": {},
   "source": [
    "##### - Ubicación"
   ]
  },
  {
   "cell_type": "code",
   "execution_count": 2,
   "metadata": {},
   "outputs": [],
   "source": [
    "EXP_PATH = \"..\" + os.sep + \"Data.pixtab\"\n",
    "INT_PATH = \"..\" + os.sep + \"Interpolated_Data.pixtab\""
   ]
  },
  {
   "cell_type": "markdown",
   "metadata": {},
   "source": [
    "##### - Cargamos las tablas"
   ]
  },
  {
   "cell_type": "code",
   "execution_count": 3,
   "metadata": {},
   "outputs": [],
   "source": [
    "experimental_table = PixelTable(data_path = EXP_PATH)\n",
    "interpolated_table = PixelTable(data_path = INT_PATH)"
   ]
  },
  {
   "cell_type": "markdown",
   "metadata": {},
   "source": [
    "### Comparción de una linea de pixeles interpoladas vs experimental"
   ]
  },
  {
   "cell_type": "code",
   "execution_count": 4,
   "metadata": {},
   "outputs": [],
   "source": [
    "from plot_experimental_vs_interpolation import plot_experimental_vs_interpolation"
   ]
  },
  {
   "cell_type": "code",
   "execution_count": 5,
   "metadata": {},
   "outputs": [
    {
     "data": {
      "image/png": "[encoded data removed]",
      "text/plain": [
       "<Figure size 432x288 with 1 Axes>"
      ]
     },
     "metadata": {
      "needs_background": "light"
     },
     "output_type": "display_data"
    }
   ],
   "source": [
    "CTE_PARAMS = (\"x\", 757)\n",
    "\n",
    "X_AXIS = \"y\"\n",
    "Y_AXIS = \"alt\"\n",
    "\n",
    "plot_experimental_vs_interpolation(experimental_table,\n",
    "                                        interpolated_table,\n",
    "                                         cte_params = CTE_PARAMS,\n",
    "                                         x_axis = X_AXIS,\n",
    "                                         y_axis = Y_AXIS)"
   ]
  },
  {
   "cell_type": "markdown",
   "metadata": {},
   "source": [
    "### Plot de una linea de pixeles"
   ]
  },
  {
   "cell_type": "code",
   "execution_count": 6,
   "metadata": {},
   "outputs": [],
   "source": [
    "from plot_pixels import plot_pixels"
   ]
  },
  {
   "cell_type": "code",
   "execution_count": 7,
   "metadata": {},
   "outputs": [
    {
     "ename": "NameError",
     "evalue": "name 'CTE_VALUE' is not defined",
     "output_type": "error",
     "traceback": [
      "\u001b[1;31m---------------------------------------------------------------------------\u001b[0m",
      "\u001b[1;31mNameError\u001b[0m                                 Traceback (most recent call last)",
      "\u001b[1;32m<ipython-input-7-b99a52dd00bb>\u001b[0m in \u001b[0;36m<module>\u001b[1;34m\u001b[0m\n\u001b[0;32m      8\u001b[0m plot_pixels(\n\u001b[0;32m      9\u001b[0m             \u001b[0minterpolated_table\u001b[0m\u001b[1;33m,\u001b[0m\u001b[1;33m\u001b[0m\u001b[0m\n\u001b[1;32m---> 10\u001b[1;33m              \u001b[0mcte_value\u001b[0m \u001b[1;33m=\u001b[0m \u001b[0mCTE_VALUE\u001b[0m\u001b[1;33m,\u001b[0m\u001b[1;33m\u001b[0m\u001b[0m\n\u001b[0m\u001b[0;32m     11\u001b[0m              \u001b[0mx_axis\u001b[0m \u001b[1;33m=\u001b[0m \u001b[0mX_AXIS\u001b[0m\u001b[1;33m,\u001b[0m\u001b[1;33m\u001b[0m\u001b[0m\n\u001b[0;32m     12\u001b[0m              \u001b[0my_axis\u001b[0m \u001b[1;33m=\u001b[0m \u001b[0mY_AXIS\u001b[0m\u001b[1;33m,\u001b[0m\u001b[1;33m\u001b[0m\u001b[0m\n",
      "\u001b[1;31mNameError\u001b[0m: name 'CTE_VALUE' is not defined"
     ]
    }
   ],
   "source": [
    "CTE_PARAMS = (\"x\", 757)\n",
    "\n",
    "X_AXIS = \"y\"\n",
    "Y_AXIS = \"alt\"\n",
    "# MARKER = \"*\"\n",
    "# MARKERSIZE = 0.1\n",
    "\n",
    "plot_pixels(\n",
    "            interpolated_table,\n",
    "             cte_params = CTE_PARAMS,\n",
    "             x_axis = X_AXIS,\n",
    "             y_axis = Y_AXIS,\n",
    "#              marker = MARKER,\n",
    "#              markersize = MARKERSIZE\n",
    "               )"
   ]
  },
  {
   "cell_type": "markdown",
   "metadata": {},
   "source": [
    "### Comparción animada de una linea de pixeles interpoladas vs experimental"
   ]
  },
  {
   "cell_type": "markdown",
   "metadata": {},
   "source": [
    "import necesario (solo jupyter notebook)"
   ]
  },
  {
   "cell_type": "code",
   "execution_count": null,
   "metadata": {},
   "outputs": [],
   "source": [
    "from IPython.display import HTML\n",
    "from matplotlib import rc\n",
    "rc('animation', html='html5')"
   ]
  },
  {
   "cell_type": "code",
   "execution_count": null,
   "metadata": {},
   "outputs": [],
   "source": [
    "from animation_plot_experimental_vs_interpolation import animation_plot_experimental_vs_interpolation"
   ]
  },
  {
   "cell_type": "code",
   "execution_count": null,
   "metadata": {},
   "outputs": [],
   "source": [
    "CTE_PARAM = \"x\"\n",
    "X_AXIS = \"y\"\n",
    "Y_AXIS = \"alt\"\n",
    "\n",
    "animation_plot_experimental_vs_interpolation(\n",
    "                                experimental_table,\n",
    "                                    interpolated_table,\n",
    "                                        cte_param = CTE_PARAM,\n",
    "                                             x_axis = X_AXIS,\n",
    "                                                 y_axis = Y_AXIS)"
   ]
  },
  {
   "cell_type": "code",
   "execution_count": null,
   "metadata": {},
   "outputs": [],
   "source": []
  }
 ],
 "metadata": {
  "kernelspec": {
   "display_name": "Python 3",
   "language": "python",
   "name": "python3"
  },
  "language_info": {
   "codemirror_mode": {
    "name": "ipython",
    "version": 3
   },
   "file_extension": ".py",
   "mimetype": "text/x-python",
   "name": "python",
   "nbconvert_exporter": "python",
   "pygments_lexer": "ipython3",
   "version": "3.7.0"
  }
 },
 "nbformat": 4,
 "nbformat_minor": 2
}
