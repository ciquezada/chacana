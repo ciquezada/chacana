{
 "cells": [
  {
   "cell_type": "markdown",
   "metadata": {},
   "source": [
    "## Interpolacion con circulos"
   ]
  },
  {
   "cell_type": "markdown",
   "metadata": {},
   "source": [
    "Hacemos los imports necesarios"
   ]
  },
  {
   "cell_type": "code",
   "execution_count": 113,
   "metadata": {},
   "outputs": [],
   "source": [
    "import numpy as np\n",
    "import matplotlib.pyplot as plt"
   ]
  },
  {
   "cell_type": "markdown",
   "metadata": {},
   "source": [
    "### Buscamos el cenith"
   ]
  },
  {
   "cell_type": "markdown",
   "metadata": {},
   "source": [
    "Para ello usamo la función de detección de circulos la cuál\n",
    "fue alimentada con distintos slices de la interpolación\n",
    "lineal hecha con anterioridad.\n",
    ">imágenes en \"chacana\\Matriz de pixeles\\circles_detector\\circles 1\\\\\""
   ]
  },
  {
   "cell_type": "code",
   "execution_count": 114,
   "metadata": {},
   "outputs": [],
   "source": [
    "from circles_detector.class_circle_detector import circle_detector"
   ]
  },
  {
   "cell_type": "code",
   "execution_count": 115,
   "metadata": {},
   "outputs": [
    {
     "name": "stdout",
     "output_type": "stream",
     "text": [
      "\n",
      "Iniciando Detector de Circulos...\n",
      "buscando en imagenes en:\n",
      " \"D:\\Karlos\\Universidad\\Investigación\\chacana\\Matriz de pixeles\\circles_detector\\circles\\\"\n",
      "...centro promedio en\n",
      "\tx=726.9333333333333, y=478.6666666666667\n",
      "...con desviacion estandar:\n",
      "\tx_err=4.373658524495126, y_err=3.9777157040470117\n"
     ]
    }
   ],
   "source": [
    "detection = circle_detector()\n",
    "x_center = detection.detections_mean[1]\n",
    "y_center =  detection.detections_mean[0]"
   ]
  },
  {
   "cell_type": "markdown",
   "metadata": {},
   "source": [
    "este es el centro promedio que utilizaremos"
   ]
  },
  {
   "cell_type": "markdown",
   "metadata": {},
   "source": [
    "### Pixeles según un radio"
   ]
  },
  {
   "cell_type": "markdown",
   "metadata": {},
   "source": [
    "Cargamos los datos experimentales"
   ]
  },
  {
   "cell_type": "code",
   "execution_count": 103,
   "metadata": {},
   "outputs": [],
   "source": [
    "from class_pixeltable import PixelTable"
   ]
  },
  {
   "cell_type": "code",
   "execution_count": 104,
   "metadata": {},
   "outputs": [],
   "source": [
    "table = PixelTable(data_path = \"Data.pixtab\")"
   ]
  },
  {
   "cell_type": "markdown",
   "metadata": {},
   "source": [
    "Reducimos un poco la tabla para optimizar recursos"
   ]
  },
  {
   "cell_type": "code",
   "execution_count": 105,
   "metadata": {},
   "outputs": [],
   "source": [
    "X_MIN, X_MAX, Y_MIN, Y_MAX = 300, 1500, 0, 900\n",
    "query_str = \"{}<=x<={} and {}<=y<={}\".format(X_MIN, X_MAX, Y_MIN, Y_MAX)\n",
    "data = table.df.dropna(thresh = 7).query(query_str)\n",
    "# data"
   ]
  },
  {
   "cell_type": "markdown",
   "metadata": {},
   "source": [
    "Ahora filtramos los pixeles que se encuentren en un\n",
    "sierto radio (157) al rededor del cenith"
   ]
  },
  {
   "cell_type": "code",
   "execution_count": 106,
   "metadata": {},
   "outputs": [],
   "source": [
    "radio = 157\n",
    "query = \"{}//0.1*10 == ((x-{})**2 + (y-{})**2)**(1/2)//0.1*10\"\n",
    "df_circle = data.query(query.format(radio, x_center, y_center)).dropna()\n",
    "# df_circle"
   ]
  },
  {
   "cell_type": "markdown",
   "metadata": {},
   "source": [
    "Graficamos la altura (eje Y) de los pixeles filtrados, esperamos que por simetria azimutal la altura sea \n",
    "la misma para todos los pixeles"
   ]
  },
  {
   "cell_type": "code",
   "execution_count": 108,
   "metadata": {},
   "outputs": [
    {
     "data": {
      "text/plain": [
       "59.26431478945077"
      ]
     },
     "execution_count": 108,
     "metadata": {},
     "output_type": "execute_result"
    },
    {
     "data": {
      "image/png": "[encoded data removed]",
      "text/plain": [
       "<Figure size 432x288 with 1 Axes>"
      ]
     },
     "metadata": {
      "needs_background": "light"
     },
     "output_type": "display_data"
    }
   ],
   "source": [
    "plt.scatter(df_circle.x, df_circle.alt)\n",
    "np.mean(df_circle.alt.values)"
   ]
  },
  {
   "cell_type": "markdown",
   "metadata": {},
   "source": [
    "Vemos que la altura cumple con sierto comportamiento constante exceptuando\n",
    "por algunos pixeles *outlayers*."
   ]
  },
  {
   "cell_type": "markdown",
   "metadata": {},
   "source": [
    "### Descartamos pixeles *outlayers*"
   ]
  },
  {
   "cell_type": "markdown",
   "metadata": {},
   "source": [
    "Para ello utilizaremos el método z-score de la función stats de la librería scipy"
   ]
  },
  {
   "cell_type": "code",
   "execution_count": 109,
   "metadata": {},
   "outputs": [],
   "source": [
    "from scipy import stats"
   ]
  },
  {
   "cell_type": "markdown",
   "metadata": {},
   "source": [
    "Este método arroja una puntuación que es mayor mientras más se aleja\n",
    "del valor medio.\n",
    "Elegimos puntuaciones menores a 1 como threshold"
   ]
  },
  {
   "cell_type": "code",
   "execution_count": 116,
   "metadata": {},
   "outputs": [],
   "source": [
    "z = stats.zscore(df_circle.alt.values)\n",
    "indx = np.where(np.abs(z) < 1) "
   ]
  },
  {
   "cell_type": "markdown",
   "metadata": {},
   "source": [
    "Volvemos a graficar la altura para ver resultados"
   ]
  },
  {
   "cell_type": "code",
   "execution_count": 117,
   "metadata": {
    "scrolled": true
   },
   "outputs": [
    {
     "data": {
      "text/plain": [
       "59.84453214188941"
      ]
     },
     "execution_count": 117,
     "metadata": {},
     "output_type": "execute_result"
    },
    {
     "data": {
      "image/png": "[encoded data removed]",
      "text/plain": [
       "<Figure size 432x288 with 1 Axes>"
      ]
     },
     "metadata": {
      "needs_background": "light"
     },
     "output_type": "display_data"
    }
   ],
   "source": [
    "plt.scatter(df_circle.x.values[indx], df_circle.alt.values[indx])\n",
    "alt_mean = np.mean(df_circle.alt.values[indx])\n",
    "alt_mean"
   ]
  },
  {
   "cell_type": "markdown",
   "metadata": {},
   "source": [
    "Como vemos se han descartado los pixeles con valores atípicos"
   ]
  },
  {
   "cell_type": "markdown",
   "metadata": {},
   "source": [
    "### Interpolación"
   ]
  },
  {
   "cell_type": "markdown",
   "metadata": {},
   "source": [
    "Por último interpolamos las alturas asignando la altura promedio a todos los pixeles en ese radio. Cumpliendo así con la simetria azimutal"
   ]
  },
  {
   "cell_type": "code",
   "execution_count": 118,
   "metadata": {},
   "outputs": [
    {
     "name": "stderr",
     "output_type": "stream",
     "text": [
      "d:\\programas\\directorios\\python\\lib\\site-packages\\ipykernel_launcher.py:2: DeprecationWarning: object of type <class 'float'> cannot be safely interpreted as an integer.\n",
      "  \n"
     ]
    },
    {
     "data": {
      "text/plain": [
       "<matplotlib.collections.PathCollection at 0x1ae943b0>"
      ]
     },
     "execution_count": 118,
     "metadata": {},
     "output_type": "execute_result"
    },
    {
     "data": {
      "image/png": "[encoded data removed]",
      "text/plain": [
       "<Figure size 432x288 with 1 Axes>"
      ]
     },
     "metadata": {
      "needs_background": "light"
     },
     "output_type": "display_data"
    }
   ],
   "source": [
    "new_pixels = []\n",
    "theta_range = np.linspace(0, 2*np.pi, 2*np.pi * radio)\n",
    "for theta in theta_range:\n",
    "    new_pixels.append([x_center + radio*np.cos(theta),\n",
    "                        y_center + radio*np.sin(theta),\n",
    "                                                alt_mean, theta])\n",
    "new_pixels = np.array(new_pixels)\n",
    "plt.scatter(new_pixels[:,0], new_pixels[:,2])"
   ]
  }
 ],
 "metadata": {
  "kernelspec": {
   "display_name": "Python 3",
   "language": "python",
   "name": "python3"
  },
  "language_info": {
   "codemirror_mode": {
    "name": "ipython",
    "version": 3
   },
   "file_extension": ".py",
   "mimetype": "text/x-python",
   "name": "python",
   "nbconvert_exporter": "python",
   "pygments_lexer": "ipython3",
   "version": "3.6.4"
  }
 },
 "nbformat": 4,
 "nbformat_minor": 2
}
